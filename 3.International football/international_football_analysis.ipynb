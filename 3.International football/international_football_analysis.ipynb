{
 "cells": [
  {
   "cell_type": "markdown",
   "metadata": {
    "collapsed": true,
    "pycharm": {
     "name": "#%% md\n"
    }
   },
   "source": [
    "# FIFA DATASET"
   ]
  },
  {
   "cell_type": "markdown",
   "source": [
    "# Índice\n",
    "1. [Goleadores](#Goleadores)\n",
    "2. [Partidos](#Partidos)\n",
    "3. [Resultados](#Resultados)"
   ],
   "metadata": {
    "collapsed": false,
    "pycharm": {
     "name": "#%% md\n"
    }
   }
  },
  {
   "cell_type": "markdown",
   "source": [
    "Descripcion"
   ],
   "metadata": {
    "collapsed": false,
    "pycharm": {
     "name": "#%% md\n"
    }
   }
  },
  {
   "cell_type": "code",
   "execution_count": 840,
   "outputs": [],
   "source": [
    "import pandas as pd\n",
    "import numpy as np"
   ],
   "metadata": {
    "collapsed": false,
    "pycharm": {
     "name": "#%%\n"
    }
   }
  },
  {
   "cell_type": "code",
   "execution_count": 841,
   "outputs": [],
   "source": [
    "ruta_goleadores = 'data/goalscorers.csv'\n",
    "ruta_partidos = 'data/results.csv'\n",
    "ruta_resultados = 'data/shootouts.csv'"
   ],
   "metadata": {
    "collapsed": false,
    "pycharm": {
     "name": "#%%\n"
    }
   }
  },
  {
   "cell_type": "markdown",
   "source": [
    "## Goleadores"
   ],
   "metadata": {
    "collapsed": false,
    "pycharm": {
     "name": "#%% md\n"
    }
   }
  },
  {
   "cell_type": "code",
   "execution_count": 842,
   "outputs": [
    {
     "data": {
      "text/plain": "         date  home_team away_team       team            scorer  minute  \\\n0  1916-07-02      Chile   Uruguay    Uruguay   José Piendibene    44.0   \n1  1916-07-02      Chile   Uruguay    Uruguay  Isabelino Gradín    55.0   \n2  1916-07-02      Chile   Uruguay    Uruguay  Isabelino Gradín    70.0   \n3  1916-07-02      Chile   Uruguay    Uruguay   José Piendibene    75.0   \n4  1916-07-06  Argentina     Chile  Argentina     Alberto Ohaco     2.0   \n\n   own_goal  penalty  \n0     False    False  \n1     False    False  \n2     False    False  \n3     False    False  \n4     False    False  ",
      "text/html": "<div>\n<style scoped>\n    .dataframe tbody tr th:only-of-type {\n        vertical-align: middle;\n    }\n\n    .dataframe tbody tr th {\n        vertical-align: top;\n    }\n\n    .dataframe thead th {\n        text-align: right;\n    }\n</style>\n<table border=\"1\" class=\"dataframe\">\n  <thead>\n    <tr style=\"text-align: right;\">\n      <th></th>\n      <th>date</th>\n      <th>home_team</th>\n      <th>away_team</th>\n      <th>team</th>\n      <th>scorer</th>\n      <th>minute</th>\n      <th>own_goal</th>\n      <th>penalty</th>\n    </tr>\n  </thead>\n  <tbody>\n    <tr>\n      <th>0</th>\n      <td>1916-07-02</td>\n      <td>Chile</td>\n      <td>Uruguay</td>\n      <td>Uruguay</td>\n      <td>José Piendibene</td>\n      <td>44.0</td>\n      <td>False</td>\n      <td>False</td>\n    </tr>\n    <tr>\n      <th>1</th>\n      <td>1916-07-02</td>\n      <td>Chile</td>\n      <td>Uruguay</td>\n      <td>Uruguay</td>\n      <td>Isabelino Gradín</td>\n      <td>55.0</td>\n      <td>False</td>\n      <td>False</td>\n    </tr>\n    <tr>\n      <th>2</th>\n      <td>1916-07-02</td>\n      <td>Chile</td>\n      <td>Uruguay</td>\n      <td>Uruguay</td>\n      <td>Isabelino Gradín</td>\n      <td>70.0</td>\n      <td>False</td>\n      <td>False</td>\n    </tr>\n    <tr>\n      <th>3</th>\n      <td>1916-07-02</td>\n      <td>Chile</td>\n      <td>Uruguay</td>\n      <td>Uruguay</td>\n      <td>José Piendibene</td>\n      <td>75.0</td>\n      <td>False</td>\n      <td>False</td>\n    </tr>\n    <tr>\n      <th>4</th>\n      <td>1916-07-06</td>\n      <td>Argentina</td>\n      <td>Chile</td>\n      <td>Argentina</td>\n      <td>Alberto Ohaco</td>\n      <td>2.0</td>\n      <td>False</td>\n      <td>False</td>\n    </tr>\n  </tbody>\n</table>\n</div>"
     },
     "execution_count": 842,
     "metadata": {},
     "output_type": "execute_result"
    }
   ],
   "source": [
    "df_goleadores = pd.read_csv(ruta_goleadores,low_memory = False)\n",
    "df_goleadores.head(5)"
   ],
   "metadata": {
    "collapsed": false,
    "pycharm": {
     "name": "#%%\n"
    }
   }
  },
  {
   "cell_type": "code",
   "execution_count": 843,
   "outputs": [
    {
     "name": "stdout",
     "output_type": "stream",
     "text": [
      "41008\n"
     ]
    }
   ],
   "source": [
    "print(len(df_goleadores))"
   ],
   "metadata": {
    "collapsed": false,
    "pycharm": {
     "name": "#%%\n"
    }
   }
  },
  {
   "cell_type": "code",
   "execution_count": 844,
   "outputs": [
    {
     "name": "stdout",
     "output_type": "stream",
     "text": [
      "<class 'pandas.core.frame.DataFrame'>\n",
      "RangeIndex: 41008 entries, 0 to 41007\n",
      "Data columns (total 8 columns):\n",
      " #   Column     Non-Null Count  Dtype  \n",
      "---  ------     --------------  -----  \n",
      " 0   date       41008 non-null  object \n",
      " 1   home_team  41008 non-null  object \n",
      " 2   away_team  41008 non-null  object \n",
      " 3   team       41008 non-null  object \n",
      " 4   scorer     40959 non-null  object \n",
      " 5   minute     40750 non-null  float64\n",
      " 6   own_goal   41008 non-null  bool   \n",
      " 7   penalty    41008 non-null  bool   \n",
      "dtypes: bool(2), float64(1), object(5)\n",
      "memory usage: 2.0+ MB\n"
     ]
    }
   ],
   "source": [
    "df_goleadores.info()"
   ],
   "metadata": {
    "collapsed": false,
    "pycharm": {
     "name": "#%%\n"
    }
   }
  },
  {
   "cell_type": "code",
   "execution_count": 845,
   "outputs": [
    {
     "data": {
      "text/plain": "            date  home_team away_team       team            scorer  minute  \\\n0     1916-07-02      Chile   Uruguay    Uruguay   José Piendibene    44.0   \n1     1916-07-02      Chile   Uruguay    Uruguay  Isabelino Gradín    55.0   \n2     1916-07-02      Chile   Uruguay    Uruguay  Isabelino Gradín    70.0   \n3     1916-07-02      Chile   Uruguay    Uruguay   José Piendibene    75.0   \n4     1916-07-06  Argentina     Chile  Argentina     Alberto Ohaco     2.0   \n...          ...        ...       ...        ...               ...     ...   \n41003 2022-12-18  Argentina    France  Argentina    Ángel Di María    36.0   \n41004 2022-12-18  Argentina    France     France     Kylian Mbappé    80.0   \n41005 2022-12-18  Argentina    France     France     Kylian Mbappé    81.0   \n41006 2022-12-18  Argentina    France  Argentina      Lionel Messi   109.0   \n41007 2022-12-18  Argentina    France     France     Kylian Mbappé   118.0   \n\n       own_goal  penalty  \n0         False    False  \n1         False    False  \n2         False    False  \n3         False    False  \n4         False    False  \n...         ...      ...  \n41003     False    False  \n41004     False     True  \n41005     False    False  \n41006     False    False  \n41007     False     True  \n\n[41008 rows x 8 columns]",
      "text/html": "<div>\n<style scoped>\n    .dataframe tbody tr th:only-of-type {\n        vertical-align: middle;\n    }\n\n    .dataframe tbody tr th {\n        vertical-align: top;\n    }\n\n    .dataframe thead th {\n        text-align: right;\n    }\n</style>\n<table border=\"1\" class=\"dataframe\">\n  <thead>\n    <tr style=\"text-align: right;\">\n      <th></th>\n      <th>date</th>\n      <th>home_team</th>\n      <th>away_team</th>\n      <th>team</th>\n      <th>scorer</th>\n      <th>minute</th>\n      <th>own_goal</th>\n      <th>penalty</th>\n    </tr>\n  </thead>\n  <tbody>\n    <tr>\n      <th>0</th>\n      <td>1916-07-02</td>\n      <td>Chile</td>\n      <td>Uruguay</td>\n      <td>Uruguay</td>\n      <td>José Piendibene</td>\n      <td>44.0</td>\n      <td>False</td>\n      <td>False</td>\n    </tr>\n    <tr>\n      <th>1</th>\n      <td>1916-07-02</td>\n      <td>Chile</td>\n      <td>Uruguay</td>\n      <td>Uruguay</td>\n      <td>Isabelino Gradín</td>\n      <td>55.0</td>\n      <td>False</td>\n      <td>False</td>\n    </tr>\n    <tr>\n      <th>2</th>\n      <td>1916-07-02</td>\n      <td>Chile</td>\n      <td>Uruguay</td>\n      <td>Uruguay</td>\n      <td>Isabelino Gradín</td>\n      <td>70.0</td>\n      <td>False</td>\n      <td>False</td>\n    </tr>\n    <tr>\n      <th>3</th>\n      <td>1916-07-02</td>\n      <td>Chile</td>\n      <td>Uruguay</td>\n      <td>Uruguay</td>\n      <td>José Piendibene</td>\n      <td>75.0</td>\n      <td>False</td>\n      <td>False</td>\n    </tr>\n    <tr>\n      <th>4</th>\n      <td>1916-07-06</td>\n      <td>Argentina</td>\n      <td>Chile</td>\n      <td>Argentina</td>\n      <td>Alberto Ohaco</td>\n      <td>2.0</td>\n      <td>False</td>\n      <td>False</td>\n    </tr>\n    <tr>\n      <th>...</th>\n      <td>...</td>\n      <td>...</td>\n      <td>...</td>\n      <td>...</td>\n      <td>...</td>\n      <td>...</td>\n      <td>...</td>\n      <td>...</td>\n    </tr>\n    <tr>\n      <th>41003</th>\n      <td>2022-12-18</td>\n      <td>Argentina</td>\n      <td>France</td>\n      <td>Argentina</td>\n      <td>Ángel Di María</td>\n      <td>36.0</td>\n      <td>False</td>\n      <td>False</td>\n    </tr>\n    <tr>\n      <th>41004</th>\n      <td>2022-12-18</td>\n      <td>Argentina</td>\n      <td>France</td>\n      <td>France</td>\n      <td>Kylian Mbappé</td>\n      <td>80.0</td>\n      <td>False</td>\n      <td>True</td>\n    </tr>\n    <tr>\n      <th>41005</th>\n      <td>2022-12-18</td>\n      <td>Argentina</td>\n      <td>France</td>\n      <td>France</td>\n      <td>Kylian Mbappé</td>\n      <td>81.0</td>\n      <td>False</td>\n      <td>False</td>\n    </tr>\n    <tr>\n      <th>41006</th>\n      <td>2022-12-18</td>\n      <td>Argentina</td>\n      <td>France</td>\n      <td>Argentina</td>\n      <td>Lionel Messi</td>\n      <td>109.0</td>\n      <td>False</td>\n      <td>False</td>\n    </tr>\n    <tr>\n      <th>41007</th>\n      <td>2022-12-18</td>\n      <td>Argentina</td>\n      <td>France</td>\n      <td>France</td>\n      <td>Kylian Mbappé</td>\n      <td>118.0</td>\n      <td>False</td>\n      <td>True</td>\n    </tr>\n  </tbody>\n</table>\n<p>41008 rows × 8 columns</p>\n</div>"
     },
     "execution_count": 845,
     "metadata": {},
     "output_type": "execute_result"
    }
   ],
   "source": [
    "df_goleadores_filtrado= df_goleadores.copy()\n",
    "df_goleadores_filtrado[['date' ]]=df_goleadores_filtrado[['date']].apply(pd.to_datetime)\n",
    "df_goleadores_filtrado"
   ],
   "metadata": {
    "collapsed": false,
    "pycharm": {
     "name": "#%%\n"
    }
   }
  },
  {
   "cell_type": "markdown",
   "source": [
    "### Calidad de los datos"
   ],
   "metadata": {
    "collapsed": false,
    "pycharm": {
     "name": "#%% md\n"
    }
   }
  },
  {
   "cell_type": "code",
   "execution_count": 846,
   "outputs": [],
   "source": [
    "def missing_values_table(df):\n",
    "    mis_val = df.isnull().sum()\n",
    "    mis_val_percent = 100 * df.isnull().sum() / len(df)\n",
    "    mis_val_table = pd.concat([mis_val, mis_val_percent], axis=1)\n",
    "    mis_val_table_ren_columns = mis_val_table.rename(\n",
    "        columns={0: 'Valores Faltantes', 1: '% de Valores Totales'})\n",
    "    mis_val_table_ren_columns = mis_val_table_ren_columns[\n",
    "        mis_val_table_ren_columns.iloc[:, 1] != 0].sort_values(\n",
    "        '% de Valores Totales', ascending=False).round(1)\n",
    "    print(\"El dataframe tiene \" + str(df.shape[1]) + \" columnas.\\n\"\n",
    "                                                     \"Hay \" + str(mis_val_table_ren_columns.shape[0]) +\n",
    "          \" columnas que les faltan valores.\")\n",
    "    return mis_val_table_ren_columns"
   ],
   "metadata": {
    "collapsed": false,
    "pycharm": {
     "name": "#%%\n"
    }
   }
  },
  {
   "cell_type": "code",
   "execution_count": 847,
   "outputs": [
    {
     "data": {
      "text/plain": "date           0\nhome_team      0\naway_team      0\nteam           0\nscorer        49\nminute       258\nown_goal       0\npenalty        0\ndtype: int64"
     },
     "execution_count": 847,
     "metadata": {},
     "output_type": "execute_result"
    }
   ],
   "source": [
    "df_goleadores_filtrado.isnull().sum()"
   ],
   "metadata": {
    "collapsed": false,
    "pycharm": {
     "name": "#%%\n"
    }
   }
  },
  {
   "cell_type": "code",
   "execution_count": 848,
   "outputs": [
    {
     "name": "stdout",
     "output_type": "stream",
     "text": [
      "El dataframe tiene 8 columnas.\n",
      "Hay 2 columnas que les faltan valores.\n"
     ]
    },
    {
     "data": {
      "text/plain": "        Valores Faltantes  % de Valores Totales\nminute                258                   0.6\nscorer                 49                   0.1",
      "text/html": "<div>\n<style scoped>\n    .dataframe tbody tr th:only-of-type {\n        vertical-align: middle;\n    }\n\n    .dataframe tbody tr th {\n        vertical-align: top;\n    }\n\n    .dataframe thead th {\n        text-align: right;\n    }\n</style>\n<table border=\"1\" class=\"dataframe\">\n  <thead>\n    <tr style=\"text-align: right;\">\n      <th></th>\n      <th>Valores Faltantes</th>\n      <th>% de Valores Totales</th>\n    </tr>\n  </thead>\n  <tbody>\n    <tr>\n      <th>minute</th>\n      <td>258</td>\n      <td>0.6</td>\n    </tr>\n    <tr>\n      <th>scorer</th>\n      <td>49</td>\n      <td>0.1</td>\n    </tr>\n  </tbody>\n</table>\n</div>"
     },
     "execution_count": 848,
     "metadata": {},
     "output_type": "execute_result"
    }
   ],
   "source": [
    "missing_values_table(df_goleadores_filtrado)"
   ],
   "metadata": {
    "collapsed": false,
    "pycharm": {
     "name": "#%%\n"
    }
   }
  },
  {
   "cell_type": "code",
   "execution_count": 849,
   "outputs": [
    {
     "name": "stdout",
     "output_type": "stream",
     "text": [
      "El dataframe tiene 8 columnas.\n",
      "Hay 2 columnas que les faltan valores.\n",
      "Se eliminan 0 columnas.\n",
      "Son: []\n"
     ]
    }
   ],
   "source": [
    "# Get the columns with > 50% missing\n",
    "missing_df = missing_values_table(df_goleadores_filtrado);\n",
    "missing_columns = list(missing_df[missing_df['% de Valores Totales'] > 50].index)\n",
    "print('Se eliminan %d columnas.' % len(missing_columns))\n",
    "print(f'Son: {missing_columns}')\n",
    "# Drop the columns\n",
    "df_goleadores_filtrado = df_goleadores_filtrado.drop(list(missing_columns), axis=1)"
   ],
   "metadata": {
    "collapsed": false,
    "pycharm": {
     "name": "#%%\n"
    }
   }
  },
  {
   "cell_type": "code",
   "execution_count": 850,
   "outputs": [
    {
     "data": {
      "text/plain": "           date  home_team away_team       team          scorer  minute  \\\n0    2015-01-09  Australia    Kuwait     Kuwait  Hussain Fadhel     8.0   \n1    2015-01-09  Australia    Kuwait  Australia      Tim Cahill    33.0   \n2    2015-01-09  Australia    Kuwait  Australia  Massimo Luongo    45.0   \n3    2015-01-09  Australia    Kuwait  Australia    Mile Jedinak    62.0   \n4    2015-01-09  Australia    Kuwait  Australia    James Troisi    90.0   \n...         ...        ...       ...        ...             ...     ...   \n7865 2022-12-18  Argentina    France  Argentina  Ángel Di María    36.0   \n7866 2022-12-18  Argentina    France     France   Kylian Mbappé    80.0   \n7867 2022-12-18  Argentina    France     France   Kylian Mbappé    81.0   \n7868 2022-12-18  Argentina    France  Argentina    Lionel Messi   109.0   \n7869 2022-12-18  Argentina    France     France   Kylian Mbappé   118.0   \n\n      own_goal  penalty  \n0        False    False  \n1        False    False  \n2        False    False  \n3        False     True  \n4        False    False  \n...        ...      ...  \n7865     False    False  \n7866     False     True  \n7867     False    False  \n7868     False    False  \n7869     False     True  \n\n[7870 rows x 8 columns]",
      "text/html": "<div>\n<style scoped>\n    .dataframe tbody tr th:only-of-type {\n        vertical-align: middle;\n    }\n\n    .dataframe tbody tr th {\n        vertical-align: top;\n    }\n\n    .dataframe thead th {\n        text-align: right;\n    }\n</style>\n<table border=\"1\" class=\"dataframe\">\n  <thead>\n    <tr style=\"text-align: right;\">\n      <th></th>\n      <th>date</th>\n      <th>home_team</th>\n      <th>away_team</th>\n      <th>team</th>\n      <th>scorer</th>\n      <th>minute</th>\n      <th>own_goal</th>\n      <th>penalty</th>\n    </tr>\n  </thead>\n  <tbody>\n    <tr>\n      <th>0</th>\n      <td>2015-01-09</td>\n      <td>Australia</td>\n      <td>Kuwait</td>\n      <td>Kuwait</td>\n      <td>Hussain Fadhel</td>\n      <td>8.0</td>\n      <td>False</td>\n      <td>False</td>\n    </tr>\n    <tr>\n      <th>1</th>\n      <td>2015-01-09</td>\n      <td>Australia</td>\n      <td>Kuwait</td>\n      <td>Australia</td>\n      <td>Tim Cahill</td>\n      <td>33.0</td>\n      <td>False</td>\n      <td>False</td>\n    </tr>\n    <tr>\n      <th>2</th>\n      <td>2015-01-09</td>\n      <td>Australia</td>\n      <td>Kuwait</td>\n      <td>Australia</td>\n      <td>Massimo Luongo</td>\n      <td>45.0</td>\n      <td>False</td>\n      <td>False</td>\n    </tr>\n    <tr>\n      <th>3</th>\n      <td>2015-01-09</td>\n      <td>Australia</td>\n      <td>Kuwait</td>\n      <td>Australia</td>\n      <td>Mile Jedinak</td>\n      <td>62.0</td>\n      <td>False</td>\n      <td>True</td>\n    </tr>\n    <tr>\n      <th>4</th>\n      <td>2015-01-09</td>\n      <td>Australia</td>\n      <td>Kuwait</td>\n      <td>Australia</td>\n      <td>James Troisi</td>\n      <td>90.0</td>\n      <td>False</td>\n      <td>False</td>\n    </tr>\n    <tr>\n      <th>...</th>\n      <td>...</td>\n      <td>...</td>\n      <td>...</td>\n      <td>...</td>\n      <td>...</td>\n      <td>...</td>\n      <td>...</td>\n      <td>...</td>\n    </tr>\n    <tr>\n      <th>7865</th>\n      <td>2022-12-18</td>\n      <td>Argentina</td>\n      <td>France</td>\n      <td>Argentina</td>\n      <td>Ángel Di María</td>\n      <td>36.0</td>\n      <td>False</td>\n      <td>False</td>\n    </tr>\n    <tr>\n      <th>7866</th>\n      <td>2022-12-18</td>\n      <td>Argentina</td>\n      <td>France</td>\n      <td>France</td>\n      <td>Kylian Mbappé</td>\n      <td>80.0</td>\n      <td>False</td>\n      <td>True</td>\n    </tr>\n    <tr>\n      <th>7867</th>\n      <td>2022-12-18</td>\n      <td>Argentina</td>\n      <td>France</td>\n      <td>France</td>\n      <td>Kylian Mbappé</td>\n      <td>81.0</td>\n      <td>False</td>\n      <td>False</td>\n    </tr>\n    <tr>\n      <th>7868</th>\n      <td>2022-12-18</td>\n      <td>Argentina</td>\n      <td>France</td>\n      <td>Argentina</td>\n      <td>Lionel Messi</td>\n      <td>109.0</td>\n      <td>False</td>\n      <td>False</td>\n    </tr>\n    <tr>\n      <th>7869</th>\n      <td>2022-12-18</td>\n      <td>Argentina</td>\n      <td>France</td>\n      <td>France</td>\n      <td>Kylian Mbappé</td>\n      <td>118.0</td>\n      <td>False</td>\n      <td>True</td>\n    </tr>\n  </tbody>\n</table>\n<p>7870 rows × 8 columns</p>\n</div>"
     },
     "execution_count": 850,
     "metadata": {},
     "output_type": "execute_result"
    }
   ],
   "source": [
    "df_goleadores_filtrado = df_goleadores_filtrado[df_goleadores_filtrado['date'].dt.year >= 2015]\n",
    "df_goleadores_filtrado.reset_index(drop=True,inplace=True)\n",
    "df_goleadores_filtrado"
   ],
   "metadata": {
    "collapsed": false,
    "pycharm": {
     "name": "#%%\n"
    }
   }
  },
  {
   "cell_type": "markdown",
   "source": [
    "## Partidos"
   ],
   "metadata": {
    "collapsed": false,
    "pycharm": {
     "name": "#%% md\n"
    }
   }
  },
  {
   "cell_type": "code",
   "execution_count": 851,
   "outputs": [
    {
     "data": {
      "text/plain": "         date home_team away_team  home_score  away_score tournament     city  \\\n0  1872-11-30  Scotland   England           0           0   Friendly  Glasgow   \n1  1873-03-08   England  Scotland           4           2   Friendly   London   \n2  1874-03-07  Scotland   England           2           1   Friendly  Glasgow   \n3  1875-03-06   England  Scotland           2           2   Friendly   London   \n4  1876-03-04  Scotland   England           3           0   Friendly  Glasgow   \n\n    country  neutral  \n0  Scotland    False  \n1   England    False  \n2  Scotland    False  \n3   England    False  \n4  Scotland    False  ",
      "text/html": "<div>\n<style scoped>\n    .dataframe tbody tr th:only-of-type {\n        vertical-align: middle;\n    }\n\n    .dataframe tbody tr th {\n        vertical-align: top;\n    }\n\n    .dataframe thead th {\n        text-align: right;\n    }\n</style>\n<table border=\"1\" class=\"dataframe\">\n  <thead>\n    <tr style=\"text-align: right;\">\n      <th></th>\n      <th>date</th>\n      <th>home_team</th>\n      <th>away_team</th>\n      <th>home_score</th>\n      <th>away_score</th>\n      <th>tournament</th>\n      <th>city</th>\n      <th>country</th>\n      <th>neutral</th>\n    </tr>\n  </thead>\n  <tbody>\n    <tr>\n      <th>0</th>\n      <td>1872-11-30</td>\n      <td>Scotland</td>\n      <td>England</td>\n      <td>0</td>\n      <td>0</td>\n      <td>Friendly</td>\n      <td>Glasgow</td>\n      <td>Scotland</td>\n      <td>False</td>\n    </tr>\n    <tr>\n      <th>1</th>\n      <td>1873-03-08</td>\n      <td>England</td>\n      <td>Scotland</td>\n      <td>4</td>\n      <td>2</td>\n      <td>Friendly</td>\n      <td>London</td>\n      <td>England</td>\n      <td>False</td>\n    </tr>\n    <tr>\n      <th>2</th>\n      <td>1874-03-07</td>\n      <td>Scotland</td>\n      <td>England</td>\n      <td>2</td>\n      <td>1</td>\n      <td>Friendly</td>\n      <td>Glasgow</td>\n      <td>Scotland</td>\n      <td>False</td>\n    </tr>\n    <tr>\n      <th>3</th>\n      <td>1875-03-06</td>\n      <td>England</td>\n      <td>Scotland</td>\n      <td>2</td>\n      <td>2</td>\n      <td>Friendly</td>\n      <td>London</td>\n      <td>England</td>\n      <td>False</td>\n    </tr>\n    <tr>\n      <th>4</th>\n      <td>1876-03-04</td>\n      <td>Scotland</td>\n      <td>England</td>\n      <td>3</td>\n      <td>0</td>\n      <td>Friendly</td>\n      <td>Glasgow</td>\n      <td>Scotland</td>\n      <td>False</td>\n    </tr>\n  </tbody>\n</table>\n</div>"
     },
     "execution_count": 851,
     "metadata": {},
     "output_type": "execute_result"
    }
   ],
   "source": [
    "df_partidos = pd.read_csv(ruta_partidos,low_memory = False)\n",
    "df_partidos.head(5)"
   ],
   "metadata": {
    "collapsed": false,
    "pycharm": {
     "name": "#%%\n"
    }
   }
  },
  {
   "cell_type": "code",
   "execution_count": 852,
   "outputs": [
    {
     "name": "stdout",
     "output_type": "stream",
     "text": [
      "44557\n"
     ]
    }
   ],
   "source": [
    "print(len(df_partidos))"
   ],
   "metadata": {
    "collapsed": false,
    "pycharm": {
     "name": "#%%\n"
    }
   }
  },
  {
   "cell_type": "code",
   "execution_count": 853,
   "outputs": [
    {
     "name": "stdout",
     "output_type": "stream",
     "text": [
      "<class 'pandas.core.frame.DataFrame'>\n",
      "RangeIndex: 44557 entries, 0 to 44556\n",
      "Data columns (total 9 columns):\n",
      " #   Column      Non-Null Count  Dtype \n",
      "---  ------      --------------  ----- \n",
      " 0   date        44557 non-null  object\n",
      " 1   home_team   44557 non-null  object\n",
      " 2   away_team   44557 non-null  object\n",
      " 3   home_score  44557 non-null  int64 \n",
      " 4   away_score  44557 non-null  int64 \n",
      " 5   tournament  44557 non-null  object\n",
      " 6   city        44557 non-null  object\n",
      " 7   country     44557 non-null  object\n",
      " 8   neutral     44557 non-null  bool  \n",
      "dtypes: bool(1), int64(2), object(6)\n",
      "memory usage: 2.8+ MB\n"
     ]
    }
   ],
   "source": [
    "df_partidos.info()"
   ],
   "metadata": {
    "collapsed": false,
    "pycharm": {
     "name": "#%%\n"
    }
   }
  },
  {
   "cell_type": "code",
   "execution_count": 854,
   "outputs": [
    {
     "data": {
      "text/plain": "            date                     home_team                 away_team  \\\n0     1872-11-30                      Scotland                   England   \n1     1873-03-08                       England                  Scotland   \n2     1874-03-07                      Scotland                   England   \n3     1875-03-06                       England                  Scotland   \n4     1876-03-04                      Scotland                   England   \n...          ...                           ...                       ...   \n44552 2023-03-28                         Haiti                   Bermuda   \n44553 2023-03-28                        Guyana                Montserrat   \n44554 2023-03-28                       Bonaire  Turks and Caicos Islands   \n44555 2023-03-28  United States Virgin Islands              Sint Maarten   \n44556 2023-03-29                        Rwanda                     Benin   \n\n       home_score  away_score                            tournament  \\\n0               0           0                              Friendly   \n1               4           2                              Friendly   \n2               2           1                              Friendly   \n3               2           2                              Friendly   \n4               3           0                              Friendly   \n...           ...         ...                                   ...   \n44552           3           1               CONCACAF Nations League   \n44553           0           0               CONCACAF Nations League   \n44554           1           2               CONCACAF Nations League   \n44555           1           2               CONCACAF Nations League   \n44556           1           1  African Cup of Nations qualification   \n\n                city                       country  neutral  \n0            Glasgow                      Scotland    False  \n1             London                       England    False  \n2            Glasgow                      Scotland    False  \n3             London                       England    False  \n4            Glasgow                      Scotland    False  \n...              ...                           ...      ...  \n44552  San Cristóbal            Dominican Republic     True  \n44553     Bridgetown                      Barbados     True  \n44554         Rincon                       Bonaire    False  \n44555    Saint Croix  United States Virgin Islands    False  \n44556         Kigali                        Rwanda    False  \n\n[44557 rows x 9 columns]",
      "text/html": "<div>\n<style scoped>\n    .dataframe tbody tr th:only-of-type {\n        vertical-align: middle;\n    }\n\n    .dataframe tbody tr th {\n        vertical-align: top;\n    }\n\n    .dataframe thead th {\n        text-align: right;\n    }\n</style>\n<table border=\"1\" class=\"dataframe\">\n  <thead>\n    <tr style=\"text-align: right;\">\n      <th></th>\n      <th>date</th>\n      <th>home_team</th>\n      <th>away_team</th>\n      <th>home_score</th>\n      <th>away_score</th>\n      <th>tournament</th>\n      <th>city</th>\n      <th>country</th>\n      <th>neutral</th>\n    </tr>\n  </thead>\n  <tbody>\n    <tr>\n      <th>0</th>\n      <td>1872-11-30</td>\n      <td>Scotland</td>\n      <td>England</td>\n      <td>0</td>\n      <td>0</td>\n      <td>Friendly</td>\n      <td>Glasgow</td>\n      <td>Scotland</td>\n      <td>False</td>\n    </tr>\n    <tr>\n      <th>1</th>\n      <td>1873-03-08</td>\n      <td>England</td>\n      <td>Scotland</td>\n      <td>4</td>\n      <td>2</td>\n      <td>Friendly</td>\n      <td>London</td>\n      <td>England</td>\n      <td>False</td>\n    </tr>\n    <tr>\n      <th>2</th>\n      <td>1874-03-07</td>\n      <td>Scotland</td>\n      <td>England</td>\n      <td>2</td>\n      <td>1</td>\n      <td>Friendly</td>\n      <td>Glasgow</td>\n      <td>Scotland</td>\n      <td>False</td>\n    </tr>\n    <tr>\n      <th>3</th>\n      <td>1875-03-06</td>\n      <td>England</td>\n      <td>Scotland</td>\n      <td>2</td>\n      <td>2</td>\n      <td>Friendly</td>\n      <td>London</td>\n      <td>England</td>\n      <td>False</td>\n    </tr>\n    <tr>\n      <th>4</th>\n      <td>1876-03-04</td>\n      <td>Scotland</td>\n      <td>England</td>\n      <td>3</td>\n      <td>0</td>\n      <td>Friendly</td>\n      <td>Glasgow</td>\n      <td>Scotland</td>\n      <td>False</td>\n    </tr>\n    <tr>\n      <th>...</th>\n      <td>...</td>\n      <td>...</td>\n      <td>...</td>\n      <td>...</td>\n      <td>...</td>\n      <td>...</td>\n      <td>...</td>\n      <td>...</td>\n      <td>...</td>\n    </tr>\n    <tr>\n      <th>44552</th>\n      <td>2023-03-28</td>\n      <td>Haiti</td>\n      <td>Bermuda</td>\n      <td>3</td>\n      <td>1</td>\n      <td>CONCACAF Nations League</td>\n      <td>San Cristóbal</td>\n      <td>Dominican Republic</td>\n      <td>True</td>\n    </tr>\n    <tr>\n      <th>44553</th>\n      <td>2023-03-28</td>\n      <td>Guyana</td>\n      <td>Montserrat</td>\n      <td>0</td>\n      <td>0</td>\n      <td>CONCACAF Nations League</td>\n      <td>Bridgetown</td>\n      <td>Barbados</td>\n      <td>True</td>\n    </tr>\n    <tr>\n      <th>44554</th>\n      <td>2023-03-28</td>\n      <td>Bonaire</td>\n      <td>Turks and Caicos Islands</td>\n      <td>1</td>\n      <td>2</td>\n      <td>CONCACAF Nations League</td>\n      <td>Rincon</td>\n      <td>Bonaire</td>\n      <td>False</td>\n    </tr>\n    <tr>\n      <th>44555</th>\n      <td>2023-03-28</td>\n      <td>United States Virgin Islands</td>\n      <td>Sint Maarten</td>\n      <td>1</td>\n      <td>2</td>\n      <td>CONCACAF Nations League</td>\n      <td>Saint Croix</td>\n      <td>United States Virgin Islands</td>\n      <td>False</td>\n    </tr>\n    <tr>\n      <th>44556</th>\n      <td>2023-03-29</td>\n      <td>Rwanda</td>\n      <td>Benin</td>\n      <td>1</td>\n      <td>1</td>\n      <td>African Cup of Nations qualification</td>\n      <td>Kigali</td>\n      <td>Rwanda</td>\n      <td>False</td>\n    </tr>\n  </tbody>\n</table>\n<p>44557 rows × 9 columns</p>\n</div>"
     },
     "execution_count": 854,
     "metadata": {},
     "output_type": "execute_result"
    }
   ],
   "source": [
    "df_partidos_filtrado= df_partidos.copy()\n",
    "df_partidos_filtrado[['date' ]]=df_partidos_filtrado[['date']].apply(pd.to_datetime)\n",
    "df_partidos_filtrado"
   ],
   "metadata": {
    "collapsed": false,
    "pycharm": {
     "name": "#%%\n"
    }
   }
  },
  {
   "cell_type": "code",
   "execution_count": 855,
   "outputs": [
    {
     "name": "stdout",
     "output_type": "stream",
     "text": [
      "En el dataset de International Football data hay: 44557 partidos.\n",
      "Desde el 1872-11-30 hasta el 2023-03-29.\n",
      "Desde el 1872-11-30 hasta el 2023-03-29.\n",
      "Un total de 142  torneos.\n"
     ]
    }
   ],
   "source": [
    "print(f'En el dataset de International Football data hay: {len(df_partidos_filtrado)} partidos.')\n",
    "print(f'Desde el {df_partidos_filtrado[\"date\"].min().date()} hasta el {df_partidos_filtrado[\"date\"].max().date()}.')\n",
    "print(f'Desde el {df_partidos_filtrado[\"date\"].min().date()} hasta el {df_partidos_filtrado[\"date\"].max().date()}.')\n",
    "\n",
    "print(f'Un total de {len(pd.unique(df_partidos_filtrado[\"tournament\"]))}  torneos.')"
   ],
   "metadata": {
    "collapsed": false,
    "pycharm": {
     "name": "#%%\n"
    }
   }
  },
  {
   "cell_type": "code",
   "execution_count": 856,
   "outputs": [
    {
     "data": {
      "text/plain": "Friendly                                17593\nFIFA World Cup qualification             7878\nUEFA Euro qualification                  2631\nAfrican Cup of Nations qualification     1976\nFIFA World Cup                            964\n                                        ...  \nÉvence Coppée Trophy                        1\nCopa Confraternidad                         1\nReal Madrid 75th Anniversary Cup            1\nTIFOCO Tournament                           1\nFIFA 75th Anniversary Cup                   1\nName: tournament, Length: 142, dtype: int64"
     },
     "execution_count": 856,
     "metadata": {},
     "output_type": "execute_result"
    }
   ],
   "source": [
    "df_partidos_filtrado['tournament'].value_counts()"
   ],
   "metadata": {
    "collapsed": false,
    "pycharm": {
     "name": "#%%\n"
    }
   }
  },
  {
   "cell_type": "code",
   "execution_count": 857,
   "outputs": [
    {
     "data": {
      "text/plain": "            date  home_team away_team  home_score  away_score      tournament  \\\n438   1916-07-02      Chile   Uruguay           0           4    Copa América   \n440   1916-07-06  Argentina     Chile           6           1    Copa América   \n441   1916-07-08     Brazil     Chile           1           1    Copa América   \n442   1916-07-10  Argentina    Brazil           1           1    Copa América   \n444   1916-07-12     Brazil   Uruguay           1           2    Copa América   \n...          ...        ...       ...         ...         ...             ...   \n44349 2022-12-10    England    France           1           2  FIFA World Cup   \n44351 2022-12-13  Argentina   Croatia           3           0  FIFA World Cup   \n44352 2022-12-14     France   Morocco           2           0  FIFA World Cup   \n44356 2022-12-17    Croatia   Morocco           2           1  FIFA World Cup   \n44358 2022-12-18  Argentina    France           3           3  FIFA World Cup   \n\n               city    country  neutral  \n438    Buenos Aires  Argentina     True  \n440    Buenos Aires  Argentina    False  \n441    Buenos Aires  Argentina     True  \n442    Buenos Aires  Argentina    False  \n444    Buenos Aires  Argentina     True  \n...             ...        ...      ...  \n44349       Al Khor      Qatar     True  \n44351        Lusail      Qatar     True  \n44352       Al Khor      Qatar     True  \n44356     Al Rayyan      Qatar     True  \n44358        Lusail      Qatar     True  \n\n[11440 rows x 9 columns]",
      "text/html": "<div>\n<style scoped>\n    .dataframe tbody tr th:only-of-type {\n        vertical-align: middle;\n    }\n\n    .dataframe tbody tr th {\n        vertical-align: top;\n    }\n\n    .dataframe thead th {\n        text-align: right;\n    }\n</style>\n<table border=\"1\" class=\"dataframe\">\n  <thead>\n    <tr style=\"text-align: right;\">\n      <th></th>\n      <th>date</th>\n      <th>home_team</th>\n      <th>away_team</th>\n      <th>home_score</th>\n      <th>away_score</th>\n      <th>tournament</th>\n      <th>city</th>\n      <th>country</th>\n      <th>neutral</th>\n    </tr>\n  </thead>\n  <tbody>\n    <tr>\n      <th>438</th>\n      <td>1916-07-02</td>\n      <td>Chile</td>\n      <td>Uruguay</td>\n      <td>0</td>\n      <td>4</td>\n      <td>Copa América</td>\n      <td>Buenos Aires</td>\n      <td>Argentina</td>\n      <td>True</td>\n    </tr>\n    <tr>\n      <th>440</th>\n      <td>1916-07-06</td>\n      <td>Argentina</td>\n      <td>Chile</td>\n      <td>6</td>\n      <td>1</td>\n      <td>Copa América</td>\n      <td>Buenos Aires</td>\n      <td>Argentina</td>\n      <td>False</td>\n    </tr>\n    <tr>\n      <th>441</th>\n      <td>1916-07-08</td>\n      <td>Brazil</td>\n      <td>Chile</td>\n      <td>1</td>\n      <td>1</td>\n      <td>Copa América</td>\n      <td>Buenos Aires</td>\n      <td>Argentina</td>\n      <td>True</td>\n    </tr>\n    <tr>\n      <th>442</th>\n      <td>1916-07-10</td>\n      <td>Argentina</td>\n      <td>Brazil</td>\n      <td>1</td>\n      <td>1</td>\n      <td>Copa América</td>\n      <td>Buenos Aires</td>\n      <td>Argentina</td>\n      <td>False</td>\n    </tr>\n    <tr>\n      <th>444</th>\n      <td>1916-07-12</td>\n      <td>Brazil</td>\n      <td>Uruguay</td>\n      <td>1</td>\n      <td>2</td>\n      <td>Copa América</td>\n      <td>Buenos Aires</td>\n      <td>Argentina</td>\n      <td>True</td>\n    </tr>\n    <tr>\n      <th>...</th>\n      <td>...</td>\n      <td>...</td>\n      <td>...</td>\n      <td>...</td>\n      <td>...</td>\n      <td>...</td>\n      <td>...</td>\n      <td>...</td>\n      <td>...</td>\n    </tr>\n    <tr>\n      <th>44349</th>\n      <td>2022-12-10</td>\n      <td>England</td>\n      <td>France</td>\n      <td>1</td>\n      <td>2</td>\n      <td>FIFA World Cup</td>\n      <td>Al Khor</td>\n      <td>Qatar</td>\n      <td>True</td>\n    </tr>\n    <tr>\n      <th>44351</th>\n      <td>2022-12-13</td>\n      <td>Argentina</td>\n      <td>Croatia</td>\n      <td>3</td>\n      <td>0</td>\n      <td>FIFA World Cup</td>\n      <td>Lusail</td>\n      <td>Qatar</td>\n      <td>True</td>\n    </tr>\n    <tr>\n      <th>44352</th>\n      <td>2022-12-14</td>\n      <td>France</td>\n      <td>Morocco</td>\n      <td>2</td>\n      <td>0</td>\n      <td>FIFA World Cup</td>\n      <td>Al Khor</td>\n      <td>Qatar</td>\n      <td>True</td>\n    </tr>\n    <tr>\n      <th>44356</th>\n      <td>2022-12-17</td>\n      <td>Croatia</td>\n      <td>Morocco</td>\n      <td>2</td>\n      <td>1</td>\n      <td>FIFA World Cup</td>\n      <td>Al Rayyan</td>\n      <td>Qatar</td>\n      <td>True</td>\n    </tr>\n    <tr>\n      <th>44358</th>\n      <td>2022-12-18</td>\n      <td>Argentina</td>\n      <td>France</td>\n      <td>3</td>\n      <td>3</td>\n      <td>FIFA World Cup</td>\n      <td>Lusail</td>\n      <td>Qatar</td>\n      <td>True</td>\n    </tr>\n  </tbody>\n</table>\n<p>11440 rows × 9 columns</p>\n</div>"
     },
     "execution_count": 857,
     "metadata": {},
     "output_type": "execute_result"
    }
   ],
   "source": [
    "torneos_a_conservar = ['FIFA World Cup qualification', 'FIFA World Cup', 'Copa América', 'UEFA Euro', 'Confederations Cup', 'African Cup of Nations',  'CONCACAF Championship', 'AFC Asian Cup']\n",
    "df_partidos_filtrado = df_partidos_filtrado[df_partidos_filtrado['tournament'].isin(torneos_a_conservar)]\n",
    "df_partidos_filtrado"
   ],
   "metadata": {
    "collapsed": false,
    "pycharm": {
     "name": "#%%\n"
    }
   }
  },
  {
   "cell_type": "code",
   "execution_count": 858,
   "outputs": [
    {
     "name": "stdout",
     "output_type": "stream",
     "text": [
      "                    Equipo  Apariciones\n",
      "27                  Brazil          465\n",
      "8                Argentina          453\n",
      "205                Uruguay          447\n",
      "40                   Chile          391\n",
      "148               Paraguay          378\n",
      "..                     ...          ...\n",
      "186  São Tomé and Príncipe           10\n",
      "210       Vietnam Republic            9\n",
      "159               Saarland            4\n",
      "178            South Sudan            4\n",
      "213              Yemen DPR            4\n",
      "\n",
      "[217 rows x 2 columns]\n"
     ]
    }
   ],
   "source": [
    "# Cuenta las apariciones como equipo local\n",
    "apariciones_local = df_partidos_filtrado['home_team'].value_counts()\n",
    "\n",
    "# Cuenta las apariciones como equipo visitante\n",
    "apariciones_visitante = df_partidos_filtrado['away_team'].value_counts()\n",
    "\n",
    "# Suma los conteos\n",
    "apariciones_totales = apariciones_local.add(apariciones_visitante, fill_value=0)\n",
    "\n",
    "# Convierte a DataFrame y resetea el índice\n",
    "apariciones_totales = apariciones_totales.reset_index()\n",
    "apariciones_totales.columns = ['Equipo', 'Apariciones']\n",
    "\n",
    "apariciones_totales = apariciones_totales.sort_values('Apariciones', ascending=False)\n",
    "\n",
    "print(apariciones_totales)"
   ],
   "metadata": {
    "collapsed": false,
    "pycharm": {
     "name": "#%%\n"
    }
   }
  },
  {
   "cell_type": "markdown",
   "source": [
    "### Calidad de los datos"
   ],
   "metadata": {
    "collapsed": false,
    "pycharm": {
     "name": "#%% md\n"
    }
   }
  },
  {
   "cell_type": "code",
   "execution_count": 859,
   "outputs": [
    {
     "data": {
      "text/plain": "date          0\nhome_team     0\naway_team     0\nhome_score    0\naway_score    0\ntournament    0\ncity          0\ncountry       0\nneutral       0\ndtype: int64"
     },
     "execution_count": 859,
     "metadata": {},
     "output_type": "execute_result"
    }
   ],
   "source": [
    "df_partidos_filtrado.isnull().sum()"
   ],
   "metadata": {
    "collapsed": false,
    "pycharm": {
     "name": "#%%\n"
    }
   }
  },
  {
   "cell_type": "code",
   "execution_count": 860,
   "outputs": [
    {
     "name": "stdout",
     "output_type": "stream",
     "text": [
      "El dataframe tiene 9 columnas.\n",
      "Hay 0 columnas que les faltan valores.\n"
     ]
    },
    {
     "data": {
      "text/plain": "Empty DataFrame\nColumns: [Valores Faltantes, % de Valores Totales]\nIndex: []",
      "text/html": "<div>\n<style scoped>\n    .dataframe tbody tr th:only-of-type {\n        vertical-align: middle;\n    }\n\n    .dataframe tbody tr th {\n        vertical-align: top;\n    }\n\n    .dataframe thead th {\n        text-align: right;\n    }\n</style>\n<table border=\"1\" class=\"dataframe\">\n  <thead>\n    <tr style=\"text-align: right;\">\n      <th></th>\n      <th>Valores Faltantes</th>\n      <th>% de Valores Totales</th>\n    </tr>\n  </thead>\n  <tbody>\n  </tbody>\n</table>\n</div>"
     },
     "execution_count": 860,
     "metadata": {},
     "output_type": "execute_result"
    }
   ],
   "source": [
    "missing_values_table(df_partidos_filtrado)"
   ],
   "metadata": {
    "collapsed": false,
    "pycharm": {
     "name": "#%%\n"
    }
   }
  },
  {
   "cell_type": "code",
   "execution_count": 861,
   "outputs": [
    {
     "name": "stdout",
     "output_type": "stream",
     "text": [
      "El dataframe tiene 9 columnas.\n",
      "Hay 0 columnas que les faltan valores.\n",
      "Se eliminan 0 columnas.\n",
      "Son: []\n"
     ]
    }
   ],
   "source": [
    "# Get the columns with > 50% missing\n",
    "missing_df = missing_values_table(df_partidos_filtrado);\n",
    "missing_columns = list(missing_df[missing_df['% de Valores Totales'] > 50].index)\n",
    "print('Se eliminan %d columnas.' % len(missing_columns))\n",
    "print(f'Son: {missing_columns}')\n",
    "# Drop the columns\n",
    "df_partidos_filtrado = df_partidos_filtrado.drop(list(missing_columns), axis=1)"
   ],
   "metadata": {
    "collapsed": false,
    "pycharm": {
     "name": "#%%\n"
    }
   }
  },
  {
   "cell_type": "code",
   "execution_count": 862,
   "outputs": [
    {
     "data": {
      "text/plain": "           date     home_team    away_team  home_score  away_score  \\\n0    2015-01-09     Australia       Kuwait           4           1   \n1    2015-01-10   South Korea         Oman           1           0   \n2    2015-01-10  Saudi Arabia     China PR           0           1   \n3    2015-01-10    Uzbekistan  North Korea           1           0   \n4    2015-01-11          Iran      Bahrain           2           0   \n...         ...           ...          ...         ...         ...   \n2321 2022-12-10       England       France           1           2   \n2322 2022-12-13     Argentina      Croatia           3           0   \n2323 2022-12-14        France      Morocco           2           0   \n2324 2022-12-17       Croatia      Morocco           2           1   \n2325 2022-12-18     Argentina       France           3           3   \n\n          tournament       city    country  neutral  \n0      AFC Asian Cup  Melbourne  Australia    False  \n1      AFC Asian Cup   Canberra  Australia     True  \n2      AFC Asian Cup   Brisbane  Australia     True  \n3      AFC Asian Cup     Sydney  Australia     True  \n4      AFC Asian Cup  Melbourne  Australia     True  \n...              ...        ...        ...      ...  \n2321  FIFA World Cup    Al Khor      Qatar     True  \n2322  FIFA World Cup     Lusail      Qatar     True  \n2323  FIFA World Cup    Al Khor      Qatar     True  \n2324  FIFA World Cup  Al Rayyan      Qatar     True  \n2325  FIFA World Cup     Lusail      Qatar     True  \n\n[2326 rows x 9 columns]",
      "text/html": "<div>\n<style scoped>\n    .dataframe tbody tr th:only-of-type {\n        vertical-align: middle;\n    }\n\n    .dataframe tbody tr th {\n        vertical-align: top;\n    }\n\n    .dataframe thead th {\n        text-align: right;\n    }\n</style>\n<table border=\"1\" class=\"dataframe\">\n  <thead>\n    <tr style=\"text-align: right;\">\n      <th></th>\n      <th>date</th>\n      <th>home_team</th>\n      <th>away_team</th>\n      <th>home_score</th>\n      <th>away_score</th>\n      <th>tournament</th>\n      <th>city</th>\n      <th>country</th>\n      <th>neutral</th>\n    </tr>\n  </thead>\n  <tbody>\n    <tr>\n      <th>0</th>\n      <td>2015-01-09</td>\n      <td>Australia</td>\n      <td>Kuwait</td>\n      <td>4</td>\n      <td>1</td>\n      <td>AFC Asian Cup</td>\n      <td>Melbourne</td>\n      <td>Australia</td>\n      <td>False</td>\n    </tr>\n    <tr>\n      <th>1</th>\n      <td>2015-01-10</td>\n      <td>South Korea</td>\n      <td>Oman</td>\n      <td>1</td>\n      <td>0</td>\n      <td>AFC Asian Cup</td>\n      <td>Canberra</td>\n      <td>Australia</td>\n      <td>True</td>\n    </tr>\n    <tr>\n      <th>2</th>\n      <td>2015-01-10</td>\n      <td>Saudi Arabia</td>\n      <td>China PR</td>\n      <td>0</td>\n      <td>1</td>\n      <td>AFC Asian Cup</td>\n      <td>Brisbane</td>\n      <td>Australia</td>\n      <td>True</td>\n    </tr>\n    <tr>\n      <th>3</th>\n      <td>2015-01-10</td>\n      <td>Uzbekistan</td>\n      <td>North Korea</td>\n      <td>1</td>\n      <td>0</td>\n      <td>AFC Asian Cup</td>\n      <td>Sydney</td>\n      <td>Australia</td>\n      <td>True</td>\n    </tr>\n    <tr>\n      <th>4</th>\n      <td>2015-01-11</td>\n      <td>Iran</td>\n      <td>Bahrain</td>\n      <td>2</td>\n      <td>0</td>\n      <td>AFC Asian Cup</td>\n      <td>Melbourne</td>\n      <td>Australia</td>\n      <td>True</td>\n    </tr>\n    <tr>\n      <th>...</th>\n      <td>...</td>\n      <td>...</td>\n      <td>...</td>\n      <td>...</td>\n      <td>...</td>\n      <td>...</td>\n      <td>...</td>\n      <td>...</td>\n      <td>...</td>\n    </tr>\n    <tr>\n      <th>2321</th>\n      <td>2022-12-10</td>\n      <td>England</td>\n      <td>France</td>\n      <td>1</td>\n      <td>2</td>\n      <td>FIFA World Cup</td>\n      <td>Al Khor</td>\n      <td>Qatar</td>\n      <td>True</td>\n    </tr>\n    <tr>\n      <th>2322</th>\n      <td>2022-12-13</td>\n      <td>Argentina</td>\n      <td>Croatia</td>\n      <td>3</td>\n      <td>0</td>\n      <td>FIFA World Cup</td>\n      <td>Lusail</td>\n      <td>Qatar</td>\n      <td>True</td>\n    </tr>\n    <tr>\n      <th>2323</th>\n      <td>2022-12-14</td>\n      <td>France</td>\n      <td>Morocco</td>\n      <td>2</td>\n      <td>0</td>\n      <td>FIFA World Cup</td>\n      <td>Al Khor</td>\n      <td>Qatar</td>\n      <td>True</td>\n    </tr>\n    <tr>\n      <th>2324</th>\n      <td>2022-12-17</td>\n      <td>Croatia</td>\n      <td>Morocco</td>\n      <td>2</td>\n      <td>1</td>\n      <td>FIFA World Cup</td>\n      <td>Al Rayyan</td>\n      <td>Qatar</td>\n      <td>True</td>\n    </tr>\n    <tr>\n      <th>2325</th>\n      <td>2022-12-18</td>\n      <td>Argentina</td>\n      <td>France</td>\n      <td>3</td>\n      <td>3</td>\n      <td>FIFA World Cup</td>\n      <td>Lusail</td>\n      <td>Qatar</td>\n      <td>True</td>\n    </tr>\n  </tbody>\n</table>\n<p>2326 rows × 9 columns</p>\n</div>"
     },
     "execution_count": 862,
     "metadata": {},
     "output_type": "execute_result"
    }
   ],
   "source": [
    "df_partidos_filtrado = df_partidos_filtrado[df_partidos_filtrado['date'].dt.year >= 2015]\n",
    "df_partidos_filtrado.reset_index(drop=True,inplace=True)\n",
    "df_partidos_filtrado"
   ],
   "metadata": {
    "collapsed": false,
    "pycharm": {
     "name": "#%%\n"
    }
   }
  },
  {
   "cell_type": "markdown",
   "source": [
    "## Resultados"
   ],
   "metadata": {
    "collapsed": false,
    "pycharm": {
     "name": "#%% md\n"
    }
   }
  },
  {
   "cell_type": "code",
   "execution_count": 863,
   "outputs": [
    {
     "data": {
      "text/plain": "         date    home_team         away_team       winner\n0  1967-08-22        India            Taiwan       Taiwan\n1  1971-11-14  South Korea  Vietnam Republic  South Korea\n2  1972-05-07  South Korea              Iraq         Iraq\n3  1972-05-17     Thailand       South Korea  South Korea\n4  1972-05-19     Thailand          Cambodia     Thailand",
      "text/html": "<div>\n<style scoped>\n    .dataframe tbody tr th:only-of-type {\n        vertical-align: middle;\n    }\n\n    .dataframe tbody tr th {\n        vertical-align: top;\n    }\n\n    .dataframe thead th {\n        text-align: right;\n    }\n</style>\n<table border=\"1\" class=\"dataframe\">\n  <thead>\n    <tr style=\"text-align: right;\">\n      <th></th>\n      <th>date</th>\n      <th>home_team</th>\n      <th>away_team</th>\n      <th>winner</th>\n    </tr>\n  </thead>\n  <tbody>\n    <tr>\n      <th>0</th>\n      <td>1967-08-22</td>\n      <td>India</td>\n      <td>Taiwan</td>\n      <td>Taiwan</td>\n    </tr>\n    <tr>\n      <th>1</th>\n      <td>1971-11-14</td>\n      <td>South Korea</td>\n      <td>Vietnam Republic</td>\n      <td>South Korea</td>\n    </tr>\n    <tr>\n      <th>2</th>\n      <td>1972-05-07</td>\n      <td>South Korea</td>\n      <td>Iraq</td>\n      <td>Iraq</td>\n    </tr>\n    <tr>\n      <th>3</th>\n      <td>1972-05-17</td>\n      <td>Thailand</td>\n      <td>South Korea</td>\n      <td>South Korea</td>\n    </tr>\n    <tr>\n      <th>4</th>\n      <td>1972-05-19</td>\n      <td>Thailand</td>\n      <td>Cambodia</td>\n      <td>Thailand</td>\n    </tr>\n  </tbody>\n</table>\n</div>"
     },
     "execution_count": 863,
     "metadata": {},
     "output_type": "execute_result"
    }
   ],
   "source": [
    "df_resultados = pd.read_csv(ruta_resultados,low_memory = False)\n",
    "df_resultados.head(5)"
   ],
   "metadata": {
    "collapsed": false,
    "pycharm": {
     "name": "#%%\n"
    }
   }
  },
  {
   "cell_type": "code",
   "execution_count": 864,
   "outputs": [
    {
     "name": "stdout",
     "output_type": "stream",
     "text": [
      "547\n"
     ]
    }
   ],
   "source": [
    "print(len(df_resultados))"
   ],
   "metadata": {
    "collapsed": false,
    "pycharm": {
     "name": "#%%\n"
    }
   }
  },
  {
   "cell_type": "code",
   "execution_count": 865,
   "outputs": [
    {
     "name": "stdout",
     "output_type": "stream",
     "text": [
      "<class 'pandas.core.frame.DataFrame'>\n",
      "RangeIndex: 547 entries, 0 to 546\n",
      "Data columns (total 4 columns):\n",
      " #   Column     Non-Null Count  Dtype \n",
      "---  ------     --------------  ----- \n",
      " 0   date       547 non-null    object\n",
      " 1   home_team  547 non-null    object\n",
      " 2   away_team  547 non-null    object\n",
      " 3   winner     547 non-null    object\n",
      "dtypes: object(4)\n",
      "memory usage: 17.2+ KB\n"
     ]
    }
   ],
   "source": [
    "df_resultados.info()"
   ],
   "metadata": {
    "collapsed": false,
    "pycharm": {
     "name": "#%%\n"
    }
   }
  },
  {
   "cell_type": "code",
   "execution_count": 866,
   "outputs": [
    {
     "data": {
      "text/plain": "          date    home_team         away_team       winner\n0   1967-08-22        India            Taiwan       Taiwan\n1   1971-11-14  South Korea  Vietnam Republic  South Korea\n2   1972-05-07  South Korea              Iraq         Iraq\n3   1972-05-17     Thailand       South Korea  South Korea\n4   1972-05-19     Thailand          Cambodia     Thailand\n..         ...          ...               ...          ...\n542 2022-12-05        Japan           Croatia      Croatia\n543 2022-12-06      Morocco             Spain      Morocco\n544 2022-12-09      Croatia            Brazil      Croatia\n545 2022-12-09  Netherlands         Argentina    Argentina\n546 2022-12-18    Argentina            France    Argentina\n\n[547 rows x 4 columns]",
      "text/html": "<div>\n<style scoped>\n    .dataframe tbody tr th:only-of-type {\n        vertical-align: middle;\n    }\n\n    .dataframe tbody tr th {\n        vertical-align: top;\n    }\n\n    .dataframe thead th {\n        text-align: right;\n    }\n</style>\n<table border=\"1\" class=\"dataframe\">\n  <thead>\n    <tr style=\"text-align: right;\">\n      <th></th>\n      <th>date</th>\n      <th>home_team</th>\n      <th>away_team</th>\n      <th>winner</th>\n    </tr>\n  </thead>\n  <tbody>\n    <tr>\n      <th>0</th>\n      <td>1967-08-22</td>\n      <td>India</td>\n      <td>Taiwan</td>\n      <td>Taiwan</td>\n    </tr>\n    <tr>\n      <th>1</th>\n      <td>1971-11-14</td>\n      <td>South Korea</td>\n      <td>Vietnam Republic</td>\n      <td>South Korea</td>\n    </tr>\n    <tr>\n      <th>2</th>\n      <td>1972-05-07</td>\n      <td>South Korea</td>\n      <td>Iraq</td>\n      <td>Iraq</td>\n    </tr>\n    <tr>\n      <th>3</th>\n      <td>1972-05-17</td>\n      <td>Thailand</td>\n      <td>South Korea</td>\n      <td>South Korea</td>\n    </tr>\n    <tr>\n      <th>4</th>\n      <td>1972-05-19</td>\n      <td>Thailand</td>\n      <td>Cambodia</td>\n      <td>Thailand</td>\n    </tr>\n    <tr>\n      <th>...</th>\n      <td>...</td>\n      <td>...</td>\n      <td>...</td>\n      <td>...</td>\n    </tr>\n    <tr>\n      <th>542</th>\n      <td>2022-12-05</td>\n      <td>Japan</td>\n      <td>Croatia</td>\n      <td>Croatia</td>\n    </tr>\n    <tr>\n      <th>543</th>\n      <td>2022-12-06</td>\n      <td>Morocco</td>\n      <td>Spain</td>\n      <td>Morocco</td>\n    </tr>\n    <tr>\n      <th>544</th>\n      <td>2022-12-09</td>\n      <td>Croatia</td>\n      <td>Brazil</td>\n      <td>Croatia</td>\n    </tr>\n    <tr>\n      <th>545</th>\n      <td>2022-12-09</td>\n      <td>Netherlands</td>\n      <td>Argentina</td>\n      <td>Argentina</td>\n    </tr>\n    <tr>\n      <th>546</th>\n      <td>2022-12-18</td>\n      <td>Argentina</td>\n      <td>France</td>\n      <td>Argentina</td>\n    </tr>\n  </tbody>\n</table>\n<p>547 rows × 4 columns</p>\n</div>"
     },
     "execution_count": 866,
     "metadata": {},
     "output_type": "execute_result"
    }
   ],
   "source": [
    "df_resultados_filtrado= df_resultados.copy()\n",
    "df_resultados_filtrado[['date' ]]=df_resultados_filtrado[['date']].apply(pd.to_datetime)\n",
    "df_resultados_filtrado"
   ],
   "metadata": {
    "collapsed": false,
    "pycharm": {
     "name": "#%%\n"
    }
   }
  },
  {
   "cell_type": "markdown",
   "source": [
    "### Calidad de los datos"
   ],
   "metadata": {
    "collapsed": false,
    "pycharm": {
     "name": "#%% md\n"
    }
   }
  },
  {
   "cell_type": "code",
   "execution_count": 867,
   "outputs": [
    {
     "data": {
      "text/plain": "date         0\nhome_team    0\naway_team    0\nwinner       0\ndtype: int64"
     },
     "execution_count": 867,
     "metadata": {},
     "output_type": "execute_result"
    }
   ],
   "source": [
    "df_resultados_filtrado.isnull().sum()"
   ],
   "metadata": {
    "collapsed": false,
    "pycharm": {
     "name": "#%%\n"
    }
   }
  },
  {
   "cell_type": "code",
   "execution_count": 868,
   "outputs": [
    {
     "name": "stdout",
     "output_type": "stream",
     "text": [
      "El dataframe tiene 4 columnas.\n",
      "Hay 0 columnas que les faltan valores.\n"
     ]
    },
    {
     "data": {
      "text/plain": "Empty DataFrame\nColumns: [Valores Faltantes, % de Valores Totales]\nIndex: []",
      "text/html": "<div>\n<style scoped>\n    .dataframe tbody tr th:only-of-type {\n        vertical-align: middle;\n    }\n\n    .dataframe tbody tr th {\n        vertical-align: top;\n    }\n\n    .dataframe thead th {\n        text-align: right;\n    }\n</style>\n<table border=\"1\" class=\"dataframe\">\n  <thead>\n    <tr style=\"text-align: right;\">\n      <th></th>\n      <th>Valores Faltantes</th>\n      <th>% de Valores Totales</th>\n    </tr>\n  </thead>\n  <tbody>\n  </tbody>\n</table>\n</div>"
     },
     "execution_count": 868,
     "metadata": {},
     "output_type": "execute_result"
    }
   ],
   "source": [
    "missing_values_table(df_resultados_filtrado)"
   ],
   "metadata": {
    "collapsed": false,
    "pycharm": {
     "name": "#%%\n"
    }
   }
  },
  {
   "cell_type": "code",
   "execution_count": 869,
   "outputs": [
    {
     "name": "stdout",
     "output_type": "stream",
     "text": [
      "El dataframe tiene 4 columnas.\n",
      "Hay 0 columnas que les faltan valores.\n",
      "Se eliminan 0 columnas.\n",
      "Son: []\n"
     ]
    }
   ],
   "source": [
    "# Get the columns with > 50% missing\n",
    "missing_df = missing_values_table(df_resultados_filtrado);\n",
    "missing_columns = list(missing_df[missing_df['% de Valores Totales'] > 50].index)\n",
    "print('Se eliminan %d columnas.' % len(missing_columns))\n",
    "print(f'Son: {missing_columns}')\n",
    "# Drop the columns\n",
    "df_resultados_filtrado = df_resultados_filtrado.drop(list(missing_columns), axis=1)"
   ],
   "metadata": {
    "collapsed": false,
    "pycharm": {
     "name": "#%%\n"
    }
   }
  },
  {
   "cell_type": "code",
   "execution_count": 870,
   "outputs": [
    {
     "data": {
      "text/plain": "          date          home_team             away_team                winner\n0   2015-01-23               Iran                  Iraq                  Iraq\n1   2015-01-23              Japan  United Arab Emirates  United Arab Emirates\n2   2015-01-30            Curaçao                 Aruba                 Aruba\n3   2015-02-07  Equatorial Guinea              DR Congo              DR Congo\n4   2015-02-08        Ivory Coast                 Ghana           Ivory Coast\n..         ...                ...                   ...                   ...\n132 2022-12-05              Japan               Croatia               Croatia\n133 2022-12-06            Morocco                 Spain               Morocco\n134 2022-12-09            Croatia                Brazil               Croatia\n135 2022-12-09        Netherlands             Argentina             Argentina\n136 2022-12-18          Argentina                France             Argentina\n\n[137 rows x 4 columns]",
      "text/html": "<div>\n<style scoped>\n    .dataframe tbody tr th:only-of-type {\n        vertical-align: middle;\n    }\n\n    .dataframe tbody tr th {\n        vertical-align: top;\n    }\n\n    .dataframe thead th {\n        text-align: right;\n    }\n</style>\n<table border=\"1\" class=\"dataframe\">\n  <thead>\n    <tr style=\"text-align: right;\">\n      <th></th>\n      <th>date</th>\n      <th>home_team</th>\n      <th>away_team</th>\n      <th>winner</th>\n    </tr>\n  </thead>\n  <tbody>\n    <tr>\n      <th>0</th>\n      <td>2015-01-23</td>\n      <td>Iran</td>\n      <td>Iraq</td>\n      <td>Iraq</td>\n    </tr>\n    <tr>\n      <th>1</th>\n      <td>2015-01-23</td>\n      <td>Japan</td>\n      <td>United Arab Emirates</td>\n      <td>United Arab Emirates</td>\n    </tr>\n    <tr>\n      <th>2</th>\n      <td>2015-01-30</td>\n      <td>Curaçao</td>\n      <td>Aruba</td>\n      <td>Aruba</td>\n    </tr>\n    <tr>\n      <th>3</th>\n      <td>2015-02-07</td>\n      <td>Equatorial Guinea</td>\n      <td>DR Congo</td>\n      <td>DR Congo</td>\n    </tr>\n    <tr>\n      <th>4</th>\n      <td>2015-02-08</td>\n      <td>Ivory Coast</td>\n      <td>Ghana</td>\n      <td>Ivory Coast</td>\n    </tr>\n    <tr>\n      <th>...</th>\n      <td>...</td>\n      <td>...</td>\n      <td>...</td>\n      <td>...</td>\n    </tr>\n    <tr>\n      <th>132</th>\n      <td>2022-12-05</td>\n      <td>Japan</td>\n      <td>Croatia</td>\n      <td>Croatia</td>\n    </tr>\n    <tr>\n      <th>133</th>\n      <td>2022-12-06</td>\n      <td>Morocco</td>\n      <td>Spain</td>\n      <td>Morocco</td>\n    </tr>\n    <tr>\n      <th>134</th>\n      <td>2022-12-09</td>\n      <td>Croatia</td>\n      <td>Brazil</td>\n      <td>Croatia</td>\n    </tr>\n    <tr>\n      <th>135</th>\n      <td>2022-12-09</td>\n      <td>Netherlands</td>\n      <td>Argentina</td>\n      <td>Argentina</td>\n    </tr>\n    <tr>\n      <th>136</th>\n      <td>2022-12-18</td>\n      <td>Argentina</td>\n      <td>France</td>\n      <td>Argentina</td>\n    </tr>\n  </tbody>\n</table>\n<p>137 rows × 4 columns</p>\n</div>"
     },
     "execution_count": 870,
     "metadata": {},
     "output_type": "execute_result"
    }
   ],
   "source": [
    "df_resultados_filtrado = df_resultados_filtrado[df_resultados_filtrado['date'].dt.year >= 2015]\n",
    "df_resultados_filtrado.reset_index(drop=True,inplace=True)\n",
    "df_resultados_filtrado"
   ],
   "metadata": {
    "collapsed": false,
    "pycharm": {
     "name": "#%%\n"
    }
   }
  },
  {
   "cell_type": "markdown",
   "source": [
    "### INTEGRACION"
   ],
   "metadata": {
    "collapsed": false,
    "pycharm": {
     "name": "#%% md\n"
    }
   }
  },
  {
   "cell_type": "code",
   "execution_count": 871,
   "outputs": [
    {
     "name": "stdout",
     "output_type": "stream",
     "text": [
      "137\n",
      "7870\n",
      "2326\n"
     ]
    }
   ],
   "source": [
    "print(len(df_resultados_filtrado))\n",
    "print(len(df_goleadores_filtrado))\n",
    "print(len(df_partidos_filtrado))"
   ],
   "metadata": {
    "collapsed": false,
    "pycharm": {
     "name": "#%%\n"
    }
   }
  },
  {
   "cell_type": "code",
   "execution_count": 872,
   "outputs": [
    {
     "name": "stdout",
     "output_type": "stream",
     "text": [
      "<class 'pandas.core.frame.DataFrame'>\n",
      "RangeIndex: 137 entries, 0 to 136\n",
      "Data columns (total 4 columns):\n",
      " #   Column     Non-Null Count  Dtype         \n",
      "---  ------     --------------  -----         \n",
      " 0   date       137 non-null    datetime64[ns]\n",
      " 1   home_team  137 non-null    object        \n",
      " 2   away_team  137 non-null    object        \n",
      " 3   winner     137 non-null    object        \n",
      "dtypes: datetime64[ns](1), object(3)\n",
      "memory usage: 4.4+ KB\n"
     ]
    }
   ],
   "source": [
    "df_resultados_filtrado.info()"
   ],
   "metadata": {
    "collapsed": false,
    "pycharm": {
     "name": "#%%\n"
    }
   }
  },
  {
   "cell_type": "code",
   "execution_count": 873,
   "outputs": [
    {
     "name": "stdout",
     "output_type": "stream",
     "text": [
      "<class 'pandas.core.frame.DataFrame'>\n",
      "RangeIndex: 7870 entries, 0 to 7869\n",
      "Data columns (total 8 columns):\n",
      " #   Column     Non-Null Count  Dtype         \n",
      "---  ------     --------------  -----         \n",
      " 0   date       7870 non-null   datetime64[ns]\n",
      " 1   home_team  7870 non-null   object        \n",
      " 2   away_team  7870 non-null   object        \n",
      " 3   team       7870 non-null   object        \n",
      " 4   scorer     7870 non-null   object        \n",
      " 5   minute     7870 non-null   float64       \n",
      " 6   own_goal   7870 non-null   bool          \n",
      " 7   penalty    7870 non-null   bool          \n",
      "dtypes: bool(2), datetime64[ns](1), float64(1), object(4)\n",
      "memory usage: 384.4+ KB\n"
     ]
    }
   ],
   "source": [
    "df_goleadores_filtrado.info()"
   ],
   "metadata": {
    "collapsed": false,
    "pycharm": {
     "name": "#%%\n"
    }
   }
  },
  {
   "cell_type": "code",
   "execution_count": 874,
   "outputs": [
    {
     "name": "stdout",
     "output_type": "stream",
     "text": [
      "<class 'pandas.core.frame.DataFrame'>\n",
      "RangeIndex: 2326 entries, 0 to 2325\n",
      "Data columns (total 9 columns):\n",
      " #   Column      Non-Null Count  Dtype         \n",
      "---  ------      --------------  -----         \n",
      " 0   date        2326 non-null   datetime64[ns]\n",
      " 1   home_team   2326 non-null   object        \n",
      " 2   away_team   2326 non-null   object        \n",
      " 3   home_score  2326 non-null   int64         \n",
      " 4   away_score  2326 non-null   int64         \n",
      " 5   tournament  2326 non-null   object        \n",
      " 6   city        2326 non-null   object        \n",
      " 7   country     2326 non-null   object        \n",
      " 8   neutral     2326 non-null   bool          \n",
      "dtypes: bool(1), datetime64[ns](1), int64(2), object(5)\n",
      "memory usage: 147.8+ KB\n"
     ]
    }
   ],
   "source": [
    "df_partidos_filtrado.info()"
   ],
   "metadata": {
    "collapsed": false,
    "pycharm": {
     "name": "#%%\n"
    }
   }
  },
  {
   "cell_type": "code",
   "execution_count": 875,
   "outputs": [
    {
     "name": "stdout",
     "output_type": "stream",
     "text": [
      "137\n"
     ]
    }
   ],
   "source": [
    "print(len(df_resultados_filtrado))"
   ],
   "metadata": {
    "collapsed": false,
    "pycharm": {
     "name": "#%%\n"
    }
   }
  },
  {
   "cell_type": "code",
   "execution_count": 876,
   "outputs": [
    {
     "data": {
      "text/plain": "           date     home_team    away_team  home_score  away_score  \\\n0    2015-01-09     Australia       Kuwait           4           1   \n1    2015-01-10   South Korea         Oman           1           0   \n2    2015-01-10  Saudi Arabia     China PR           0           1   \n3    2015-01-10    Uzbekistan  North Korea           1           0   \n4    2015-01-11          Iran      Bahrain           2           0   \n...         ...           ...          ...         ...         ...   \n2321 2022-12-10       England       France           1           2   \n2322 2022-12-13     Argentina      Croatia           3           0   \n2323 2022-12-14        France      Morocco           2           0   \n2324 2022-12-17       Croatia      Morocco           2           1   \n2325 2022-12-18     Argentina       France           3           3   \n\n          tournament       city    country  neutral       winner  \n0      AFC Asian Cup  Melbourne  Australia    False    Australia  \n1      AFC Asian Cup   Canberra  Australia     True  South Korea  \n2      AFC Asian Cup   Brisbane  Australia     True     China PR  \n3      AFC Asian Cup     Sydney  Australia     True   Uzbekistan  \n4      AFC Asian Cup  Melbourne  Australia     True         Iran  \n...              ...        ...        ...      ...          ...  \n2321  FIFA World Cup    Al Khor      Qatar     True       France  \n2322  FIFA World Cup     Lusail      Qatar     True    Argentina  \n2323  FIFA World Cup    Al Khor      Qatar     True       France  \n2324  FIFA World Cup  Al Rayyan      Qatar     True      Croatia  \n2325  FIFA World Cup     Lusail      Qatar     True         Draw  \n\n[2326 rows x 10 columns]",
      "text/html": "<div>\n<style scoped>\n    .dataframe tbody tr th:only-of-type {\n        vertical-align: middle;\n    }\n\n    .dataframe tbody tr th {\n        vertical-align: top;\n    }\n\n    .dataframe thead th {\n        text-align: right;\n    }\n</style>\n<table border=\"1\" class=\"dataframe\">\n  <thead>\n    <tr style=\"text-align: right;\">\n      <th></th>\n      <th>date</th>\n      <th>home_team</th>\n      <th>away_team</th>\n      <th>home_score</th>\n      <th>away_score</th>\n      <th>tournament</th>\n      <th>city</th>\n      <th>country</th>\n      <th>neutral</th>\n      <th>winner</th>\n    </tr>\n  </thead>\n  <tbody>\n    <tr>\n      <th>0</th>\n      <td>2015-01-09</td>\n      <td>Australia</td>\n      <td>Kuwait</td>\n      <td>4</td>\n      <td>1</td>\n      <td>AFC Asian Cup</td>\n      <td>Melbourne</td>\n      <td>Australia</td>\n      <td>False</td>\n      <td>Australia</td>\n    </tr>\n    <tr>\n      <th>1</th>\n      <td>2015-01-10</td>\n      <td>South Korea</td>\n      <td>Oman</td>\n      <td>1</td>\n      <td>0</td>\n      <td>AFC Asian Cup</td>\n      <td>Canberra</td>\n      <td>Australia</td>\n      <td>True</td>\n      <td>South Korea</td>\n    </tr>\n    <tr>\n      <th>2</th>\n      <td>2015-01-10</td>\n      <td>Saudi Arabia</td>\n      <td>China PR</td>\n      <td>0</td>\n      <td>1</td>\n      <td>AFC Asian Cup</td>\n      <td>Brisbane</td>\n      <td>Australia</td>\n      <td>True</td>\n      <td>China PR</td>\n    </tr>\n    <tr>\n      <th>3</th>\n      <td>2015-01-10</td>\n      <td>Uzbekistan</td>\n      <td>North Korea</td>\n      <td>1</td>\n      <td>0</td>\n      <td>AFC Asian Cup</td>\n      <td>Sydney</td>\n      <td>Australia</td>\n      <td>True</td>\n      <td>Uzbekistan</td>\n    </tr>\n    <tr>\n      <th>4</th>\n      <td>2015-01-11</td>\n      <td>Iran</td>\n      <td>Bahrain</td>\n      <td>2</td>\n      <td>0</td>\n      <td>AFC Asian Cup</td>\n      <td>Melbourne</td>\n      <td>Australia</td>\n      <td>True</td>\n      <td>Iran</td>\n    </tr>\n    <tr>\n      <th>...</th>\n      <td>...</td>\n      <td>...</td>\n      <td>...</td>\n      <td>...</td>\n      <td>...</td>\n      <td>...</td>\n      <td>...</td>\n      <td>...</td>\n      <td>...</td>\n      <td>...</td>\n    </tr>\n    <tr>\n      <th>2321</th>\n      <td>2022-12-10</td>\n      <td>England</td>\n      <td>France</td>\n      <td>1</td>\n      <td>2</td>\n      <td>FIFA World Cup</td>\n      <td>Al Khor</td>\n      <td>Qatar</td>\n      <td>True</td>\n      <td>France</td>\n    </tr>\n    <tr>\n      <th>2322</th>\n      <td>2022-12-13</td>\n      <td>Argentina</td>\n      <td>Croatia</td>\n      <td>3</td>\n      <td>0</td>\n      <td>FIFA World Cup</td>\n      <td>Lusail</td>\n      <td>Qatar</td>\n      <td>True</td>\n      <td>Argentina</td>\n    </tr>\n    <tr>\n      <th>2323</th>\n      <td>2022-12-14</td>\n      <td>France</td>\n      <td>Morocco</td>\n      <td>2</td>\n      <td>0</td>\n      <td>FIFA World Cup</td>\n      <td>Al Khor</td>\n      <td>Qatar</td>\n      <td>True</td>\n      <td>France</td>\n    </tr>\n    <tr>\n      <th>2324</th>\n      <td>2022-12-17</td>\n      <td>Croatia</td>\n      <td>Morocco</td>\n      <td>2</td>\n      <td>1</td>\n      <td>FIFA World Cup</td>\n      <td>Al Rayyan</td>\n      <td>Qatar</td>\n      <td>True</td>\n      <td>Croatia</td>\n    </tr>\n    <tr>\n      <th>2325</th>\n      <td>2022-12-18</td>\n      <td>Argentina</td>\n      <td>France</td>\n      <td>3</td>\n      <td>3</td>\n      <td>FIFA World Cup</td>\n      <td>Lusail</td>\n      <td>Qatar</td>\n      <td>True</td>\n      <td>Draw</td>\n    </tr>\n  </tbody>\n</table>\n<p>2326 rows × 10 columns</p>\n</div>"
     },
     "execution_count": 876,
     "metadata": {},
     "output_type": "execute_result"
    }
   ],
   "source": [
    "# Unir df_resultados y df_partidos\n",
    "conditions = [\n",
    "    df_partidos_filtrado['home_score'] > df_partidos_filtrado['away_score'],\n",
    "    df_partidos_filtrado['home_score'] < df_partidos_filtrado['away_score']\n",
    "]\n",
    "\n",
    "choices = [\n",
    "    df_partidos_filtrado['home_team'],\n",
    "    df_partidos_filtrado['away_team']\n",
    "]\n",
    "\n",
    "df_partidos_filtrado['winner'] = np.select(conditions, choices, default='Draw')\n",
    "df_partidos_filtrado"
   ],
   "metadata": {
    "collapsed": false,
    "pycharm": {
     "name": "#%%\n"
    }
   }
  },
  {
   "cell_type": "code",
   "execution_count": 877,
   "outputs": [
    {
     "name": "stdout",
     "output_type": "stream",
     "text": [
      "2326\n"
     ]
    }
   ],
   "source": [
    "print(len(df_partidos_filtrado))"
   ],
   "metadata": {
    "collapsed": false,
    "pycharm": {
     "name": "#%%\n"
    }
   }
  },
  {
   "cell_type": "code",
   "execution_count": 878,
   "outputs": [
    {
     "data": {
      "text/plain": "<Figure size 1000x600 with 1 Axes>",
      "image/png": "[encoded data removed]"
     },
     "metadata": {},
     "output_type": "display_data"
    }
   ],
   "source": [
    "import seaborn as sns\n",
    "import matplotlib.pyplot as plt\n",
    "\n",
    "# Configurar estilo de Seaborn\n",
    "sns.set_style(\"whitegrid\")\n",
    "\n",
    "# Crear el gráfico de barras\n",
    "plt.figure(figsize=(10, 6))\n",
    "ax = sns.countplot(x=\"tournament\", data=df_partidos_filtrado)\n",
    "\n",
    "# Rotar las etiquetas del eje x para mejorar la legibilidad\n",
    "ax.set_xticklabels(ax.get_xticklabels(), rotation=45, ha=\"right\")\n",
    "\n",
    "# Añadir etiquetas al eje y\n",
    "for p in ax.patches:\n",
    "    ax.annotate(f\"{p.get_height()}\", (p.get_x() + p.get_width() / 2., p.get_height()),\n",
    "                ha='center', va='bottom', fontsize=8)\n",
    "\n",
    "# Añadir título y etiquetas a los ejes\n",
    "plt.title(\"Distribución de partidos por campeonato\")\n",
    "plt.xlabel(\"Campeonato\")\n",
    "plt.ylabel(\"Cantidad de partidos\")\n",
    "\n",
    "plt.tight_layout()\n",
    "plt.savefig(\"resources/grafico_partidos_por_campeonato.png\")\n",
    "\n",
    "# Mostrar el gráfico\n",
    "plt.tight_layout()\n",
    "plt.show()"
   ],
   "metadata": {
    "collapsed": false,
    "pycharm": {
     "name": "#%%\n"
    }
   }
  },
  {
   "cell_type": "code",
   "execution_count": 879,
   "outputs": [
    {
     "data": {
      "text/plain": "<Figure size 1200x600 with 1 Axes>",
      "image/png": "[encoded data removed]"
     },
     "metadata": {},
     "output_type": "display_data"
    }
   ],
   "source": [
    "# Configurar estilo de Seaborn\n",
    "sns.set_style(\"whitegrid\")\n",
    "\n",
    "# Convertir la columna 'date' a datetime si no está en ese formato\n",
    "df_partidos_filtrado['date'] = pd.to_datetime(df_partidos_filtrado['date'])\n",
    "\n",
    "# Crear el gráfico de barras\n",
    "plt.figure(figsize=(12, 6))\n",
    "ax = sns.countplot(x=df_partidos_filtrado['date'].dt.year, data=df_partidos_filtrado)\n",
    "\n",
    "# Rotar las etiquetas del eje x para mejorar la legibilidad\n",
    "ax.set_xticklabels(ax.get_xticklabels(), rotation=45, ha=\"right\")\n",
    "\n",
    "# Añadir etiquetas al eje y\n",
    "for p in ax.patches:\n",
    "    ax.annotate(f\"{p.get_height()}\", (p.get_x() + p.get_width() / 2., p.get_height()),\n",
    "                ha='center', va='bottom', fontsize=8)\n",
    "\n",
    "# Añadir título y etiquetas a los ejes\n",
    "plt.title(\"Distribución de partidos por fecha\")\n",
    "plt.ylabel(\"Cantidad de partidos\")\n",
    "\n",
    "# Guardar el gráfico como un archivo PNG\n",
    "plt.savefig(\"resources/grafico_partidos_por_fecha.png\")\n",
    "\n",
    "# Mostrar el gráfico\n",
    "plt.tight_layout()\n",
    "plt.show()"
   ],
   "metadata": {
    "collapsed": false,
    "pycharm": {
     "name": "#%%\n"
    }
   }
  },
  {
   "cell_type": "code",
   "execution_count": 880,
   "outputs": [
    {
     "name": "stdout",
     "output_type": "stream",
     "text": [
      "<class 'pandas.core.frame.DataFrame'>\n",
      "RangeIndex: 2326 entries, 0 to 2325\n",
      "Data columns (total 10 columns):\n",
      " #   Column      Non-Null Count  Dtype         \n",
      "---  ------      --------------  -----         \n",
      " 0   date        2326 non-null   datetime64[ns]\n",
      " 1   home_team   2326 non-null   object        \n",
      " 2   away_team   2326 non-null   object        \n",
      " 3   home_score  2326 non-null   int64         \n",
      " 4   away_score  2326 non-null   int64         \n",
      " 5   tournament  2326 non-null   object        \n",
      " 6   city        2326 non-null   object        \n",
      " 7   country     2326 non-null   object        \n",
      " 8   neutral     2326 non-null   bool          \n",
      " 9   winner      2326 non-null   object        \n",
      "dtypes: bool(1), datetime64[ns](1), int64(2), object(6)\n",
      "memory usage: 165.9+ KB\n"
     ]
    }
   ],
   "source": [
    "df_partidos_filtrado.info()"
   ],
   "metadata": {
    "collapsed": false,
    "pycharm": {
     "name": "#%%\n"
    }
   }
  },
  {
   "cell_type": "code",
   "execution_count": 881,
   "outputs": [
    {
     "name": "stdout",
     "output_type": "stream",
     "text": [
      "<class 'pandas.core.frame.DataFrame'>\n",
      "RangeIndex: 7870 entries, 0 to 7869\n",
      "Data columns (total 8 columns):\n",
      " #   Column     Non-Null Count  Dtype         \n",
      "---  ------     --------------  -----         \n",
      " 0   date       7870 non-null   datetime64[ns]\n",
      " 1   home_team  7870 non-null   object        \n",
      " 2   away_team  7870 non-null   object        \n",
      " 3   team       7870 non-null   object        \n",
      " 4   scorer     7870 non-null   object        \n",
      " 5   minute     7870 non-null   float64       \n",
      " 6   own_goal   7870 non-null   bool          \n",
      " 7   penalty    7870 non-null   bool          \n",
      "dtypes: bool(2), datetime64[ns](1), float64(1), object(4)\n",
      "memory usage: 384.4+ KB\n"
     ]
    }
   ],
   "source": [
    "df_goleadores_filtrado.info()"
   ],
   "metadata": {
    "collapsed": false,
    "pycharm": {
     "name": "#%%\n"
    }
   }
  },
  {
   "cell_type": "code",
   "execution_count": 882,
   "outputs": [
    {
     "data": {
      "text/plain": "7870"
     },
     "execution_count": 882,
     "metadata": {},
     "output_type": "execute_result"
    }
   ],
   "source": [
    "len(df_goleadores_filtrado)"
   ],
   "metadata": {
    "collapsed": false,
    "pycharm": {
     "name": "#%%\n"
    }
   }
  },
  {
   "cell_type": "code",
   "execution_count": 883,
   "outputs": [
    {
     "data": {
      "text/plain": "<Figure size 1200x800 with 1 Axes>",
      "image/png": "[encoded data removed]"
     },
     "metadata": {},
     "output_type": "display_data"
    }
   ],
   "source": [
    "# Obtener la cuenta de goles por equipo\n",
    "goles_por_equipo = df_goleadores_filtrado['team'].value_counts().reset_index()\n",
    "goles_por_equipo.columns = ['Equipo', 'Cantidad de Goles']\n",
    "\n",
    "# Ordenar los equipos por la cantidad de goles\n",
    "goles_por_equipo = goles_por_equipo.sort_values('Cantidad de Goles', ascending=False).head(20)\n",
    "\n",
    "# Crear el gráfico de barras\n",
    "plt.figure(figsize=(12, 8))\n",
    "ax = sns.barplot(x='Cantidad de Goles', y='Equipo', data=goles_por_equipo)\n",
    "\n",
    "# Añadir etiquetas al eje x\n",
    "for p in ax.patches:\n",
    "    ax.annotate(f\"{p.get_width()}\", (p.get_width(), p.get_y() + p.get_height() / 2),\n",
    "                ha='left', va='center', fontsize=8)\n",
    "\n",
    "# Añadir título y etiquetas a los ejes\n",
    "plt.title(\"Selección con más goles\")\n",
    "plt.xlabel(\"Cantidad de Goles\")\n",
    "\n",
    "# Guardar el gráfico como PNG en la carpeta \"resources\"\n",
    "plt.tight_layout()\n",
    "plt.savefig(\"resources/grafico_goles_por_equipo.png\")\n",
    "\n",
    "# Mostrar el gráfico\n",
    "plt.show()"
   ],
   "metadata": {
    "collapsed": false,
    "pycharm": {
     "name": "#%%\n"
    }
   }
  },
  {
   "cell_type": "code",
   "execution_count": 884,
   "outputs": [
    {
     "data": {
      "text/plain": "<Figure size 1000x800 with 1 Axes>",
      "image/png": "[encoded data removed]"
     },
     "metadata": {},
     "output_type": "display_data"
    }
   ],
   "source": [
    "# Obtener la cuenta de goles por jugador\n",
    "goles_por_jugador = df_goleadores_filtrado['scorer'].value_counts().reset_index()\n",
    "goles_por_jugador.columns = ['Jugador', 'Cantidad de Goles']\n",
    "\n",
    "# Ordenar los jugadores por la cantidad de goles\n",
    "goles_por_jugador = goles_por_jugador.sort_values('Cantidad de Goles', ascending=False).head(20)\n",
    "\n",
    "# Crear el gráfico de barras\n",
    "plt.figure(figsize=(10, 8))\n",
    "ax = sns.barplot(x='Cantidad de Goles', y='Jugador', data=goles_por_jugador)\n",
    "\n",
    "# Añadir etiquetas al eje x\n",
    "for p in ax.patches:\n",
    "    ax.annotate(f\"{p.get_width()}\", (p.get_width(), p.get_y() + p.get_height() / 2),\n",
    "                ha='left', va='center', fontsize=8)\n",
    "\n",
    "# Añadir título y etiquetas a los ejes\n",
    "plt.title(\"Top 20 Jugadores con más goles\")\n",
    "plt.xlabel(\"Cantidad de Goles\")\n",
    "plt.ylabel(\"Jugador\")\n",
    "\n",
    "# Guardar el gráfico como PNG en la carpeta \"resources\"\n",
    "plt.tight_layout()\n",
    "plt.savefig(\"resources/grafico_top_20_jugadores_con_mas_goles.png\")\n",
    "\n",
    "# Mostrar el gráfico\n",
    "plt.show()"
   ],
   "metadata": {
    "collapsed": false,
    "pycharm": {
     "name": "#%%\n"
    }
   }
  },
  {
   "cell_type": "code",
   "execution_count": 885,
   "outputs": [],
   "source": [
    "df_final = pd.merge(df_partidos_filtrado, df_goleadores_filtrado[['date', 'home_team', 'away_team', 'team', 'scorer', 'minute', 'own_goal', 'penalty']], on=['date', 'home_team', 'away_team'], how='left')"
   ],
   "metadata": {
    "collapsed": false,
    "pycharm": {
     "name": "#%%\n"
    }
   }
  },
  {
   "cell_type": "code",
   "execution_count": 886,
   "outputs": [
    {
     "data": {
      "text/plain": "           date  home_team away_team  home_score  away_score      tournament  \\\n0    2015-01-09  Australia    Kuwait           4           1   AFC Asian Cup   \n1    2015-01-09  Australia    Kuwait           4           1   AFC Asian Cup   \n2    2015-01-09  Australia    Kuwait           4           1   AFC Asian Cup   \n3    2015-01-09  Australia    Kuwait           4           1   AFC Asian Cup   \n4    2015-01-09  Australia    Kuwait           4           1   AFC Asian Cup   \n...         ...        ...       ...         ...         ...             ...   \n6458 2022-12-18  Argentina    France           3           3  FIFA World Cup   \n6459 2022-12-18  Argentina    France           3           3  FIFA World Cup   \n6460 2022-12-18  Argentina    France           3           3  FIFA World Cup   \n6461 2022-12-18  Argentina    France           3           3  FIFA World Cup   \n6462 2022-12-18  Argentina    France           3           3  FIFA World Cup   \n\n           city    country  neutral     winner       team          scorer  \\\n0     Melbourne  Australia    False  Australia     Kuwait  Hussain Fadhel   \n1     Melbourne  Australia    False  Australia  Australia      Tim Cahill   \n2     Melbourne  Australia    False  Australia  Australia  Massimo Luongo   \n3     Melbourne  Australia    False  Australia  Australia    Mile Jedinak   \n4     Melbourne  Australia    False  Australia  Australia    James Troisi   \n...         ...        ...      ...        ...        ...             ...   \n6458     Lusail      Qatar     True       Draw  Argentina  Ángel Di María   \n6459     Lusail      Qatar     True       Draw     France   Kylian Mbappé   \n6460     Lusail      Qatar     True       Draw     France   Kylian Mbappé   \n6461     Lusail      Qatar     True       Draw  Argentina    Lionel Messi   \n6462     Lusail      Qatar     True       Draw     France   Kylian Mbappé   \n\n      minute own_goal penalty  \n0        8.0    False   False  \n1       33.0    False   False  \n2       45.0    False   False  \n3       62.0    False    True  \n4       90.0    False   False  \n...      ...      ...     ...  \n6458    36.0    False   False  \n6459    80.0    False    True  \n6460    81.0    False   False  \n6461   109.0    False   False  \n6462   118.0    False    True  \n\n[6463 rows x 15 columns]",
      "text/html": "<div>\n<style scoped>\n    .dataframe tbody tr th:only-of-type {\n        vertical-align: middle;\n    }\n\n    .dataframe tbody tr th {\n        vertical-align: top;\n    }\n\n    .dataframe thead th {\n        text-align: right;\n    }\n</style>\n<table border=\"1\" class=\"dataframe\">\n  <thead>\n    <tr style=\"text-align: right;\">\n      <th></th>\n      <th>date</th>\n      <th>home_team</th>\n      <th>away_team</th>\n      <th>home_score</th>\n      <th>away_score</th>\n      <th>tournament</th>\n      <th>city</th>\n      <th>country</th>\n      <th>neutral</th>\n      <th>winner</th>\n      <th>team</th>\n      <th>scorer</th>\n      <th>minute</th>\n      <th>own_goal</th>\n      <th>penalty</th>\n    </tr>\n  </thead>\n  <tbody>\n    <tr>\n      <th>0</th>\n      <td>2015-01-09</td>\n      <td>Australia</td>\n      <td>Kuwait</td>\n      <td>4</td>\n      <td>1</td>\n      <td>AFC Asian Cup</td>\n      <td>Melbourne</td>\n      <td>Australia</td>\n      <td>False</td>\n      <td>Australia</td>\n      <td>Kuwait</td>\n      <td>Hussain Fadhel</td>\n      <td>8.0</td>\n      <td>False</td>\n      <td>False</td>\n    </tr>\n    <tr>\n      <th>1</th>\n      <td>2015-01-09</td>\n      <td>Australia</td>\n      <td>Kuwait</td>\n      <td>4</td>\n      <td>1</td>\n      <td>AFC Asian Cup</td>\n      <td>Melbourne</td>\n      <td>Australia</td>\n      <td>False</td>\n      <td>Australia</td>\n      <td>Australia</td>\n      <td>Tim Cahill</td>\n      <td>33.0</td>\n      <td>False</td>\n      <td>False</td>\n    </tr>\n    <tr>\n      <th>2</th>\n      <td>2015-01-09</td>\n      <td>Australia</td>\n      <td>Kuwait</td>\n      <td>4</td>\n      <td>1</td>\n      <td>AFC Asian Cup</td>\n      <td>Melbourne</td>\n      <td>Australia</td>\n      <td>False</td>\n      <td>Australia</td>\n      <td>Australia</td>\n      <td>Massimo Luongo</td>\n      <td>45.0</td>\n      <td>False</td>\n      <td>False</td>\n    </tr>\n    <tr>\n      <th>3</th>\n      <td>2015-01-09</td>\n      <td>Australia</td>\n      <td>Kuwait</td>\n      <td>4</td>\n      <td>1</td>\n      <td>AFC Asian Cup</td>\n      <td>Melbourne</td>\n      <td>Australia</td>\n      <td>False</td>\n      <td>Australia</td>\n      <td>Australia</td>\n      <td>Mile Jedinak</td>\n      <td>62.0</td>\n      <td>False</td>\n      <td>True</td>\n    </tr>\n    <tr>\n      <th>4</th>\n      <td>2015-01-09</td>\n      <td>Australia</td>\n      <td>Kuwait</td>\n      <td>4</td>\n      <td>1</td>\n      <td>AFC Asian Cup</td>\n      <td>Melbourne</td>\n      <td>Australia</td>\n      <td>False</td>\n      <td>Australia</td>\n      <td>Australia</td>\n      <td>James Troisi</td>\n      <td>90.0</td>\n      <td>False</td>\n      <td>False</td>\n    </tr>\n    <tr>\n      <th>...</th>\n      <td>...</td>\n      <td>...</td>\n      <td>...</td>\n      <td>...</td>\n      <td>...</td>\n      <td>...</td>\n      <td>...</td>\n      <td>...</td>\n      <td>...</td>\n      <td>...</td>\n      <td>...</td>\n      <td>...</td>\n      <td>...</td>\n      <td>...</td>\n      <td>...</td>\n    </tr>\n    <tr>\n      <th>6458</th>\n      <td>2022-12-18</td>\n      <td>Argentina</td>\n      <td>France</td>\n      <td>3</td>\n      <td>3</td>\n      <td>FIFA World Cup</td>\n      <td>Lusail</td>\n      <td>Qatar</td>\n      <td>True</td>\n      <td>Draw</td>\n      <td>Argentina</td>\n      <td>Ángel Di María</td>\n      <td>36.0</td>\n      <td>False</td>\n      <td>False</td>\n    </tr>\n    <tr>\n      <th>6459</th>\n      <td>2022-12-18</td>\n      <td>Argentina</td>\n      <td>France</td>\n      <td>3</td>\n      <td>3</td>\n      <td>FIFA World Cup</td>\n      <td>Lusail</td>\n      <td>Qatar</td>\n      <td>True</td>\n      <td>Draw</td>\n      <td>France</td>\n      <td>Kylian Mbappé</td>\n      <td>80.0</td>\n      <td>False</td>\n      <td>True</td>\n    </tr>\n    <tr>\n      <th>6460</th>\n      <td>2022-12-18</td>\n      <td>Argentina</td>\n      <td>France</td>\n      <td>3</td>\n      <td>3</td>\n      <td>FIFA World Cup</td>\n      <td>Lusail</td>\n      <td>Qatar</td>\n      <td>True</td>\n      <td>Draw</td>\n      <td>France</td>\n      <td>Kylian Mbappé</td>\n      <td>81.0</td>\n      <td>False</td>\n      <td>False</td>\n    </tr>\n    <tr>\n      <th>6461</th>\n      <td>2022-12-18</td>\n      <td>Argentina</td>\n      <td>France</td>\n      <td>3</td>\n      <td>3</td>\n      <td>FIFA World Cup</td>\n      <td>Lusail</td>\n      <td>Qatar</td>\n      <td>True</td>\n      <td>Draw</td>\n      <td>Argentina</td>\n      <td>Lionel Messi</td>\n      <td>109.0</td>\n      <td>False</td>\n      <td>False</td>\n    </tr>\n    <tr>\n      <th>6462</th>\n      <td>2022-12-18</td>\n      <td>Argentina</td>\n      <td>France</td>\n      <td>3</td>\n      <td>3</td>\n      <td>FIFA World Cup</td>\n      <td>Lusail</td>\n      <td>Qatar</td>\n      <td>True</td>\n      <td>Draw</td>\n      <td>France</td>\n      <td>Kylian Mbappé</td>\n      <td>118.0</td>\n      <td>False</td>\n      <td>True</td>\n    </tr>\n  </tbody>\n</table>\n<p>6463 rows × 15 columns</p>\n</div>"
     },
     "execution_count": 886,
     "metadata": {},
     "output_type": "execute_result"
    }
   ],
   "source": [
    "df_final"
   ],
   "metadata": {
    "collapsed": false,
    "pycharm": {
     "name": "#%%\n"
    }
   }
  },
  {
   "cell_type": "code",
   "execution_count": 887,
   "outputs": [
    {
     "name": "stdout",
     "output_type": "stream",
     "text": [
      "El dataframe tiene 15 columnas.\n",
      "Hay 5 columnas que les faltan valores.\n"
     ]
    },
    {
     "data": {
      "text/plain": "          Valores Faltantes  % de Valores Totales\nteam                    202                   3.1\nscorer                  202                   3.1\nminute                  202                   3.1\nown_goal                202                   3.1\npenalty                 202                   3.1",
      "text/html": "<div>\n<style scoped>\n    .dataframe tbody tr th:only-of-type {\n        vertical-align: middle;\n    }\n\n    .dataframe tbody tr th {\n        vertical-align: top;\n    }\n\n    .dataframe thead th {\n        text-align: right;\n    }\n</style>\n<table border=\"1\" class=\"dataframe\">\n  <thead>\n    <tr style=\"text-align: right;\">\n      <th></th>\n      <th>Valores Faltantes</th>\n      <th>% de Valores Totales</th>\n    </tr>\n  </thead>\n  <tbody>\n    <tr>\n      <th>team</th>\n      <td>202</td>\n      <td>3.1</td>\n    </tr>\n    <tr>\n      <th>scorer</th>\n      <td>202</td>\n      <td>3.1</td>\n    </tr>\n    <tr>\n      <th>minute</th>\n      <td>202</td>\n      <td>3.1</td>\n    </tr>\n    <tr>\n      <th>own_goal</th>\n      <td>202</td>\n      <td>3.1</td>\n    </tr>\n    <tr>\n      <th>penalty</th>\n      <td>202</td>\n      <td>3.1</td>\n    </tr>\n  </tbody>\n</table>\n</div>"
     },
     "execution_count": 887,
     "metadata": {},
     "output_type": "execute_result"
    }
   ],
   "source": [
    "missing_values_table(df_final)"
   ],
   "metadata": {
    "collapsed": false,
    "pycharm": {
     "name": "#%%\n"
    }
   }
  },
  {
   "cell_type": "code",
   "execution_count": 888,
   "outputs": [
    {
     "name": "stdout",
     "output_type": "stream",
     "text": [
      "<class 'pandas.core.frame.DataFrame'>\n",
      "Int64Index: 6463 entries, 0 to 6462\n",
      "Data columns (total 15 columns):\n",
      " #   Column      Non-Null Count  Dtype         \n",
      "---  ------      --------------  -----         \n",
      " 0   date        6463 non-null   datetime64[ns]\n",
      " 1   home_team   6463 non-null   object        \n",
      " 2   away_team   6463 non-null   object        \n",
      " 3   home_score  6463 non-null   int64         \n",
      " 4   away_score  6463 non-null   int64         \n",
      " 5   tournament  6463 non-null   object        \n",
      " 6   city        6463 non-null   object        \n",
      " 7   country     6463 non-null   object        \n",
      " 8   neutral     6463 non-null   bool          \n",
      " 9   winner      6463 non-null   object        \n",
      " 10  team        6261 non-null   object        \n",
      " 11  scorer      6261 non-null   object        \n",
      " 12  minute      6261 non-null   float64       \n",
      " 13  own_goal    6261 non-null   object        \n",
      " 14  penalty     6261 non-null   object        \n",
      "dtypes: bool(1), datetime64[ns](1), float64(1), int64(2), object(10)\n",
      "memory usage: 763.7+ KB\n"
     ]
    }
   ],
   "source": [
    "df_final.info()"
   ],
   "metadata": {
    "collapsed": false,
    "pycharm": {
     "name": "#%%\n"
    }
   }
  },
  {
   "cell_type": "code",
   "execution_count": 889,
   "outputs": [],
   "source": [
    "df_final.rename(columns={'date': 'fecha', 'home_team': 'equipo_local', 'away_team': 'equipo_visitante', 'home_score': 'resultado_local', 'away_score': 'resultado_visitante', 'tournament': 'torneo', 'city': 'ciudad', 'country': 'país', 'neutral': 'neutral', 'winner': 'ganador'}, inplace=True)"
   ],
   "metadata": {
    "collapsed": false,
    "pycharm": {
     "name": "#%%\n"
    }
   }
  },
  {
   "cell_type": "code",
   "execution_count": 890,
   "outputs": [
    {
     "data": {
      "text/plain": "          fecha equipo_local equipo_visitante  resultado_local  \\\n0    2015-01-09    Australia           Kuwait                4   \n1    2015-01-09    Australia           Kuwait                4   \n2    2015-01-09    Australia           Kuwait                4   \n3    2015-01-09    Australia           Kuwait                4   \n4    2015-01-09    Australia           Kuwait                4   \n...         ...          ...              ...              ...   \n6458 2022-12-18    Argentina           France                3   \n6459 2022-12-18    Argentina           France                3   \n6460 2022-12-18    Argentina           France                3   \n6461 2022-12-18    Argentina           France                3   \n6462 2022-12-18    Argentina           France                3   \n\n      resultado_visitante          torneo     ciudad       país  neutral  \\\n0                       1   AFC Asian Cup  Melbourne  Australia    False   \n1                       1   AFC Asian Cup  Melbourne  Australia    False   \n2                       1   AFC Asian Cup  Melbourne  Australia    False   \n3                       1   AFC Asian Cup  Melbourne  Australia    False   \n4                       1   AFC Asian Cup  Melbourne  Australia    False   \n...                   ...             ...        ...        ...      ...   \n6458                    3  FIFA World Cup     Lusail      Qatar     True   \n6459                    3  FIFA World Cup     Lusail      Qatar     True   \n6460                    3  FIFA World Cup     Lusail      Qatar     True   \n6461                    3  FIFA World Cup     Lusail      Qatar     True   \n6462                    3  FIFA World Cup     Lusail      Qatar     True   \n\n        ganador       team          scorer  minute own_goal penalty  \n0     Australia     Kuwait  Hussain Fadhel     8.0    False   False  \n1     Australia  Australia      Tim Cahill    33.0    False   False  \n2     Australia  Australia  Massimo Luongo    45.0    False   False  \n3     Australia  Australia    Mile Jedinak    62.0    False    True  \n4     Australia  Australia    James Troisi    90.0    False   False  \n...         ...        ...             ...     ...      ...     ...  \n6458       Draw  Argentina  Ángel Di María    36.0    False   False  \n6459       Draw     France   Kylian Mbappé    80.0    False    True  \n6460       Draw     France   Kylian Mbappé    81.0    False   False  \n6461       Draw  Argentina    Lionel Messi   109.0    False   False  \n6462       Draw     France   Kylian Mbappé   118.0    False    True  \n\n[6463 rows x 15 columns]",
      "text/html": "<div>\n<style scoped>\n    .dataframe tbody tr th:only-of-type {\n        vertical-align: middle;\n    }\n\n    .dataframe tbody tr th {\n        vertical-align: top;\n    }\n\n    .dataframe thead th {\n        text-align: right;\n    }\n</style>\n<table border=\"1\" class=\"dataframe\">\n  <thead>\n    <tr style=\"text-align: right;\">\n      <th></th>\n      <th>fecha</th>\n      <th>equipo_local</th>\n      <th>equipo_visitante</th>\n      <th>resultado_local</th>\n      <th>resultado_visitante</th>\n      <th>torneo</th>\n      <th>ciudad</th>\n      <th>país</th>\n      <th>neutral</th>\n      <th>ganador</th>\n      <th>team</th>\n      <th>scorer</th>\n      <th>minute</th>\n      <th>own_goal</th>\n      <th>penalty</th>\n    </tr>\n  </thead>\n  <tbody>\n    <tr>\n      <th>0</th>\n      <td>2015-01-09</td>\n      <td>Australia</td>\n      <td>Kuwait</td>\n      <td>4</td>\n      <td>1</td>\n      <td>AFC Asian Cup</td>\n      <td>Melbourne</td>\n      <td>Australia</td>\n      <td>False</td>\n      <td>Australia</td>\n      <td>Kuwait</td>\n      <td>Hussain Fadhel</td>\n      <td>8.0</td>\n      <td>False</td>\n      <td>False</td>\n    </tr>\n    <tr>\n      <th>1</th>\n      <td>2015-01-09</td>\n      <td>Australia</td>\n      <td>Kuwait</td>\n      <td>4</td>\n      <td>1</td>\n      <td>AFC Asian Cup</td>\n      <td>Melbourne</td>\n      <td>Australia</td>\n      <td>False</td>\n      <td>Australia</td>\n      <td>Australia</td>\n      <td>Tim Cahill</td>\n      <td>33.0</td>\n      <td>False</td>\n      <td>False</td>\n    </tr>\n    <tr>\n      <th>2</th>\n      <td>2015-01-09</td>\n      <td>Australia</td>\n      <td>Kuwait</td>\n      <td>4</td>\n      <td>1</td>\n      <td>AFC Asian Cup</td>\n      <td>Melbourne</td>\n      <td>Australia</td>\n      <td>False</td>\n      <td>Australia</td>\n      <td>Australia</td>\n      <td>Massimo Luongo</td>\n      <td>45.0</td>\n      <td>False</td>\n      <td>False</td>\n    </tr>\n    <tr>\n      <th>3</th>\n      <td>2015-01-09</td>\n      <td>Australia</td>\n      <td>Kuwait</td>\n      <td>4</td>\n      <td>1</td>\n      <td>AFC Asian Cup</td>\n      <td>Melbourne</td>\n      <td>Australia</td>\n      <td>False</td>\n      <td>Australia</td>\n      <td>Australia</td>\n      <td>Mile Jedinak</td>\n      <td>62.0</td>\n      <td>False</td>\n      <td>True</td>\n    </tr>\n    <tr>\n      <th>4</th>\n      <td>2015-01-09</td>\n      <td>Australia</td>\n      <td>Kuwait</td>\n      <td>4</td>\n      <td>1</td>\n      <td>AFC Asian Cup</td>\n      <td>Melbourne</td>\n      <td>Australia</td>\n      <td>False</td>\n      <td>Australia</td>\n      <td>Australia</td>\n      <td>James Troisi</td>\n      <td>90.0</td>\n      <td>False</td>\n      <td>False</td>\n    </tr>\n    <tr>\n      <th>...</th>\n      <td>...</td>\n      <td>...</td>\n      <td>...</td>\n      <td>...</td>\n      <td>...</td>\n      <td>...</td>\n      <td>...</td>\n      <td>...</td>\n      <td>...</td>\n      <td>...</td>\n      <td>...</td>\n      <td>...</td>\n      <td>...</td>\n      <td>...</td>\n      <td>...</td>\n    </tr>\n    <tr>\n      <th>6458</th>\n      <td>2022-12-18</td>\n      <td>Argentina</td>\n      <td>France</td>\n      <td>3</td>\n      <td>3</td>\n      <td>FIFA World Cup</td>\n      <td>Lusail</td>\n      <td>Qatar</td>\n      <td>True</td>\n      <td>Draw</td>\n      <td>Argentina</td>\n      <td>Ángel Di María</td>\n      <td>36.0</td>\n      <td>False</td>\n      <td>False</td>\n    </tr>\n    <tr>\n      <th>6459</th>\n      <td>2022-12-18</td>\n      <td>Argentina</td>\n      <td>France</td>\n      <td>3</td>\n      <td>3</td>\n      <td>FIFA World Cup</td>\n      <td>Lusail</td>\n      <td>Qatar</td>\n      <td>True</td>\n      <td>Draw</td>\n      <td>France</td>\n      <td>Kylian Mbappé</td>\n      <td>80.0</td>\n      <td>False</td>\n      <td>True</td>\n    </tr>\n    <tr>\n      <th>6460</th>\n      <td>2022-12-18</td>\n      <td>Argentina</td>\n      <td>France</td>\n      <td>3</td>\n      <td>3</td>\n      <td>FIFA World Cup</td>\n      <td>Lusail</td>\n      <td>Qatar</td>\n      <td>True</td>\n      <td>Draw</td>\n      <td>France</td>\n      <td>Kylian Mbappé</td>\n      <td>81.0</td>\n      <td>False</td>\n      <td>False</td>\n    </tr>\n    <tr>\n      <th>6461</th>\n      <td>2022-12-18</td>\n      <td>Argentina</td>\n      <td>France</td>\n      <td>3</td>\n      <td>3</td>\n      <td>FIFA World Cup</td>\n      <td>Lusail</td>\n      <td>Qatar</td>\n      <td>True</td>\n      <td>Draw</td>\n      <td>Argentina</td>\n      <td>Lionel Messi</td>\n      <td>109.0</td>\n      <td>False</td>\n      <td>False</td>\n    </tr>\n    <tr>\n      <th>6462</th>\n      <td>2022-12-18</td>\n      <td>Argentina</td>\n      <td>France</td>\n      <td>3</td>\n      <td>3</td>\n      <td>FIFA World Cup</td>\n      <td>Lusail</td>\n      <td>Qatar</td>\n      <td>True</td>\n      <td>Draw</td>\n      <td>France</td>\n      <td>Kylian Mbappé</td>\n      <td>118.0</td>\n      <td>False</td>\n      <td>True</td>\n    </tr>\n  </tbody>\n</table>\n<p>6463 rows × 15 columns</p>\n</div>"
     },
     "execution_count": 890,
     "metadata": {},
     "output_type": "execute_result"
    }
   ],
   "source": [
    "df_final.reset_index(drop=True,inplace=True)\n",
    "df_final"
   ],
   "metadata": {
    "collapsed": false,
    "pycharm": {
     "name": "#%%\n"
    }
   }
  },
  {
   "cell_type": "code",
   "execution_count": 891,
   "outputs": [
    {
     "name": "stdout",
     "output_type": "stream",
     "text": [
      "2326\n"
     ]
    }
   ],
   "source": [
    "unique_combinations = df_final[['fecha', 'equipo_local', 'equipo_visitante']].drop_duplicates().shape[0]\n",
    "print(unique_combinations)"
   ],
   "metadata": {
    "collapsed": false,
    "pycharm": {
     "name": "#%%\n"
    }
   }
  },
  {
   "cell_type": "code",
   "execution_count": 892,
   "outputs": [
    {
     "name": "stdout",
     "output_type": "stream",
     "text": [
      "Número de filas donde 'Scorer' está vacía:  202\n",
      "Número de filas donde 'Scorer' no está vacía:  6261\n"
     ]
    }
   ],
   "source": [
    "# Número de filas donde la columna 'Scorer' está vacía\n",
    "num_vacias = df_final['scorer'].isna().sum()\n",
    "\n",
    "# Número de filas donde la columna 'Scorer' no está vacía\n",
    "num_no_vacias = df_final['scorer'].notna().sum()\n",
    "\n",
    "print(\"Número de filas donde 'Scorer' está vacía: \", num_vacias)\n",
    "print(\"Número de filas donde 'Scorer' no está vacía: \", num_no_vacias)"
   ],
   "metadata": {
    "collapsed": false,
    "pycharm": {
     "name": "#%%\n"
    }
   }
  },
  {
   "cell_type": "code",
   "execution_count": 893,
   "outputs": [
    {
     "data": {
      "text/plain": "          fecha equipo_local equipo_visitante  resultado_local  \\\n0    2022-01-10      Comoros            Gabon                0   \n1    2015-09-03    Australia       Bangladesh                5   \n2    2016-03-29    Australia           Jordan                5   \n3    2019-09-10       Kuwait        Australia                0   \n4    2022-02-01         Oman        Australia                2   \n...         ...          ...              ...              ...   \n5659 2022-11-23      Morocco          Croatia                0   \n5660 2022-11-24      Uruguay      South Korea                0   \n5661 2022-11-25      England    United States                0   \n5662 2022-12-01      Croatia          Belgium                0   \n5663 2022-12-06      Morocco            Spain                0   \n\n      resultado_visitante                        torneo       ciudad  \\\n0                       1        African Cup of Nations      Yaoundé   \n1                       0  FIFA World Cup qualification        Perth   \n2                       1  FIFA World Cup qualification       Sydney   \n3                       3  FIFA World Cup qualification  Kuwait City   \n4                       2  FIFA World Cup qualification       Muscat   \n...                   ...                           ...          ...   \n5659                    0                FIFA World Cup      Al Khor   \n5660                    0                FIFA World Cup    Al Rayyan   \n5661                    0                FIFA World Cup      Al Khor   \n5662                    0                FIFA World Cup    Al Rayyan   \n5663                    0                FIFA World Cup    Al Rayyan   \n\n           país  neutral    ganador       team           scorer own_goal  \\\n0      Cameroon     True      Gabon      Gabon  Aaron Boupendza    False   \n1     Australia    False  Australia  Australia       Aaron Mooy    False   \n2     Australia    False  Australia  Australia       Aaron Mooy    False   \n3        Kuwait    False  Australia  Australia       Aaron Mooy    False   \n4          Oman    False       Draw  Australia       Aaron Mooy    False   \n...         ...      ...        ...        ...              ...      ...   \n5659      Qatar     True       Draw        NaN              NaN      NaN   \n5660      Qatar     True       Draw        NaN              NaN      NaN   \n5661      Qatar     True       Draw        NaN              NaN      NaN   \n5662      Qatar     True       Draw        NaN              NaN      NaN   \n5663      Qatar     True       Draw        NaN              NaN      NaN   \n\n     penalty                           partido  minute  goles_anotados  \n0      False          2022-01-10_Comoros_Gabon    16.0             1.0  \n1      False   2015-09-03_Australia_Bangladesh    61.0             1.0  \n2      False       2016-03-29_Australia_Jordan    39.0             1.0  \n3      False       2019-09-10_Kuwait_Australia    38.0             1.0  \n4      False         2022-02-01_Oman_Australia    79.0             1.0  \n...      ...                               ...     ...             ...  \n5659     NaN        2022-11-23_Morocco_Croatia     NaN             NaN  \n5660     NaN    2022-11-24_Uruguay_South Korea     NaN             NaN  \n5661     NaN  2022-11-25_England_United States     NaN             NaN  \n5662     NaN        2022-12-01_Croatia_Belgium     NaN             NaN  \n5663     NaN          2022-12-06_Morocco_Spain     NaN             NaN  \n\n[5664 rows x 17 columns]",
      "text/html": "<div>\n<style scoped>\n    .dataframe tbody tr th:only-of-type {\n        vertical-align: middle;\n    }\n\n    .dataframe tbody tr th {\n        vertical-align: top;\n    }\n\n    .dataframe thead th {\n        text-align: right;\n    }\n</style>\n<table border=\"1\" class=\"dataframe\">\n  <thead>\n    <tr style=\"text-align: right;\">\n      <th></th>\n      <th>fecha</th>\n      <th>equipo_local</th>\n      <th>equipo_visitante</th>\n      <th>resultado_local</th>\n      <th>resultado_visitante</th>\n      <th>torneo</th>\n      <th>ciudad</th>\n      <th>país</th>\n      <th>neutral</th>\n      <th>ganador</th>\n      <th>team</th>\n      <th>scorer</th>\n      <th>own_goal</th>\n      <th>penalty</th>\n      <th>partido</th>\n      <th>minute</th>\n      <th>goles_anotados</th>\n    </tr>\n  </thead>\n  <tbody>\n    <tr>\n      <th>0</th>\n      <td>2022-01-10</td>\n      <td>Comoros</td>\n      <td>Gabon</td>\n      <td>0</td>\n      <td>1</td>\n      <td>African Cup of Nations</td>\n      <td>Yaoundé</td>\n      <td>Cameroon</td>\n      <td>True</td>\n      <td>Gabon</td>\n      <td>Gabon</td>\n      <td>Aaron Boupendza</td>\n      <td>False</td>\n      <td>False</td>\n      <td>2022-01-10_Comoros_Gabon</td>\n      <td>16.0</td>\n      <td>1.0</td>\n    </tr>\n    <tr>\n      <th>1</th>\n      <td>2015-09-03</td>\n      <td>Australia</td>\n      <td>Bangladesh</td>\n      <td>5</td>\n      <td>0</td>\n      <td>FIFA World Cup qualification</td>\n      <td>Perth</td>\n      <td>Australia</td>\n      <td>False</td>\n      <td>Australia</td>\n      <td>Australia</td>\n      <td>Aaron Mooy</td>\n      <td>False</td>\n      <td>False</td>\n      <td>2015-09-03_Australia_Bangladesh</td>\n      <td>61.0</td>\n      <td>1.0</td>\n    </tr>\n    <tr>\n      <th>2</th>\n      <td>2016-03-29</td>\n      <td>Australia</td>\n      <td>Jordan</td>\n      <td>5</td>\n      <td>1</td>\n      <td>FIFA World Cup qualification</td>\n      <td>Sydney</td>\n      <td>Australia</td>\n      <td>False</td>\n      <td>Australia</td>\n      <td>Australia</td>\n      <td>Aaron Mooy</td>\n      <td>False</td>\n      <td>False</td>\n      <td>2016-03-29_Australia_Jordan</td>\n      <td>39.0</td>\n      <td>1.0</td>\n    </tr>\n    <tr>\n      <th>3</th>\n      <td>2019-09-10</td>\n      <td>Kuwait</td>\n      <td>Australia</td>\n      <td>0</td>\n      <td>3</td>\n      <td>FIFA World Cup qualification</td>\n      <td>Kuwait City</td>\n      <td>Kuwait</td>\n      <td>False</td>\n      <td>Australia</td>\n      <td>Australia</td>\n      <td>Aaron Mooy</td>\n      <td>False</td>\n      <td>False</td>\n      <td>2019-09-10_Kuwait_Australia</td>\n      <td>38.0</td>\n      <td>1.0</td>\n    </tr>\n    <tr>\n      <th>4</th>\n      <td>2022-02-01</td>\n      <td>Oman</td>\n      <td>Australia</td>\n      <td>2</td>\n      <td>2</td>\n      <td>FIFA World Cup qualification</td>\n      <td>Muscat</td>\n      <td>Oman</td>\n      <td>False</td>\n      <td>Draw</td>\n      <td>Australia</td>\n      <td>Aaron Mooy</td>\n      <td>False</td>\n      <td>False</td>\n      <td>2022-02-01_Oman_Australia</td>\n      <td>79.0</td>\n      <td>1.0</td>\n    </tr>\n    <tr>\n      <th>...</th>\n      <td>...</td>\n      <td>...</td>\n      <td>...</td>\n      <td>...</td>\n      <td>...</td>\n      <td>...</td>\n      <td>...</td>\n      <td>...</td>\n      <td>...</td>\n      <td>...</td>\n      <td>...</td>\n      <td>...</td>\n      <td>...</td>\n      <td>...</td>\n      <td>...</td>\n      <td>...</td>\n      <td>...</td>\n    </tr>\n    <tr>\n      <th>5659</th>\n      <td>2022-11-23</td>\n      <td>Morocco</td>\n      <td>Croatia</td>\n      <td>0</td>\n      <td>0</td>\n      <td>FIFA World Cup</td>\n      <td>Al Khor</td>\n      <td>Qatar</td>\n      <td>True</td>\n      <td>Draw</td>\n      <td>NaN</td>\n      <td>NaN</td>\n      <td>NaN</td>\n      <td>NaN</td>\n      <td>2022-11-23_Morocco_Croatia</td>\n      <td>NaN</td>\n      <td>NaN</td>\n    </tr>\n    <tr>\n      <th>5660</th>\n      <td>2022-11-24</td>\n      <td>Uruguay</td>\n      <td>South Korea</td>\n      <td>0</td>\n      <td>0</td>\n      <td>FIFA World Cup</td>\n      <td>Al Rayyan</td>\n      <td>Qatar</td>\n      <td>True</td>\n      <td>Draw</td>\n      <td>NaN</td>\n      <td>NaN</td>\n      <td>NaN</td>\n      <td>NaN</td>\n      <td>2022-11-24_Uruguay_South Korea</td>\n      <td>NaN</td>\n      <td>NaN</td>\n    </tr>\n    <tr>\n      <th>5661</th>\n      <td>2022-11-25</td>\n      <td>England</td>\n      <td>United States</td>\n      <td>0</td>\n      <td>0</td>\n      <td>FIFA World Cup</td>\n      <td>Al Khor</td>\n      <td>Qatar</td>\n      <td>True</td>\n      <td>Draw</td>\n      <td>NaN</td>\n      <td>NaN</td>\n      <td>NaN</td>\n      <td>NaN</td>\n      <td>2022-11-25_England_United States</td>\n      <td>NaN</td>\n      <td>NaN</td>\n    </tr>\n    <tr>\n      <th>5662</th>\n      <td>2022-12-01</td>\n      <td>Croatia</td>\n      <td>Belgium</td>\n      <td>0</td>\n      <td>0</td>\n      <td>FIFA World Cup</td>\n      <td>Al Rayyan</td>\n      <td>Qatar</td>\n      <td>True</td>\n      <td>Draw</td>\n      <td>NaN</td>\n      <td>NaN</td>\n      <td>NaN</td>\n      <td>NaN</td>\n      <td>2022-12-01_Croatia_Belgium</td>\n      <td>NaN</td>\n      <td>NaN</td>\n    </tr>\n    <tr>\n      <th>5663</th>\n      <td>2022-12-06</td>\n      <td>Morocco</td>\n      <td>Spain</td>\n      <td>0</td>\n      <td>0</td>\n      <td>FIFA World Cup</td>\n      <td>Al Rayyan</td>\n      <td>Qatar</td>\n      <td>True</td>\n      <td>Draw</td>\n      <td>NaN</td>\n      <td>NaN</td>\n      <td>NaN</td>\n      <td>NaN</td>\n      <td>2022-12-06_Morocco_Spain</td>\n      <td>NaN</td>\n      <td>NaN</td>\n    </tr>\n  </tbody>\n</table>\n<p>5664 rows × 17 columns</p>\n</div>"
     },
     "execution_count": 893,
     "metadata": {},
     "output_type": "execute_result"
    }
   ],
   "source": [
    "import pandas as pd\n",
    "\n",
    "# Combina la información de fecha y equipos para identificar el partido\n",
    "df_final['partido'] = df_final['fecha'].astype(str) + '_' + df_final['equipo_local'] + '_' + df_final['equipo_visitante']\n",
    "\n",
    "# Ordena el DataFrame por 'scorer', 'partido' y 'minute' para tener los duplicados juntos\n",
    "df_final = df_final.sort_values(by=['scorer', 'partido', 'minute'])\n",
    "\n",
    "# Calcula el valor medio de 'minute'\n",
    "df_final['minute_mean'] = df_final.groupby(['scorer', 'partido'])['minute'].transform('mean')\n",
    "\n",
    "# Convierte la columna 'penalty' a tipo booleano si hay algún valor True en el grupo\n",
    "df_final['penalty'] = df_final.groupby(['scorer', 'partido'])['penalty'].transform(lambda x: x.any())\n",
    "\n",
    "# Calcula la cantidad de goles anotados por cada 'scorer' en un partido\n",
    "df_final['goles_anotados'] = df_final.groupby(['scorer', 'partido']).cumcount() + 1\n",
    "\n",
    "# Elimina las repeticiones y mantén solo la última aparición de cada 'scorer' en un partido\n",
    "df_final = df_final.drop_duplicates(subset=['scorer', 'partido'], keep='last')\n",
    "\n",
    "# Elimina las columnas 'minute' originales\n",
    "df_final = df_final.drop(['minute'], axis=1)\n",
    "\n",
    "# Renombra la columna 'minute_mean' a 'minute'\n",
    "df_final = df_final.rename(columns={'minute_mean': 'minute'})\n",
    "\n",
    "# Restablece el índice del DataFrame\n",
    "df_final = df_final.reset_index(drop=True)\n",
    "\n",
    "# Muestra el DataFrame resultante\n",
    "df_final"
   ],
   "metadata": {
    "collapsed": false,
    "pycharm": {
     "name": "#%%\n"
    }
   }
  },
  {
   "cell_type": "code",
   "execution_count": 894,
   "outputs": [
    {
     "name": "stdout",
     "output_type": "stream",
     "text": [
      "<class 'pandas.core.frame.DataFrame'>\n",
      "RangeIndex: 5664 entries, 0 to 5663\n",
      "Data columns (total 17 columns):\n",
      " #   Column               Non-Null Count  Dtype         \n",
      "---  ------               --------------  -----         \n",
      " 0   fecha                5664 non-null   datetime64[ns]\n",
      " 1   equipo_local         5664 non-null   object        \n",
      " 2   equipo_visitante     5664 non-null   object        \n",
      " 3   resultado_local      5664 non-null   int64         \n",
      " 4   resultado_visitante  5664 non-null   int64         \n",
      " 5   torneo               5664 non-null   object        \n",
      " 6   ciudad               5664 non-null   object        \n",
      " 7   país                 5664 non-null   object        \n",
      " 8   neutral              5664 non-null   bool          \n",
      " 9   ganador              5664 non-null   object        \n",
      " 10  team                 5462 non-null   object        \n",
      " 11  scorer               5462 non-null   object        \n",
      " 12  own_goal             5462 non-null   object        \n",
      " 13  penalty              5462 non-null   object        \n",
      " 14  partido              5664 non-null   object        \n",
      " 15  minute               5462 non-null   float64       \n",
      " 16  goles_anotados       5462 non-null   float64       \n",
      "dtypes: bool(1), datetime64[ns](1), float64(2), int64(2), object(11)\n",
      "memory usage: 713.7+ KB\n"
     ]
    }
   ],
   "source": [
    "df_final.info()"
   ],
   "metadata": {
    "collapsed": false,
    "pycharm": {
     "name": "#%%\n"
    }
   }
  },
  {
   "cell_type": "code",
   "execution_count": 895,
   "outputs": [
    {
     "data": {
      "text/plain": "     equipo_local equipo_visitante  resultado_local  resultado_visitante  \\\n0         Comoros            Gabon                0                    1   \n1       Australia       Bangladesh                5                    0   \n2       Australia           Jordan                5                    1   \n3          Kuwait        Australia                0                    3   \n4            Oman        Australia                2                    2   \n...           ...              ...              ...                  ...   \n5659      Morocco          Croatia                0                    0   \n5660      Uruguay      South Korea                0                    0   \n5661      England    United States                0                    0   \n5662      Croatia          Belgium                0                    0   \n5663      Morocco            Spain                0                    0   \n\n                            torneo    ganador       team           scorer  \\\n0           African Cup of Nations      Gabon      Gabon  Aaron Boupendza   \n1     FIFA World Cup qualification  Australia  Australia       Aaron Mooy   \n2     FIFA World Cup qualification  Australia  Australia       Aaron Mooy   \n3     FIFA World Cup qualification  Australia  Australia       Aaron Mooy   \n4     FIFA World Cup qualification       Draw  Australia       Aaron Mooy   \n...                            ...        ...        ...              ...   \n5659                FIFA World Cup       Draw        NaN              NaN   \n5660                FIFA World Cup       Draw        NaN              NaN   \n5661                FIFA World Cup       Draw        NaN              NaN   \n5662                FIFA World Cup       Draw        NaN              NaN   \n5663                FIFA World Cup       Draw        NaN              NaN   \n\n     own_goal penalty                           partido  minute  \\\n0       False   False          2022-01-10_Comoros_Gabon    16.0   \n1       False   False   2015-09-03_Australia_Bangladesh    61.0   \n2       False   False       2016-03-29_Australia_Jordan    39.0   \n3       False   False       2019-09-10_Kuwait_Australia    38.0   \n4       False   False         2022-02-01_Oman_Australia    79.0   \n...       ...     ...                               ...     ...   \n5659      NaN     NaN        2022-11-23_Morocco_Croatia     NaN   \n5660      NaN     NaN    2022-11-24_Uruguay_South Korea     NaN   \n5661      NaN     NaN  2022-11-25_England_United States     NaN   \n5662      NaN     NaN        2022-12-01_Croatia_Belgium     NaN   \n5663      NaN     NaN          2022-12-06_Morocco_Spain     NaN   \n\n      goles_anotados  \n0                1.0  \n1                1.0  \n2                1.0  \n3                1.0  \n4                1.0  \n...              ...  \n5659             NaN  \n5660             NaN  \n5661             NaN  \n5662             NaN  \n5663             NaN  \n\n[5664 rows x 13 columns]",
      "text/html": "<div>\n<style scoped>\n    .dataframe tbody tr th:only-of-type {\n        vertical-align: middle;\n    }\n\n    .dataframe tbody tr th {\n        vertical-align: top;\n    }\n\n    .dataframe thead th {\n        text-align: right;\n    }\n</style>\n<table border=\"1\" class=\"dataframe\">\n  <thead>\n    <tr style=\"text-align: right;\">\n      <th></th>\n      <th>equipo_local</th>\n      <th>equipo_visitante</th>\n      <th>resultado_local</th>\n      <th>resultado_visitante</th>\n      <th>torneo</th>\n      <th>ganador</th>\n      <th>team</th>\n      <th>scorer</th>\n      <th>own_goal</th>\n      <th>penalty</th>\n      <th>partido</th>\n      <th>minute</th>\n      <th>goles_anotados</th>\n    </tr>\n  </thead>\n  <tbody>\n    <tr>\n      <th>0</th>\n      <td>Comoros</td>\n      <td>Gabon</td>\n      <td>0</td>\n      <td>1</td>\n      <td>African Cup of Nations</td>\n      <td>Gabon</td>\n      <td>Gabon</td>\n      <td>Aaron Boupendza</td>\n      <td>False</td>\n      <td>False</td>\n      <td>2022-01-10_Comoros_Gabon</td>\n      <td>16.0</td>\n      <td>1.0</td>\n    </tr>\n    <tr>\n      <th>1</th>\n      <td>Australia</td>\n      <td>Bangladesh</td>\n      <td>5</td>\n      <td>0</td>\n      <td>FIFA World Cup qualification</td>\n      <td>Australia</td>\n      <td>Australia</td>\n      <td>Aaron Mooy</td>\n      <td>False</td>\n      <td>False</td>\n      <td>2015-09-03_Australia_Bangladesh</td>\n      <td>61.0</td>\n      <td>1.0</td>\n    </tr>\n    <tr>\n      <th>2</th>\n      <td>Australia</td>\n      <td>Jordan</td>\n      <td>5</td>\n      <td>1</td>\n      <td>FIFA World Cup qualification</td>\n      <td>Australia</td>\n      <td>Australia</td>\n      <td>Aaron Mooy</td>\n      <td>False</td>\n      <td>False</td>\n      <td>2016-03-29_Australia_Jordan</td>\n      <td>39.0</td>\n      <td>1.0</td>\n    </tr>\n    <tr>\n      <th>3</th>\n      <td>Kuwait</td>\n      <td>Australia</td>\n      <td>0</td>\n      <td>3</td>\n      <td>FIFA World Cup qualification</td>\n      <td>Australia</td>\n      <td>Australia</td>\n      <td>Aaron Mooy</td>\n      <td>False</td>\n      <td>False</td>\n      <td>2019-09-10_Kuwait_Australia</td>\n      <td>38.0</td>\n      <td>1.0</td>\n    </tr>\n    <tr>\n      <th>4</th>\n      <td>Oman</td>\n      <td>Australia</td>\n      <td>2</td>\n      <td>2</td>\n      <td>FIFA World Cup qualification</td>\n      <td>Draw</td>\n      <td>Australia</td>\n      <td>Aaron Mooy</td>\n      <td>False</td>\n      <td>False</td>\n      <td>2022-02-01_Oman_Australia</td>\n      <td>79.0</td>\n      <td>1.0</td>\n    </tr>\n    <tr>\n      <th>...</th>\n      <td>...</td>\n      <td>...</td>\n      <td>...</td>\n      <td>...</td>\n      <td>...</td>\n      <td>...</td>\n      <td>...</td>\n      <td>...</td>\n      <td>...</td>\n      <td>...</td>\n      <td>...</td>\n      <td>...</td>\n      <td>...</td>\n    </tr>\n    <tr>\n      <th>5659</th>\n      <td>Morocco</td>\n      <td>Croatia</td>\n      <td>0</td>\n      <td>0</td>\n      <td>FIFA World Cup</td>\n      <td>Draw</td>\n      <td>NaN</td>\n      <td>NaN</td>\n      <td>NaN</td>\n      <td>NaN</td>\n      <td>2022-11-23_Morocco_Croatia</td>\n      <td>NaN</td>\n      <td>NaN</td>\n    </tr>\n    <tr>\n      <th>5660</th>\n      <td>Uruguay</td>\n      <td>South Korea</td>\n      <td>0</td>\n      <td>0</td>\n      <td>FIFA World Cup</td>\n      <td>Draw</td>\n      <td>NaN</td>\n      <td>NaN</td>\n      <td>NaN</td>\n      <td>NaN</td>\n      <td>2022-11-24_Uruguay_South Korea</td>\n      <td>NaN</td>\n      <td>NaN</td>\n    </tr>\n    <tr>\n      <th>5661</th>\n      <td>England</td>\n      <td>United States</td>\n      <td>0</td>\n      <td>0</td>\n      <td>FIFA World Cup</td>\n      <td>Draw</td>\n      <td>NaN</td>\n      <td>NaN</td>\n      <td>NaN</td>\n      <td>NaN</td>\n      <td>2022-11-25_England_United States</td>\n      <td>NaN</td>\n      <td>NaN</td>\n    </tr>\n    <tr>\n      <th>5662</th>\n      <td>Croatia</td>\n      <td>Belgium</td>\n      <td>0</td>\n      <td>0</td>\n      <td>FIFA World Cup</td>\n      <td>Draw</td>\n      <td>NaN</td>\n      <td>NaN</td>\n      <td>NaN</td>\n      <td>NaN</td>\n      <td>2022-12-01_Croatia_Belgium</td>\n      <td>NaN</td>\n      <td>NaN</td>\n    </tr>\n    <tr>\n      <th>5663</th>\n      <td>Morocco</td>\n      <td>Spain</td>\n      <td>0</td>\n      <td>0</td>\n      <td>FIFA World Cup</td>\n      <td>Draw</td>\n      <td>NaN</td>\n      <td>NaN</td>\n      <td>NaN</td>\n      <td>NaN</td>\n      <td>2022-12-06_Morocco_Spain</td>\n      <td>NaN</td>\n      <td>NaN</td>\n    </tr>\n  </tbody>\n</table>\n<p>5664 rows × 13 columns</p>\n</div>"
     },
     "execution_count": 895,
     "metadata": {},
     "output_type": "execute_result"
    }
   ],
   "source": [
    "df_encoded=df_final.copy()\n",
    "eliminar = ['fecha', 'ciudad', 'país', 'neutral']\n",
    "df_encoded = df_encoded.drop(columns=eliminar)\n",
    "df_encoded"
   ],
   "metadata": {
    "collapsed": false,
    "pycharm": {
     "name": "#%%\n"
    }
   }
  },
  {
   "cell_type": "code",
   "execution_count": 896,
   "outputs": [
    {
     "data": {
      "text/plain": "     equipo_local equipo_visitante  resultado_local  resultado_visitante  \\\n0         Comoros            Gabon                0                    1   \n1       Australia       Bangladesh                5                    0   \n2       Australia           Jordan                5                    1   \n3          Kuwait        Australia                0                    3   \n4            Oman        Australia                2                    2   \n...           ...              ...              ...                  ...   \n5659      Morocco          Croatia                0                    0   \n5660      Uruguay      South Korea                0                    0   \n5661      England    United States                0                    0   \n5662      Croatia          Belgium                0                    0   \n5663      Morocco            Spain                0                    0   \n\n                            torneo    ganador       team           scorer  \\\n0           African Cup of Nations      Gabon      Gabon  Aaron Boupendza   \n1     FIFA World Cup qualification  Australia  Australia       Aaron Mooy   \n2     FIFA World Cup qualification  Australia  Australia       Aaron Mooy   \n3     FIFA World Cup qualification  Australia  Australia       Aaron Mooy   \n4     FIFA World Cup qualification       Draw  Australia       Aaron Mooy   \n...                            ...        ...        ...              ...   \n5659                FIFA World Cup       Draw        NaN              NaN   \n5660                FIFA World Cup       Draw        NaN              NaN   \n5661                FIFA World Cup       Draw        NaN              NaN   \n5662                FIFA World Cup       Draw        NaN              NaN   \n5663                FIFA World Cup       Draw        NaN              NaN   \n\n     penalty                           partido  minute  goles_anotados  \n0      False          2022-01-10_Comoros_Gabon    16.0             1.0  \n1      False   2015-09-03_Australia_Bangladesh    61.0             1.0  \n2      False       2016-03-29_Australia_Jordan    39.0             1.0  \n3      False       2019-09-10_Kuwait_Australia    38.0             1.0  \n4      False         2022-02-01_Oman_Australia    79.0             1.0  \n...      ...                               ...     ...             ...  \n5659     NaN        2022-11-23_Morocco_Croatia     NaN             NaN  \n5660     NaN    2022-11-24_Uruguay_South Korea     NaN             NaN  \n5661     NaN  2022-11-25_England_United States     NaN             NaN  \n5662     NaN        2022-12-01_Croatia_Belgium     NaN             NaN  \n5663     NaN          2022-12-06_Morocco_Spain     NaN             NaN  \n\n[5497 rows x 12 columns]",
      "text/html": "<div>\n<style scoped>\n    .dataframe tbody tr th:only-of-type {\n        vertical-align: middle;\n    }\n\n    .dataframe tbody tr th {\n        vertical-align: top;\n    }\n\n    .dataframe thead th {\n        text-align: right;\n    }\n</style>\n<table border=\"1\" class=\"dataframe\">\n  <thead>\n    <tr style=\"text-align: right;\">\n      <th></th>\n      <th>equipo_local</th>\n      <th>equipo_visitante</th>\n      <th>resultado_local</th>\n      <th>resultado_visitante</th>\n      <th>torneo</th>\n      <th>ganador</th>\n      <th>team</th>\n      <th>scorer</th>\n      <th>penalty</th>\n      <th>partido</th>\n      <th>minute</th>\n      <th>goles_anotados</th>\n    </tr>\n  </thead>\n  <tbody>\n    <tr>\n      <th>0</th>\n      <td>Comoros</td>\n      <td>Gabon</td>\n      <td>0</td>\n      <td>1</td>\n      <td>African Cup of Nations</td>\n      <td>Gabon</td>\n      <td>Gabon</td>\n      <td>Aaron Boupendza</td>\n      <td>False</td>\n      <td>2022-01-10_Comoros_Gabon</td>\n      <td>16.0</td>\n      <td>1.0</td>\n    </tr>\n    <tr>\n      <th>1</th>\n      <td>Australia</td>\n      <td>Bangladesh</td>\n      <td>5</td>\n      <td>0</td>\n      <td>FIFA World Cup qualification</td>\n      <td>Australia</td>\n      <td>Australia</td>\n      <td>Aaron Mooy</td>\n      <td>False</td>\n      <td>2015-09-03_Australia_Bangladesh</td>\n      <td>61.0</td>\n      <td>1.0</td>\n    </tr>\n    <tr>\n      <th>2</th>\n      <td>Australia</td>\n      <td>Jordan</td>\n      <td>5</td>\n      <td>1</td>\n      <td>FIFA World Cup qualification</td>\n      <td>Australia</td>\n      <td>Australia</td>\n      <td>Aaron Mooy</td>\n      <td>False</td>\n      <td>2016-03-29_Australia_Jordan</td>\n      <td>39.0</td>\n      <td>1.0</td>\n    </tr>\n    <tr>\n      <th>3</th>\n      <td>Kuwait</td>\n      <td>Australia</td>\n      <td>0</td>\n      <td>3</td>\n      <td>FIFA World Cup qualification</td>\n      <td>Australia</td>\n      <td>Australia</td>\n      <td>Aaron Mooy</td>\n      <td>False</td>\n      <td>2019-09-10_Kuwait_Australia</td>\n      <td>38.0</td>\n      <td>1.0</td>\n    </tr>\n    <tr>\n      <th>4</th>\n      <td>Oman</td>\n      <td>Australia</td>\n      <td>2</td>\n      <td>2</td>\n      <td>FIFA World Cup qualification</td>\n      <td>Draw</td>\n      <td>Australia</td>\n      <td>Aaron Mooy</td>\n      <td>False</td>\n      <td>2022-02-01_Oman_Australia</td>\n      <td>79.0</td>\n      <td>1.0</td>\n    </tr>\n    <tr>\n      <th>...</th>\n      <td>...</td>\n      <td>...</td>\n      <td>...</td>\n      <td>...</td>\n      <td>...</td>\n      <td>...</td>\n      <td>...</td>\n      <td>...</td>\n      <td>...</td>\n      <td>...</td>\n      <td>...</td>\n      <td>...</td>\n    </tr>\n    <tr>\n      <th>5659</th>\n      <td>Morocco</td>\n      <td>Croatia</td>\n      <td>0</td>\n      <td>0</td>\n      <td>FIFA World Cup</td>\n      <td>Draw</td>\n      <td>NaN</td>\n      <td>NaN</td>\n      <td>NaN</td>\n      <td>2022-11-23_Morocco_Croatia</td>\n      <td>NaN</td>\n      <td>NaN</td>\n    </tr>\n    <tr>\n      <th>5660</th>\n      <td>Uruguay</td>\n      <td>South Korea</td>\n      <td>0</td>\n      <td>0</td>\n      <td>FIFA World Cup</td>\n      <td>Draw</td>\n      <td>NaN</td>\n      <td>NaN</td>\n      <td>NaN</td>\n      <td>2022-11-24_Uruguay_South Korea</td>\n      <td>NaN</td>\n      <td>NaN</td>\n    </tr>\n    <tr>\n      <th>5661</th>\n      <td>England</td>\n      <td>United States</td>\n      <td>0</td>\n      <td>0</td>\n      <td>FIFA World Cup</td>\n      <td>Draw</td>\n      <td>NaN</td>\n      <td>NaN</td>\n      <td>NaN</td>\n      <td>2022-11-25_England_United States</td>\n      <td>NaN</td>\n      <td>NaN</td>\n    </tr>\n    <tr>\n      <th>5662</th>\n      <td>Croatia</td>\n      <td>Belgium</td>\n      <td>0</td>\n      <td>0</td>\n      <td>FIFA World Cup</td>\n      <td>Draw</td>\n      <td>NaN</td>\n      <td>NaN</td>\n      <td>NaN</td>\n      <td>2022-12-01_Croatia_Belgium</td>\n      <td>NaN</td>\n      <td>NaN</td>\n    </tr>\n    <tr>\n      <th>5663</th>\n      <td>Morocco</td>\n      <td>Spain</td>\n      <td>0</td>\n      <td>0</td>\n      <td>FIFA World Cup</td>\n      <td>Draw</td>\n      <td>NaN</td>\n      <td>NaN</td>\n      <td>NaN</td>\n      <td>2022-12-06_Morocco_Spain</td>\n      <td>NaN</td>\n      <td>NaN</td>\n    </tr>\n  </tbody>\n</table>\n<p>5497 rows × 12 columns</p>\n</div>"
     },
     "execution_count": 896,
     "metadata": {},
     "output_type": "execute_result"
    }
   ],
   "source": [
    "# Eliminar las filas donde own_goal sea verdadero\n",
    "df_encoded = df_encoded[df_encoded['own_goal'] != True]\n",
    "\n",
    "# Eliminar la columna own_goal\n",
    "df_encoded = df_encoded.drop('own_goal', axis=1)\n",
    "df_encoded"
   ],
   "metadata": {
    "collapsed": false,
    "pycharm": {
     "name": "#%%\n"
    }
   }
  },
  {
   "cell_type": "code",
   "execution_count": 897,
   "outputs": [
    {
     "name": "stdout",
     "output_type": "stream",
     "text": [
      "Datos faltantes:\n",
      "equipo_local             0\n",
      "equipo_visitante         0\n",
      "resultado_local          0\n",
      "resultado_visitante      0\n",
      "torneo                   0\n",
      "ganador                  0\n",
      "team                   202\n",
      "scorer                 202\n",
      "penalty                202\n",
      "partido                  0\n",
      "minute                 202\n",
      "goles_anotados         202\n",
      "dtype: int64\n",
      "Duplicados:\n",
      "0\n"
     ]
    }
   ],
   "source": [
    "# Verificando datos faltantes\n",
    "print(\"Datos faltantes:\")\n",
    "print(df_encoded.isnull().sum())\n",
    "\n",
    "# Verificando duplicados\n",
    "print(\"Duplicados:\")\n",
    "print(df_encoded.duplicated().sum())"
   ],
   "metadata": {
    "collapsed": false,
    "pycharm": {
     "name": "#%%\n"
    }
   }
  },
  {
   "cell_type": "code",
   "execution_count": 898,
   "outputs": [
    {
     "name": "stdout",
     "output_type": "stream",
     "text": [
      "Número de filas donde 'team', 'scorer' faltan datos:  202\n"
     ]
    }
   ],
   "source": [
    "missing_data = df_encoded['team'].isnull() & df_encoded['scorer'].isnull()\n",
    "missing_rows = df_encoded[missing_data]\n",
    "\n",
    "print(\"Número de filas donde 'team', 'scorer' faltan datos: \", len(missing_rows))"
   ],
   "metadata": {
    "collapsed": false,
    "pycharm": {
     "name": "#%%\n"
    }
   }
  },
  {
   "cell_type": "code",
   "execution_count": 899,
   "outputs": [
    {
     "name": "stdout",
     "output_type": "stream",
     "text": [
      "<class 'pandas.core.frame.DataFrame'>\n",
      "Int64Index: 5295 entries, 0 to 5461\n",
      "Data columns (total 12 columns):\n",
      " #   Column               Non-Null Count  Dtype  \n",
      "---  ------               --------------  -----  \n",
      " 0   equipo_local         5295 non-null   object \n",
      " 1   equipo_visitante     5295 non-null   object \n",
      " 2   resultado_local      5295 non-null   int64  \n",
      " 3   resultado_visitante  5295 non-null   int64  \n",
      " 4   torneo               5295 non-null   object \n",
      " 5   ganador              5295 non-null   object \n",
      " 6   team                 5295 non-null   object \n",
      " 7   scorer               5295 non-null   object \n",
      " 8   penalty              5295 non-null   object \n",
      " 9   partido              5295 non-null   object \n",
      " 10  minute               5295 non-null   float64\n",
      " 11  goles_anotados       5295 non-null   float64\n",
      "dtypes: float64(2), int64(2), object(8)\n",
      "memory usage: 537.8+ KB\n"
     ]
    }
   ],
   "source": [
    "df_encoded = df_encoded.dropna(subset=['team', 'scorer']).copy()\n",
    "df_encoded.info()"
   ],
   "metadata": {
    "collapsed": false,
    "pycharm": {
     "name": "#%%\n"
    }
   }
  },
  {
   "cell_type": "code",
   "execution_count": 900,
   "outputs": [
    {
     "data": {
      "text/plain": "FIFA World Cup qualification    4027\nAfrican Cup of Nations           304\nFIFA World Cup                   291\nCopa América                     233\nUEFA Euro                        215\nAFC Asian Cup                    186\nConfederations Cup                39\nName: torneo, dtype: int64"
     },
     "execution_count": 900,
     "metadata": {},
     "output_type": "execute_result"
    }
   ],
   "source": [
    "df_encoded.torneo.value_counts()"
   ],
   "metadata": {
    "collapsed": false,
    "pycharm": {
     "name": "#%%\n"
    }
   }
  },
  {
   "cell_type": "code",
   "execution_count": 901,
   "outputs": [
    {
     "data": {
      "text/plain": "     equipo_local equipo_visitante  resultado_local  resultado_visitante  \\\n0         Comoros            Gabon                0                    1   \n1       Australia       Bangladesh                5                    0   \n2       Australia           Jordan                5                    1   \n3          Kuwait        Australia                0                    3   \n4            Oman        Australia                2                    2   \n...           ...              ...              ...                  ...   \n5457  Switzerland           Turkey                3                    1   \n5458   Montenegro           Poland                1                    2   \n5459   Montenegro       Kazakhstan                5                    0   \n5460       Poland       Montenegro                4                    2   \n5461   Montenegro        Gibraltar                4                    1   \n\n                            torneo      ganador        team           scorer  \\\n0           African Cup of Nations        Gabon       Gabon  Aaron Boupendza   \n1     FIFA World Cup qualification    Australia   Australia       Aaron Mooy   \n2     FIFA World Cup qualification    Australia   Australia       Aaron Mooy   \n3     FIFA World Cup qualification    Australia   Australia       Aaron Mooy   \n4     FIFA World Cup qualification         Draw   Australia       Aaron Mooy   \n...                            ...          ...         ...              ...   \n5457                     UEFA Euro  Switzerland      Turkey    İrfan Kahveci   \n5458  FIFA World Cup qualification       Poland      Poland  Łukasz Piszczek   \n5459  FIFA World Cup qualification   Montenegro  Montenegro  Žarko Tomašević   \n5460  FIFA World Cup qualification       Poland  Montenegro  Žarko Tomašević   \n5461  FIFA World Cup qualification   Montenegro  Montenegro  Žarko Tomašević   \n\n     penalty                           partido  minute  goles_anotados  \\\n0      False          2022-01-10_Comoros_Gabon    16.0             1.0   \n1      False   2015-09-03_Australia_Bangladesh    61.0             1.0   \n2      False       2016-03-29_Australia_Jordan    39.0             1.0   \n3      False       2019-09-10_Kuwait_Australia    38.0             1.0   \n4      False         2022-02-01_Oman_Australia    79.0             1.0   \n...      ...                               ...     ...             ...   \n5457   False     2021-06-20_Switzerland_Turkey    62.0             1.0   \n5458   False      2017-03-26_Montenegro_Poland    82.0             1.0   \n5459   False  2016-10-08_Montenegro_Kazakhstan    24.0             1.0   \n5460   False      2017-10-08_Poland_Montenegro    83.0             1.0   \n5461   False   2021-03-27_Montenegro_Gibraltar    53.0             1.0   \n\n      torneo_encoded  \n0                  2  \n1                  1  \n2                  1  \n3                  1  \n4                  1  \n...              ...  \n5457               5  \n5458               1  \n5459               1  \n5460               1  \n5461               1  \n\n[5295 rows x 13 columns]",
      "text/html": "<div>\n<style scoped>\n    .dataframe tbody tr th:only-of-type {\n        vertical-align: middle;\n    }\n\n    .dataframe tbody tr th {\n        vertical-align: top;\n    }\n\n    .dataframe thead th {\n        text-align: right;\n    }\n</style>\n<table border=\"1\" class=\"dataframe\">\n  <thead>\n    <tr style=\"text-align: right;\">\n      <th></th>\n      <th>equipo_local</th>\n      <th>equipo_visitante</th>\n      <th>resultado_local</th>\n      <th>resultado_visitante</th>\n      <th>torneo</th>\n      <th>ganador</th>\n      <th>team</th>\n      <th>scorer</th>\n      <th>penalty</th>\n      <th>partido</th>\n      <th>minute</th>\n      <th>goles_anotados</th>\n      <th>torneo_encoded</th>\n    </tr>\n  </thead>\n  <tbody>\n    <tr>\n      <th>0</th>\n      <td>Comoros</td>\n      <td>Gabon</td>\n      <td>0</td>\n      <td>1</td>\n      <td>African Cup of Nations</td>\n      <td>Gabon</td>\n      <td>Gabon</td>\n      <td>Aaron Boupendza</td>\n      <td>False</td>\n      <td>2022-01-10_Comoros_Gabon</td>\n      <td>16.0</td>\n      <td>1.0</td>\n      <td>2</td>\n    </tr>\n    <tr>\n      <th>1</th>\n      <td>Australia</td>\n      <td>Bangladesh</td>\n      <td>5</td>\n      <td>0</td>\n      <td>FIFA World Cup qualification</td>\n      <td>Australia</td>\n      <td>Australia</td>\n      <td>Aaron Mooy</td>\n      <td>False</td>\n      <td>2015-09-03_Australia_Bangladesh</td>\n      <td>61.0</td>\n      <td>1.0</td>\n      <td>1</td>\n    </tr>\n    <tr>\n      <th>2</th>\n      <td>Australia</td>\n      <td>Jordan</td>\n      <td>5</td>\n      <td>1</td>\n      <td>FIFA World Cup qualification</td>\n      <td>Australia</td>\n      <td>Australia</td>\n      <td>Aaron Mooy</td>\n      <td>False</td>\n      <td>2016-03-29_Australia_Jordan</td>\n      <td>39.0</td>\n      <td>1.0</td>\n      <td>1</td>\n    </tr>\n    <tr>\n      <th>3</th>\n      <td>Kuwait</td>\n      <td>Australia</td>\n      <td>0</td>\n      <td>3</td>\n      <td>FIFA World Cup qualification</td>\n      <td>Australia</td>\n      <td>Australia</td>\n      <td>Aaron Mooy</td>\n      <td>False</td>\n      <td>2019-09-10_Kuwait_Australia</td>\n      <td>38.0</td>\n      <td>1.0</td>\n      <td>1</td>\n    </tr>\n    <tr>\n      <th>4</th>\n      <td>Oman</td>\n      <td>Australia</td>\n      <td>2</td>\n      <td>2</td>\n      <td>FIFA World Cup qualification</td>\n      <td>Draw</td>\n      <td>Australia</td>\n      <td>Aaron Mooy</td>\n      <td>False</td>\n      <td>2022-02-01_Oman_Australia</td>\n      <td>79.0</td>\n      <td>1.0</td>\n      <td>1</td>\n    </tr>\n    <tr>\n      <th>...</th>\n      <td>...</td>\n      <td>...</td>\n      <td>...</td>\n      <td>...</td>\n      <td>...</td>\n      <td>...</td>\n      <td>...</td>\n      <td>...</td>\n      <td>...</td>\n      <td>...</td>\n      <td>...</td>\n      <td>...</td>\n      <td>...</td>\n    </tr>\n    <tr>\n      <th>5457</th>\n      <td>Switzerland</td>\n      <td>Turkey</td>\n      <td>3</td>\n      <td>1</td>\n      <td>UEFA Euro</td>\n      <td>Switzerland</td>\n      <td>Turkey</td>\n      <td>İrfan Kahveci</td>\n      <td>False</td>\n      <td>2021-06-20_Switzerland_Turkey</td>\n      <td>62.0</td>\n      <td>1.0</td>\n      <td>5</td>\n    </tr>\n    <tr>\n      <th>5458</th>\n      <td>Montenegro</td>\n      <td>Poland</td>\n      <td>1</td>\n      <td>2</td>\n      <td>FIFA World Cup qualification</td>\n      <td>Poland</td>\n      <td>Poland</td>\n      <td>Łukasz Piszczek</td>\n      <td>False</td>\n      <td>2017-03-26_Montenegro_Poland</td>\n      <td>82.0</td>\n      <td>1.0</td>\n      <td>1</td>\n    </tr>\n    <tr>\n      <th>5459</th>\n      <td>Montenegro</td>\n      <td>Kazakhstan</td>\n      <td>5</td>\n      <td>0</td>\n      <td>FIFA World Cup qualification</td>\n      <td>Montenegro</td>\n      <td>Montenegro</td>\n      <td>Žarko Tomašević</td>\n      <td>False</td>\n      <td>2016-10-08_Montenegro_Kazakhstan</td>\n      <td>24.0</td>\n      <td>1.0</td>\n      <td>1</td>\n    </tr>\n    <tr>\n      <th>5460</th>\n      <td>Poland</td>\n      <td>Montenegro</td>\n      <td>4</td>\n      <td>2</td>\n      <td>FIFA World Cup qualification</td>\n      <td>Poland</td>\n      <td>Montenegro</td>\n      <td>Žarko Tomašević</td>\n      <td>False</td>\n      <td>2017-10-08_Poland_Montenegro</td>\n      <td>83.0</td>\n      <td>1.0</td>\n      <td>1</td>\n    </tr>\n    <tr>\n      <th>5461</th>\n      <td>Montenegro</td>\n      <td>Gibraltar</td>\n      <td>4</td>\n      <td>1</td>\n      <td>FIFA World Cup qualification</td>\n      <td>Montenegro</td>\n      <td>Montenegro</td>\n      <td>Žarko Tomašević</td>\n      <td>False</td>\n      <td>2021-03-27_Montenegro_Gibraltar</td>\n      <td>53.0</td>\n      <td>1.0</td>\n      <td>1</td>\n    </tr>\n  </tbody>\n</table>\n<p>5295 rows × 13 columns</p>\n</div>"
     },
     "execution_count": 901,
     "metadata": {},
     "output_type": "execute_result"
    }
   ],
   "source": [
    "# Definir el diccionario de codificación ordinal\n",
    "codificacion = {\n",
    "    'FIFA World Cup qualification': 1,\n",
    "    'African Cup of Nations': 2,\n",
    "    'FIFA World Cup': 3,\n",
    "    'Copa América': 4,\n",
    "    'UEFA Euro': 5,\n",
    "    'AFC Asian Cup': 6,\n",
    "    'Confederations Cup': 7,\n",
    "}\n",
    "\n",
    "# Aplicar la codificación\n",
    "df_encoded['torneo_encoded'] = df_encoded['torneo'].replace(codificacion)\n",
    "df_encoded"
   ],
   "metadata": {
    "collapsed": false,
    "pycharm": {
     "name": "#%%\n"
    }
   }
  },
  {
   "cell_type": "code",
   "execution_count": 902,
   "outputs": [
    {
     "name": "stdout",
     "output_type": "stream",
     "text": [
      "<class 'pandas.core.frame.DataFrame'>\n",
      "Int64Index: 5295 entries, 0 to 5461\n",
      "Data columns (total 13 columns):\n",
      " #   Column               Non-Null Count  Dtype  \n",
      "---  ------               --------------  -----  \n",
      " 0   equipo_local         5295 non-null   object \n",
      " 1   equipo_visitante     5295 non-null   object \n",
      " 2   resultado_local      5295 non-null   int64  \n",
      " 3   resultado_visitante  5295 non-null   int64  \n",
      " 4   torneo               5295 non-null   object \n",
      " 5   ganador              5295 non-null   object \n",
      " 6   team                 5295 non-null   object \n",
      " 7   scorer               5295 non-null   object \n",
      " 8   penalty              5295 non-null   object \n",
      " 9   partido              5295 non-null   object \n",
      " 10  minute               5295 non-null   float64\n",
      " 11  goles_anotados       5295 non-null   float64\n",
      " 12  torneo_encoded       5295 non-null   int64  \n",
      "dtypes: float64(2), int64(3), object(8)\n",
      "memory usage: 579.1+ KB\n"
     ]
    }
   ],
   "source": [
    "df_encoded.info()"
   ],
   "metadata": {
    "collapsed": false,
    "pycharm": {
     "name": "#%%\n"
    }
   }
  },
  {
   "cell_type": "code",
   "execution_count": 910,
   "outputs": [],
   "source": [
    "# Convertir la columna 'penalty' a tipo booleano\n",
    "df_encoded['penalty'] = df_encoded['penalty'].astype(bool)"
   ],
   "metadata": {
    "collapsed": false,
    "pycharm": {
     "name": "#%%\n"
    }
   }
  },
  {
   "cell_type": "code",
   "execution_count": 929,
   "outputs": [
    {
     "name": "stdout",
     "output_type": "stream",
     "text": [
      "<class 'pandas.core.frame.DataFrame'>\n",
      "Int64Index: 5295 entries, 0 to 5461\n",
      "Data columns (total 17 columns):\n",
      " #   Column                    Non-Null Count  Dtype  \n",
      "---  ------                    --------------  -----  \n",
      " 0   equipo_local              5295 non-null   object \n",
      " 1   equipo_visitante          5295 non-null   object \n",
      " 2   resultado_local           5295 non-null   int64  \n",
      " 3   resultado_visitante       5295 non-null   int64  \n",
      " 4   torneo                    5295 non-null   object \n",
      " 5   ganador                   5295 non-null   object \n",
      " 6   team                      5295 non-null   object \n",
      " 7   scorer                    5295 non-null   object \n",
      " 8   penalty                   5295 non-null   bool   \n",
      " 9   partido                   5295 non-null   object \n",
      " 10  minute                    5295 non-null   float64\n",
      " 11  goles_anotados            5295 non-null   float64\n",
      " 12  torneo_encoded            5295 non-null   int64  \n",
      " 13  team_encoded              5295 non-null   float64\n",
      " 14  equipo_local_encoded      5047 non-null   float64\n",
      " 15  equipo_visitante_encoded  4977 non-null   float64\n",
      " 16  goles_medios_team         5295 non-null   float64\n",
      "dtypes: bool(1), float64(6), int64(3), object(7)\n",
      "memory usage: 837.5+ KB\n"
     ]
    }
   ],
   "source": [
    "df_encoded.info()"
   ],
   "metadata": {
    "collapsed": false,
    "pycharm": {
     "name": "#%%\n"
    }
   }
  },
  {
   "cell_type": "code",
   "execution_count": 953,
   "outputs": [
    {
     "name": "stdout",
     "output_type": "stream",
     "text": [
      "2102\n",
      "2507\n",
      "207\n",
      "7\n"
     ]
    }
   ],
   "source": [
    "print(f\"{len(pd.unique(df_encoded['partido']))}\")\n",
    "print(f\"{len(pd.unique(df_encoded['scorer']))}\")\n",
    "print(f\"{len(pd.unique(df_encoded['team']))}\")\n",
    "print(f\"{len(pd.unique(df_encoded['torneo']))}\")"
   ],
   "metadata": {
    "collapsed": false,
    "pycharm": {
     "name": "#%%\n"
    }
   }
  },
  {
   "cell_type": "code",
   "execution_count": null,
   "outputs": [],
   "source": [],
   "metadata": {
    "collapsed": false,
    "pycharm": {
     "name": "#%%\n"
    }
   }
  },
  {
   "cell_type": "code",
   "execution_count": 930,
   "outputs": [
    {
     "name": "stdout",
     "output_type": "stream",
     "text": [
      "             Modelo  Mejor Score  \\\n",
      "0  LinearRegression     0.012745   \n",
      "1      DecisionTree     0.039889   \n",
      "2      RandomForest     0.136883   \n",
      "3               KNN     0.103346   \n",
      "4     NeuralNetwork     0.048876   \n",
      "5  GradientBoosting     0.249393   \n",
      "6           XGBoost     0.307129   \n",
      "\n",
      "                                  Mejores Parámetros  \n",
      "0                                                 {}  \n",
      "1                                   {'max_depth': 4}  \n",
      "2             {'max_depth': 12, 'n_estimators': 200}  \n",
      "3                                 {'n_neighbors': 9}  \n",
      "4  {'activation': 'tanh', 'alpha': 0.01, 'hidden_...  \n",
      "5        {'learning_rate': 0.1, 'n_estimators': 200}  \n",
      "6        {'learning_rate': 0.1, 'n_estimators': 200}  \n",
      "\n",
      "El mejor modelo es: XGBRegressor(base_score=None, booster=None, callbacks=None,\n",
      "             colsample_bylevel=None, colsample_bynode=None,\n",
      "             colsample_bytree=None, early_stopping_rounds=None,\n",
      "             enable_categorical=False, eval_metric='rmse', feature_types=None,\n",
      "             gamma=None, gpu_id=None, grow_policy=None, importance_type=None,\n",
      "             interaction_constraints=None, learning_rate=0.1, max_bin=None,\n",
      "             max_cat_threshold=None, max_cat_to_onehot=None,\n",
      "             max_delta_step=None, max_depth=None, max_leaves=None,\n",
      "             min_child_weight=None, missing=nan, monotone_constraints=None,\n",
      "             n_estimators=200, n_jobs=None, num_parallel_tree=None,\n",
      "             predictor=None, random_state=None, ...) con un score de: 0.3071291078598001\n"
     ]
    },
    {
     "data": {
      "text/plain": "['mejor_modelo.joblib']"
     },
     "execution_count": 930,
     "metadata": {},
     "output_type": "execute_result"
    }
   ],
   "source": [
    "import pandas as pd\n",
    "from sklearn.model_selection import train_test_split, GridSearchCV\n",
    "from sklearn.linear_model import LinearRegression\n",
    "from sklearn.tree import DecisionTreeRegressor\n",
    "from sklearn.ensemble import RandomForestRegressor, GradientBoostingRegressor\n",
    "from sklearn.svm import SVR\n",
    "from sklearn.neighbors import KNeighborsRegressor\n",
    "from sklearn.neural_network import MLPRegressor\n",
    "from xgboost import XGBRegressor\n",
    "from sklearn.metrics import mean_squared_error\n",
    "from joblib import dump\n",
    "\n",
    "modelos = {\n",
    "    'LinearRegression': {\n",
    "        'model': LinearRegression(),\n",
    "        'params': {}\n",
    "    },\n",
    "    'DecisionTree': {\n",
    "        'model': DecisionTreeRegressor(),\n",
    "        'params': {'max_depth': [4, 8, 12]}\n",
    "    },\n",
    "    'RandomForest': {\n",
    "        'model': RandomForestRegressor(),\n",
    "        'params': {'n_estimators': [100, 200, 300],\n",
    "                   'max_depth': [4, 8, 12]}\n",
    "    },\n",
    "    'KNN': {\n",
    "        'model': KNeighborsRegressor(),\n",
    "        'params': {'n_neighbors': [3, 5, 7, 9]}\n",
    "    },\n",
    "    'NeuralNetwork': {\n",
    "        'model': MLPRegressor(max_iter=2000),\n",
    "        'params': {'hidden_layer_sizes': [(50,50,50), (100,)],\n",
    "                   'activation': ['tanh', 'relu'],\n",
    "                   'solver': ['adam'],\n",
    "                   'alpha': [0.0001, 0.01],\n",
    "                   'learning_rate': ['constant']}\n",
    "    },\n",
    "    'GradientBoosting': {\n",
    "        'model': GradientBoostingRegressor(),\n",
    "        'params': {'n_estimators': [100, 200], 'learning_rate': [0.01, 0.1]}\n",
    "    },\n",
    "    'XGBoost': {\n",
    "        'model': XGBRegressor(eval_metric='rmse'),\n",
    "        'params': {'n_estimators': [100, 200], 'learning_rate': [0.01, 0.1]}\n",
    "    }\n",
    "}\n",
    "\n",
    "# Definir las características (X) y la variable objetivo (y)\n",
    "X = df_encoded[['torneo_encoded', 'minute', 'penalty']]\n",
    "y = df_encoded['goles_anotados']\n",
    "\n",
    "# Dividir los datos en conjuntos de entrenamiento y prueba\n",
    "X_train, X_test, y_train, y_test = train_test_split(X, y, test_size=0.2, random_state=42)\n",
    "\n",
    "mejor_score = 0.0\n",
    "mejor_modelo = None\n",
    "resultados_modelos = []\n",
    "\n",
    "for nombre_modelo, mp in modelos.items():\n",
    "    reg = GridSearchCV(mp['model'], mp['params'], cv=5)\n",
    "    reg.fit(X_train, y_train)\n",
    "\n",
    "    resultado_modelo = {\n",
    "        'Modelo': nombre_modelo,\n",
    "        'Mejor Score': reg.best_score_,\n",
    "        'Mejores Parámetros': reg.best_params_\n",
    "    }\n",
    "\n",
    "    resultados_modelos.append(resultado_modelo)\n",
    "\n",
    "    if reg.best_score_ > mejor_score:\n",
    "        mejor_score = reg.best_score_\n",
    "        mejor_modelo = reg\n",
    "\n",
    "df_resultados = pd.DataFrame(resultados_modelos)\n",
    "\n",
    "print(df_resultados)\n",
    "print(f\"\\nEl mejor modelo es: {mejor_modelo.best_estimator_} con un score de: {mejor_score}\")\n",
    "\n",
    "# Guardar el mejor modelo\n",
    "dump(mejor_modelo, 'mejor_modelo.joblib')"
   ],
   "metadata": {
    "collapsed": false,
    "pycharm": {
     "name": "#%%\n"
    }
   }
  },
  {
   "cell_type": "code",
   "execution_count": 931,
   "outputs": [
    {
     "data": {
      "text/plain": "<Figure size 1000x600 with 1 Axes>",
      "image/png": "[encoded data removed]"
     },
     "metadata": {},
     "output_type": "display_data"
    }
   ],
   "source": [
    "# Cargar el mejor modelo entrenado\n",
    "mejor_modelo = load('mejor_modelo.joblib')\n",
    "\n",
    "# Obtener el modelo seleccionado del diccionario de modelos\n",
    "modelo_seleccionado = mejor_modelo.best_estimator_\n",
    "\n",
    "# Obtener las características utilizadas por el modelo seleccionado\n",
    "caracteristicas = X.columns\n",
    "\n",
    "# Obtener la importancia de características del modelo seleccionado\n",
    "importancias = modelo_seleccionado.feature_importances_\n",
    "\n",
    "# Crear un DataFrame para visualizar las importancias de características\n",
    "feature_importances = pd.DataFrame({'Feature': caracteristicas, 'Importance': importancias})\n",
    "\n",
    "# Ordenar las características por importancia descendente\n",
    "feature_importances = feature_importances.sort_values('Importance', ascending=False)\n",
    "\n",
    "# Visualizar las importancias de características\n",
    "plt.figure(figsize=(10, 6))\n",
    "plt.barh(feature_importances['Feature'], feature_importances['Importance'])\n",
    "plt.xlabel('Importance')\n",
    "plt.ylabel('Feature')\n",
    "plt.title('Feature Importance')\n",
    "plt.show()"
   ],
   "metadata": {
    "collapsed": false,
    "pycharm": {
     "name": "#%%\n"
    }
   }
  },
  {
   "cell_type": "code",
   "execution_count": 932,
   "outputs": [],
   "source": [
    "# Calcular la frecuencia de victoria de cada equipo\n",
    "frecuencia_victoria = df_encoded['ganador'].value_counts() / len(df_encoded)\n",
    "\n",
    "# Crear un diccionario que mapee cada equipo a su frecuencia de victoria\n",
    "frecuencia_dict = frecuencia_victoria.to_dict()\n",
    "\n",
    "# Aplicar la codificación a las columnas 'team', 'equipo_local' y 'equipo_visitante'\n",
    "df_encoded['team_encoded'] = df_encoded['team'].map(frecuencia_dict)\n",
    "mean_encoded = df_encoded['team_encoded'].mean()\n",
    "df_encoded['team_encoded'] = df_encoded['team_encoded'].fillna(mean_encoded)\n",
    "df_encoded['equipo_local_encoded'] = df_encoded['equipo_local'].map(frecuencia_dict)\n",
    "df_encoded['equipo_visitante_encoded'] = df_encoded['equipo_visitante'].map(frecuencia_dict)"
   ],
   "metadata": {
    "collapsed": false,
    "pycharm": {
     "name": "#%%\n"
    }
   }
  },
  {
   "cell_type": "code",
   "execution_count": 933,
   "outputs": [
    {
     "name": "stdout",
     "output_type": "stream",
     "text": [
      "Número de valores nulos en 'team': 0\n"
     ]
    }
   ],
   "source": [
    "null_count = df_encoded['team'].isnull().sum()\n",
    "print(f\"Número de valores nulos en 'team': {null_count}\")"
   ],
   "metadata": {
    "collapsed": false,
    "pycharm": {
     "name": "#%%\n"
    }
   }
  },
  {
   "cell_type": "code",
   "execution_count": 935,
   "outputs": [
    {
     "name": "stdout",
     "output_type": "stream",
     "text": [
      "             Modelo  Mejor Score  \\\n",
      "0  LinearRegression     0.015421   \n",
      "1      DecisionTree     0.025323   \n",
      "2      RandomForest     0.066509   \n",
      "3               KNN     0.103430   \n",
      "4     NeuralNetwork     0.045375   \n",
      "5  GradientBoosting     0.183298   \n",
      "6           XGBoost     0.208269   \n",
      "\n",
      "                                  Mejores Parámetros  \n",
      "0                                                 {}  \n",
      "1                                   {'max_depth': 4}  \n",
      "2              {'max_depth': 8, 'n_estimators': 300}  \n",
      "3                                 {'n_neighbors': 9}  \n",
      "4  {'activation': 'tanh', 'alpha': 0.0001, 'hidde...  \n",
      "5        {'learning_rate': 0.1, 'n_estimators': 200}  \n",
      "6        {'learning_rate': 0.1, 'n_estimators': 200}  \n",
      "\n",
      "El mejor modelo es: XGBRegressor(base_score=None, booster=None, callbacks=None,\n",
      "             colsample_bylevel=None, colsample_bynode=None,\n",
      "             colsample_bytree=None, early_stopping_rounds=None,\n",
      "             enable_categorical=False, eval_metric='rmse', feature_types=None,\n",
      "             gamma=None, gpu_id=None, grow_policy=None, importance_type=None,\n",
      "             interaction_constraints=None, learning_rate=0.1, max_bin=None,\n",
      "             max_cat_threshold=None, max_cat_to_onehot=None,\n",
      "             max_delta_step=None, max_depth=None, max_leaves=None,\n",
      "             min_child_weight=None, missing=nan, monotone_constraints=None,\n",
      "             n_estimators=200, n_jobs=None, num_parallel_tree=None,\n",
      "             predictor=None, random_state=None, ...) con un score de: 0.20826937594314038\n"
     ]
    },
    {
     "data": {
      "text/plain": "['mejor_modelo.joblib']"
     },
     "execution_count": 935,
     "metadata": {},
     "output_type": "execute_result"
    }
   ],
   "source": [
    "import pandas as pd\n",
    "from sklearn.model_selection import train_test_split, GridSearchCV\n",
    "from sklearn.linear_model import LinearRegression\n",
    "from sklearn.tree import DecisionTreeRegressor\n",
    "from sklearn.ensemble import RandomForestRegressor, GradientBoostingRegressor\n",
    "from sklearn.svm import SVR\n",
    "from sklearn.neighbors import KNeighborsRegressor\n",
    "from sklearn.neural_network import MLPRegressor\n",
    "from xgboost import XGBRegressor\n",
    "from sklearn.metrics import mean_squared_error\n",
    "from joblib import dump\n",
    "\n",
    "modelos = {\n",
    "    'LinearRegression': {\n",
    "        'model': LinearRegression(),\n",
    "        'params': {}\n",
    "    },\n",
    "    'DecisionTree': {\n",
    "        'model': DecisionTreeRegressor(),\n",
    "        'params': {'max_depth': [4, 8, 12]}\n",
    "    },\n",
    "    'RandomForest': {\n",
    "        'model': RandomForestRegressor(),\n",
    "        'params': {'n_estimators': [100, 200, 300],\n",
    "                   'max_depth': [4, 8, 12]}\n",
    "    },\n",
    "    'KNN': {\n",
    "        'model': KNeighborsRegressor(),\n",
    "        'params': {'n_neighbors': [3, 5, 7, 9]}\n",
    "    },\n",
    "    'NeuralNetwork': {\n",
    "        'model': MLPRegressor(max_iter=2000),\n",
    "        'params': {'hidden_layer_sizes': [(50,50,50), (100,)],\n",
    "                   'activation': ['tanh', 'relu'],\n",
    "                   'solver': ['adam'],\n",
    "                   'alpha': [0.0001, 0.01],\n",
    "                   'learning_rate': ['constant']}\n",
    "    },\n",
    "    'GradientBoosting': {\n",
    "        'model': GradientBoostingRegressor(),\n",
    "        'params': {'n_estimators': [100, 200], 'learning_rate': [0.01, 0.1]}\n",
    "    },\n",
    "    'XGBoost': {\n",
    "        'model': XGBRegressor(eval_metric='rmse'),\n",
    "        'params': {'n_estimators': [100, 200], 'learning_rate': [0.01, 0.1]}\n",
    "    }\n",
    "}\n",
    "\n",
    "# Definir las características (X) y la variable objetivo (y)\n",
    "X = df_encoded[['torneo_encoded', 'minute', 'penalty', 'team_encoded']]\n",
    "y = df_encoded['goles_anotados']\n",
    "\n",
    "# Dividir los datos en conjuntos de entrenamiento y prueba\n",
    "X_train, X_test, y_train, y_test = train_test_split(X, y, test_size=0.2, random_state=42)\n",
    "\n",
    "mejor_score = 0.0\n",
    "mejor_modelo = None\n",
    "resultados_modelos = []\n",
    "\n",
    "for nombre_modelo, mp in modelos.items():\n",
    "    reg = GridSearchCV(mp['model'], mp['params'], cv=5)\n",
    "    reg.fit(X_train, y_train)\n",
    "\n",
    "    resultado_modelo = {\n",
    "        'Modelo': nombre_modelo,\n",
    "        'Mejor Score': reg.best_score_,\n",
    "        'Mejores Parámetros': reg.best_params_\n",
    "    }\n",
    "\n",
    "    resultados_modelos.append(resultado_modelo)\n",
    "\n",
    "    if reg.best_score_ > mejor_score:\n",
    "        mejor_score = reg.best_score_\n",
    "        mejor_modelo = reg\n",
    "\n",
    "df_resultados = pd.DataFrame(resultados_modelos)\n",
    "\n",
    "print(df_resultados)\n",
    "print(f\"\\nEl mejor modelo es: {mejor_modelo.best_estimator_} con un score de: {mejor_score}\")\n",
    "\n",
    "# Guardar el mejor modelo\n",
    "dump(mejor_modelo, 'mejor_modelo.joblib')"
   ],
   "metadata": {
    "collapsed": false,
    "pycharm": {
     "name": "#%%\n"
    }
   }
  },
  {
   "cell_type": "code",
   "execution_count": 936,
   "outputs": [
    {
     "data": {
      "text/plain": "<Figure size 1000x600 with 1 Axes>",
      "image/png": "[encoded data removed]"
     },
     "metadata": {},
     "output_type": "display_data"
    }
   ],
   "source": [
    "# Cargar el mejor modelo entrenado\n",
    "mejor_modelo = load('mejor_modelo.joblib')\n",
    "\n",
    "# Obtener el modelo seleccionado del diccionario de modelos\n",
    "modelo_seleccionado = mejor_modelo.best_estimator_\n",
    "\n",
    "# Obtener las características utilizadas por el modelo seleccionado\n",
    "caracteristicas = X.columns\n",
    "\n",
    "# Obtener la importancia de características del modelo seleccionado\n",
    "importancias = modelo_seleccionado.feature_importances_\n",
    "\n",
    "# Crear un DataFrame para visualizar las importancias de características\n",
    "feature_importances = pd.DataFrame({'Feature': caracteristicas, 'Importance': importancias})\n",
    "\n",
    "# Ordenar las características por importancia descendente\n",
    "feature_importances = feature_importances.sort_values('Importance', ascending=False)\n",
    "\n",
    "# Visualizar las importancias de características\n",
    "plt.figure(figsize=(10, 6))\n",
    "plt.barh(feature_importances['Feature'], feature_importances['Importance'])\n",
    "plt.xlabel('Importance')\n",
    "plt.ylabel('Feature')\n",
    "plt.title('Feature Importance')\n",
    "plt.show()"
   ],
   "metadata": {
    "collapsed": false,
    "pycharm": {
     "name": "#%%\n"
    }
   }
  },
  {
   "cell_type": "code",
   "execution_count": 937,
   "outputs": [
    {
     "name": "stdout",
     "output_type": "stream",
     "text": [
      "             Modelo  Mejor Score  \\\n",
      "0  LinearRegression     0.015421   \n",
      "1      DecisionTree     0.025323   \n",
      "2      RandomForest     0.067860   \n",
      "3               KNN     0.103430   \n",
      "4     NeuralNetwork     0.042976   \n",
      "5  GradientBoosting     0.181933   \n",
      "6           XGBoost     0.208269   \n",
      "\n",
      "                                  Mejores Parámetros  \n",
      "0                                                 {}  \n",
      "1                                   {'max_depth': 4}  \n",
      "2              {'max_depth': 8, 'n_estimators': 100}  \n",
      "3                                 {'n_neighbors': 9}  \n",
      "4  {'activation': 'tanh', 'alpha': 0.01, 'hidden_...  \n",
      "5        {'learning_rate': 0.1, 'n_estimators': 200}  \n",
      "6        {'learning_rate': 0.1, 'n_estimators': 200}  \n",
      "\n",
      "El mejor modelo es: XGBRegressor(base_score=None, booster=None, callbacks=None,\n",
      "             colsample_bylevel=None, colsample_bynode=None,\n",
      "             colsample_bytree=None, early_stopping_rounds=None,\n",
      "             enable_categorical=False, eval_metric='rmse', feature_types=None,\n",
      "             gamma=None, gpu_id=None, grow_policy=None, importance_type=None,\n",
      "             interaction_constraints=None, learning_rate=0.1, max_bin=None,\n",
      "             max_cat_threshold=None, max_cat_to_onehot=None,\n",
      "             max_delta_step=None, max_depth=None, max_leaves=None,\n",
      "             min_child_weight=None, missing=nan, monotone_constraints=None,\n",
      "             n_estimators=200, n_jobs=None, num_parallel_tree=None,\n",
      "             predictor=None, random_state=None, ...) con un score de: 0.20826937594314038\n"
     ]
    },
    {
     "data": {
      "text/plain": "['mejor_modelo.joblib']"
     },
     "execution_count": 937,
     "metadata": {},
     "output_type": "execute_result"
    }
   ],
   "source": [
    "import pandas as pd\n",
    "from sklearn.model_selection import train_test_split, GridSearchCV\n",
    "from sklearn.linear_model import LinearRegression\n",
    "from sklearn.tree import DecisionTreeRegressor\n",
    "from sklearn.ensemble import RandomForestRegressor, GradientBoostingRegressor\n",
    "from sklearn.svm import SVR\n",
    "from sklearn.neighbors import KNeighborsRegressor\n",
    "from sklearn.neural_network import MLPRegressor\n",
    "from xgboost import XGBRegressor\n",
    "from sklearn.metrics import mean_squared_error\n",
    "from joblib import dump\n",
    "\n",
    "modelos = {\n",
    "    'LinearRegression': {\n",
    "        'model': LinearRegression(),\n",
    "        'params': {}\n",
    "    },\n",
    "    'DecisionTree': {\n",
    "        'model': DecisionTreeRegressor(),\n",
    "        'params': {'max_depth': [4, 8, 12]}\n",
    "    },\n",
    "    'RandomForest': {\n",
    "        'model': RandomForestRegressor(),\n",
    "        'params': {'n_estimators': [100, 200, 300],\n",
    "                   'max_depth': [4, 8, 12]}\n",
    "    },\n",
    "    'KNN': {\n",
    "        'model': KNeighborsRegressor(),\n",
    "        'params': {'n_neighbors': [3, 5, 7, 9]}\n",
    "    },\n",
    "    'NeuralNetwork': {\n",
    "        'model': MLPRegressor(max_iter=2000),\n",
    "        'params': {'hidden_layer_sizes': [(50,50,50), (100,)],\n",
    "                   'activation': ['tanh', 'relu'],\n",
    "                   'solver': ['adam'],\n",
    "                   'alpha': [0.0001, 0.01],\n",
    "                   'learning_rate': ['constant']}\n",
    "    },\n",
    "    'GradientBoosting': {\n",
    "        'model': GradientBoostingRegressor(),\n",
    "        'params': {'n_estimators': [100, 200], 'learning_rate': [0.01, 0.1]}\n",
    "    },\n",
    "    'XGBoost': {\n",
    "        'model': XGBRegressor(eval_metric='rmse'),\n",
    "        'params': {'n_estimators': [100, 200], 'learning_rate': [0.01, 0.1]}\n",
    "    }\n",
    "}\n",
    "\n",
    "# Definir las características (X) y la variable objetivo (y)\n",
    "X = df_encoded[['torneo_encoded', 'minute', 'penalty', 'team_encoded']]\n",
    "y = df_encoded['goles_anotados']\n",
    "\n",
    "# Dividir los datos en conjuntos de entrenamiento y prueba\n",
    "X_train, X_test, y_train, y_test = train_test_split(X, y, test_size=0.2, random_state=42)\n",
    "\n",
    "mejor_score = 0.0\n",
    "mejor_modelo = None\n",
    "resultados_modelos = []\n",
    "\n",
    "for nombre_modelo, mp in modelos.items():\n",
    "    reg = GridSearchCV(mp['model'], mp['params'], cv=5)\n",
    "    reg.fit(X_train, y_train)\n",
    "\n",
    "    resultado_modelo = {\n",
    "        'Modelo': nombre_modelo,\n",
    "        'Mejor Score': reg.best_score_,\n",
    "        'Mejores Parámetros': reg.best_params_\n",
    "    }\n",
    "\n",
    "    resultados_modelos.append(resultado_modelo)\n",
    "\n",
    "    if reg.best_score_ > mejor_score:\n",
    "        mejor_score = reg.best_score_\n",
    "        mejor_modelo = reg\n",
    "\n",
    "df_resultados = pd.DataFrame(resultados_modelos)\n",
    "\n",
    "print(df_resultados)\n",
    "print(f\"\\nEl mejor modelo es: {mejor_modelo.best_estimator_} con un score de: {mejor_score}\")\n",
    "\n",
    "# Guardar el mejor modelo\n",
    "dump(mejor_modelo, 'mejor_modelo.joblib')"
   ],
   "metadata": {
    "collapsed": false,
    "pycharm": {
     "name": "#%%\n"
    }
   }
  },
  {
   "cell_type": "code",
   "execution_count": 938,
   "outputs": [
    {
     "data": {
      "text/plain": "<Figure size 1000x600 with 1 Axes>",
      "image/png": "[encoded data removed]"
     },
     "metadata": {},
     "output_type": "display_data"
    }
   ],
   "source": [
    "# Cargar el mejor modelo entrenado\n",
    "mejor_modelo = load('mejor_modelo.joblib')\n",
    "\n",
    "# Obtener el modelo seleccionado del diccionario de modelos\n",
    "modelo_seleccionado = mejor_modelo.best_estimator_\n",
    "\n",
    "# Obtener las características utilizadas por el modelo seleccionado\n",
    "caracteristicas = X.columns\n",
    "\n",
    "# Obtener la importancia de características del modelo seleccionado\n",
    "importancias = modelo_seleccionado.feature_importances_\n",
    "\n",
    "# Crear un DataFrame para visualizar las importancias de características\n",
    "feature_importances = pd.DataFrame({'Feature': caracteristicas, 'Importance': importancias})\n",
    "\n",
    "# Ordenar las características por importancia descendente\n",
    "feature_importances = feature_importances.sort_values('Importance', ascending=False)\n",
    "\n",
    "# Visualizar las importancias de características\n",
    "plt.figure(figsize=(10, 6))\n",
    "plt.barh(feature_importances['Feature'], feature_importances['Importance'])\n",
    "plt.xlabel('Importance')\n",
    "plt.ylabel('Feature')\n",
    "plt.title('Feature Importance')\n",
    "plt.show()"
   ],
   "metadata": {
    "collapsed": false,
    "pycharm": {
     "name": "#%%\n"
    }
   }
  },
  {
   "cell_type": "code",
   "execution_count": 939,
   "outputs": [],
   "source": [
    "# Agrupar el DataFrame por el partido y calcular la media de los goles anotados por equipo\n",
    "df_encoded['goles_medios_team'] = df_encoded.groupby('partido')['goles_anotados'].transform('mean')"
   ],
   "metadata": {
    "collapsed": false,
    "pycharm": {
     "name": "#%%\n"
    }
   }
  },
  {
   "cell_type": "code",
   "execution_count": 940,
   "outputs": [
    {
     "name": "stdout",
     "output_type": "stream",
     "text": [
      "             Modelo  Mejor Score  \\\n",
      "0  LinearRegression     0.385166   \n",
      "1      DecisionTree     0.356342   \n",
      "2      RandomForest     0.418072   \n",
      "3               KNN     0.336363   \n",
      "4     NeuralNetwork     0.425997   \n",
      "5  GradientBoosting     0.444676   \n",
      "6           XGBoost     0.384739   \n",
      "\n",
      "                                  Mejores Parámetros  \n",
      "0                                                 {}  \n",
      "1                                   {'max_depth': 4}  \n",
      "2              {'max_depth': 4, 'n_estimators': 300}  \n",
      "3                                 {'n_neighbors': 9}  \n",
      "4  {'activation': 'tanh', 'alpha': 0.01, 'hidden_...  \n",
      "5        {'learning_rate': 0.1, 'n_estimators': 100}  \n",
      "6        {'learning_rate': 0.1, 'n_estimators': 100}  \n",
      "\n",
      "El mejor modelo es: GradientBoostingRegressor() con un score de: 0.4446756092926612\n"
     ]
    },
    {
     "data": {
      "text/plain": "['mejor_modelo.joblib']"
     },
     "execution_count": 940,
     "metadata": {},
     "output_type": "execute_result"
    }
   ],
   "source": [
    "import pandas as pd\n",
    "from sklearn.model_selection import train_test_split, GridSearchCV\n",
    "from sklearn.linear_model import LinearRegression\n",
    "from sklearn.tree import DecisionTreeRegressor\n",
    "from sklearn.ensemble import RandomForestRegressor, GradientBoostingRegressor\n",
    "from sklearn.svm import SVR\n",
    "from sklearn.neighbors import KNeighborsRegressor\n",
    "from sklearn.neural_network import MLPRegressor\n",
    "from xgboost import XGBRegressor\n",
    "from sklearn.metrics import mean_squared_error\n",
    "from joblib import dump\n",
    "\n",
    "modelos = {\n",
    "    'LinearRegression': {\n",
    "        'model': LinearRegression(),\n",
    "        'params': {}\n",
    "    },\n",
    "    'DecisionTree': {\n",
    "        'model': DecisionTreeRegressor(),\n",
    "        'params': {'max_depth': [4, 8, 12]}\n",
    "    },\n",
    "    'RandomForest': {\n",
    "        'model': RandomForestRegressor(),\n",
    "        'params': {'n_estimators': [100, 200, 300],\n",
    "                   'max_depth': [4, 8, 12]}\n",
    "    },\n",
    "    'KNN': {\n",
    "        'model': KNeighborsRegressor(),\n",
    "        'params': {'n_neighbors': [3, 5, 7, 9]}\n",
    "    },\n",
    "    'NeuralNetwork': {\n",
    "        'model': MLPRegressor(max_iter=2000),\n",
    "        'params': {'hidden_layer_sizes': [(50,50,50), (100,)],\n",
    "                   'activation': ['tanh', 'relu'],\n",
    "                   'solver': ['adam'],\n",
    "                   'alpha': [0.0001, 0.01],\n",
    "                   'learning_rate': ['constant']}\n",
    "    },\n",
    "    'GradientBoosting': {\n",
    "        'model': GradientBoostingRegressor(),\n",
    "        'params': {'n_estimators': [100, 200], 'learning_rate': [0.01, 0.1]}\n",
    "    },\n",
    "    'XGBoost': {\n",
    "        'model': XGBRegressor(eval_metric='rmse'),\n",
    "        'params': {'n_estimators': [100, 200], 'learning_rate': [0.01, 0.1]}\n",
    "    }\n",
    "}\n",
    "\n",
    "# Definir las características (X) y la variable objetivo (y)\n",
    "X = df_encoded[['minute', 'penalty', 'goles_medios_team']]\n",
    "y = df_encoded['goles_anotados']\n",
    "\n",
    "# Dividir los datos en conjuntos de entrenamiento y prueba\n",
    "X_train, X_test, y_train, y_test = train_test_split(X, y, test_size=0.2, random_state=42)\n",
    "\n",
    "mejor_score = 0.0\n",
    "mejor_modelo = None\n",
    "resultados_modelos = []\n",
    "\n",
    "for nombre_modelo, mp in modelos.items():\n",
    "    reg = GridSearchCV(mp['model'], mp['params'], cv=5)\n",
    "    reg.fit(X_train, y_train)\n",
    "\n",
    "    resultado_modelo = {\n",
    "        'Modelo': nombre_modelo,\n",
    "        'Mejor Score': reg.best_score_,\n",
    "        'Mejores Parámetros': reg.best_params_\n",
    "    }\n",
    "\n",
    "    resultados_modelos.append(resultado_modelo)\n",
    "\n",
    "    if reg.best_score_ > mejor_score:\n",
    "        mejor_score = reg.best_score_\n",
    "        mejor_modelo = reg\n",
    "\n",
    "df_resultados = pd.DataFrame(resultados_modelos)\n",
    "\n",
    "print(df_resultados)\n",
    "print(f\"\\nEl mejor modelo es: {mejor_modelo.best_estimator_} con un score de: {mejor_score}\")\n",
    "\n",
    "# Guardar el mejor modelo\n",
    "dump(mejor_modelo, 'mejor_modelo.joblib')"
   ],
   "metadata": {
    "collapsed": false,
    "pycharm": {
     "name": "#%%\n"
    }
   }
  },
  {
   "cell_type": "code",
   "execution_count": 941,
   "outputs": [
    {
     "data": {
      "text/plain": "<Figure size 1000x600 with 1 Axes>",
      "image/png": "[encoded data removed]"
     },
     "metadata": {},
     "output_type": "display_data"
    }
   ],
   "source": [
    "# Cargar el mejor modelo entrenado\n",
    "mejor_modelo = load('mejor_modelo.joblib')\n",
    "\n",
    "# Obtener el modelo seleccionado del diccionario de modelos\n",
    "modelo_seleccionado = mejor_modelo.best_estimator_\n",
    "\n",
    "# Obtener las características utilizadas por el modelo seleccionado\n",
    "caracteristicas = X.columns\n",
    "\n",
    "# Obtener la importancia de características del modelo seleccionado\n",
    "importancias = modelo_seleccionado.feature_importances_\n",
    "\n",
    "# Crear un DataFrame para visualizar las importancias de características\n",
    "feature_importances = pd.DataFrame({'Feature': caracteristicas, 'Importance': importancias})\n",
    "\n",
    "# Ordenar las características por importancia descendente\n",
    "feature_importances = feature_importances.sort_values('Importance', ascending=False)\n",
    "\n",
    "# Visualizar las importancias de características\n",
    "plt.figure(figsize=(10, 6))\n",
    "plt.barh(feature_importances['Feature'], feature_importances['Importance'])\n",
    "plt.xlabel('Importance')\n",
    "plt.ylabel('Feature')\n",
    "plt.title('Feature Importance')\n",
    "plt.show()"
   ],
   "metadata": {
    "collapsed": false,
    "pycharm": {
     "name": "#%%\n"
    }
   }
  },
  {
   "cell_type": "code",
   "execution_count": null,
   "outputs": [],
   "source": [],
   "metadata": {
    "collapsed": false,
    "pycharm": {
     "name": "#%%\n"
    }
   }
  },
  {
   "cell_type": "code",
   "execution_count": 948,
   "outputs": [
    {
     "name": "stdout",
     "output_type": "stream",
     "text": [
      "             Modelo  Mejor Score  \\\n",
      "0  LinearRegression     0.385166   \n",
      "1      DecisionTree     0.356342   \n",
      "2      RandomForest     0.418389   \n",
      "3               KNN     0.336363   \n",
      "4     NeuralNetwork     0.427490   \n",
      "5  GradientBoosting     0.445389   \n",
      "6           XGBoost     0.384739   \n",
      "\n",
      "                                  Mejores Parámetros  \n",
      "0                                                 {}  \n",
      "1                                   {'max_depth': 4}  \n",
      "2              {'max_depth': 4, 'n_estimators': 100}  \n",
      "3                                 {'n_neighbors': 9}  \n",
      "4  {'activation': 'tanh', 'alpha': 0.0001, 'hidde...  \n",
      "5        {'learning_rate': 0.1, 'n_estimators': 100}  \n",
      "6        {'learning_rate': 0.1, 'n_estimators': 100}  \n",
      "\n",
      "El mejor modelo es: GradientBoostingRegressor() con un score de: 0.4453889745031354\n"
     ]
    },
    {
     "data": {
      "text/plain": "['mejor_modelo.joblib']"
     },
     "execution_count": 948,
     "metadata": {},
     "output_type": "execute_result"
    }
   ],
   "source": [
    "import pandas as pd\n",
    "from sklearn.model_selection import train_test_split, GridSearchCV\n",
    "from sklearn.linear_model import LinearRegression\n",
    "from sklearn.tree import DecisionTreeRegressor\n",
    "from sklearn.ensemble import RandomForestRegressor, GradientBoostingRegressor\n",
    "from sklearn.svm import SVR\n",
    "from sklearn.neighbors import KNeighborsRegressor\n",
    "from sklearn.neural_network import MLPRegressor\n",
    "from xgboost import XGBRegressor\n",
    "from sklearn.metrics import mean_squared_error\n",
    "from joblib import dump\n",
    "\n",
    "modelos = {\n",
    "    'LinearRegression': {\n",
    "        'model': LinearRegression(),\n",
    "        'params': {}\n",
    "    },\n",
    "    'DecisionTree': {\n",
    "        'model': DecisionTreeRegressor(),\n",
    "        'params': {'max_depth': [4, 8, 12]}\n",
    "    },\n",
    "    'RandomForest': {\n",
    "        'model': RandomForestRegressor(),\n",
    "        'params': {'n_estimators': [100, 200, 300],\n",
    "                   'max_depth': [4, 8, 12]}\n",
    "    },\n",
    "    'KNN': {\n",
    "        'model': KNeighborsRegressor(),\n",
    "        'params': {'n_neighbors': [3, 5, 7, 9]}\n",
    "    },\n",
    "    'NeuralNetwork': {\n",
    "        'model': MLPRegressor(max_iter=2000),\n",
    "        'params': {'hidden_layer_sizes': [(50,50,50), (100,)],\n",
    "                   'activation': ['tanh', 'relu'],\n",
    "                   'solver': ['adam'],\n",
    "                   'alpha': [0.0001, 0.01],\n",
    "                   'learning_rate': ['constant']}\n",
    "    },\n",
    "    'GradientBoosting': {\n",
    "        'model': GradientBoostingRegressor(),\n",
    "        'params': {'n_estimators': [100, 200], 'learning_rate': [0.01, 0.1]}\n",
    "    },\n",
    "    'XGBoost': {\n",
    "        'model': XGBRegressor(eval_metric='rmse'),\n",
    "        'params': {'n_estimators': [100, 200], 'learning_rate': [0.01, 0.1]}\n",
    "    }\n",
    "}\n",
    "\n",
    "# Definir las características (X) y la variable objetivo (y)\n",
    "X = df_encoded[['minute', 'penalty', 'goles_medios_team']]\n",
    "y = df_encoded['goles_anotados']\n",
    "\n",
    "# Dividir los datos en conjuntos de entrenamiento y prueba\n",
    "X_train, X_test, y_train, y_test = train_test_split(X, y, test_size=0.2, random_state=42)\n",
    "\n",
    "mejor_score = 0.0\n",
    "mejor_modelo = None\n",
    "resultados_modelos = []\n",
    "\n",
    "for nombre_modelo, mp in modelos.items():\n",
    "    reg = GridSearchCV(mp['model'], mp['params'], cv=5)\n",
    "    reg.fit(X_train, y_train)\n",
    "\n",
    "    resultado_modelo = {\n",
    "        'Modelo': nombre_modelo,\n",
    "        'Mejor Score': reg.best_score_,\n",
    "        'Mejores Parámetros': reg.best_params_\n",
    "    }\n",
    "\n",
    "    resultados_modelos.append(resultado_modelo)\n",
    "\n",
    "    if reg.best_score_ > mejor_score:\n",
    "        mejor_score = reg.best_score_\n",
    "        mejor_modelo = reg\n",
    "\n",
    "df_resultados = pd.DataFrame(resultados_modelos)\n",
    "\n",
    "print(df_resultados)\n",
    "print(f\"\\nEl mejor modelo es: {mejor_modelo.best_estimator_} con un score de: {mejor_score}\")\n",
    "\n",
    "# Guardar el mejor modelo\n",
    "dump(mejor_modelo, 'mejor_modelo.joblib')"
   ],
   "metadata": {
    "collapsed": false,
    "pycharm": {
     "name": "#%%\n"
    }
   }
  },
  {
   "cell_type": "code",
   "execution_count": 949,
   "outputs": [
    {
     "name": "stdout",
     "output_type": "stream",
     "text": [
      "             Modelo  Mejor Score  \\\n",
      "0  LinearRegression     0.385166   \n",
      "1      DecisionTree     0.356342   \n",
      "2      RandomForest     0.418124   \n",
      "3               KNN     0.399140   \n",
      "4     NeuralNetwork     0.450547   \n",
      "5  GradientBoosting     0.444671   \n",
      "6           XGBoost     0.385573   \n",
      "\n",
      "                                  Mejores Parámetros  \n",
      "0                                                 {}  \n",
      "1                                   {'max_depth': 4}  \n",
      "2              {'max_depth': 4, 'n_estimators': 100}  \n",
      "3                                 {'n_neighbors': 9}  \n",
      "4  {'activation': 'relu', 'alpha': 0.01, 'hidden_...  \n",
      "5        {'learning_rate': 0.1, 'n_estimators': 100}  \n",
      "6        {'learning_rate': 0.1, 'n_estimators': 100}  \n",
      "\n",
      "El mejor modelo es: MLPRegressor(alpha=0.01, hidden_layer_sizes=(50, 50, 50), max_iter=2000) con un score de: 0.4505473539976384\n"
     ]
    },
    {
     "data": {
      "text/plain": "['mejor_modelo.joblib']"
     },
     "execution_count": 949,
     "metadata": {},
     "output_type": "execute_result"
    }
   ],
   "source": [
    "import pandas as pd\n",
    "from sklearn.model_selection import train_test_split, GridSearchCV\n",
    "from sklearn.linear_model import LinearRegression\n",
    "from sklearn.tree import DecisionTreeRegressor\n",
    "from sklearn.ensemble import RandomForestRegressor, GradientBoostingRegressor\n",
    "from sklearn.svm import SVR\n",
    "from sklearn.neighbors import KNeighborsRegressor\n",
    "from sklearn.neural_network import MLPRegressor\n",
    "from xgboost import XGBRegressor\n",
    "from sklearn.preprocessing import StandardScaler\n",
    "from sklearn.metrics import mean_squared_error\n",
    "from joblib import dump\n",
    "\n",
    "modelos = {\n",
    "    'LinearRegression': {\n",
    "        'model': LinearRegression(),\n",
    "        'params': {}\n",
    "    },\n",
    "    'DecisionTree': {\n",
    "        'model': DecisionTreeRegressor(),\n",
    "        'params': {'max_depth': [4, 8, 12]}\n",
    "    },\n",
    "    'RandomForest': {\n",
    "        'model': RandomForestRegressor(),\n",
    "        'params': {'n_estimators': [100, 200, 300],\n",
    "                   'max_depth': [4, 8, 12]}\n",
    "    },\n",
    "    'KNN': {\n",
    "        'model': KNeighborsRegressor(),\n",
    "        'params': {'n_neighbors': [3, 5, 7, 9]}\n",
    "    },\n",
    "    'NeuralNetwork': {\n",
    "        'model': MLPRegressor(max_iter=2000),\n",
    "        'params': {'hidden_layer_sizes': [(50,50,50), (100,)],\n",
    "                   'activation': ['tanh', 'relu'],\n",
    "                   'solver': ['adam'],\n",
    "                   'alpha': [0.0001, 0.01],\n",
    "                   'learning_rate': ['constant']}\n",
    "    },\n",
    "    'GradientBoosting': {\n",
    "        'model': GradientBoostingRegressor(),\n",
    "        'params': {'n_estimators': [100, 200], 'learning_rate': [0.01, 0.1]}\n",
    "    },\n",
    "    'XGBoost': {\n",
    "        'model': XGBRegressor(eval_metric='rmse'),\n",
    "        'params': {'n_estimators': [100, 200], 'learning_rate': [0.01, 0.1]}\n",
    "    }\n",
    "}\n",
    "\n",
    "# Definir las características (X) y la variable objetivo (y)\n",
    "X = df_encoded[['minute', 'penalty', 'goles_medios_team']]\n",
    "y = df_encoded['goles_anotados']\n",
    "\n",
    "# Dividir los datos en conjuntos de entrenamiento y prueba\n",
    "X_train, X_test, y_train, y_test = train_test_split(X, y, test_size=0.2, random_state=42)\n",
    "\n",
    "# Normalizar los datos utilizando la estandarización\n",
    "scaler = StandardScaler()\n",
    "X_train_scaled = scaler.fit_transform(X_train)\n",
    "X_test_scaled = scaler.transform(X_test)\n",
    "\n",
    "mejor_score = 0.0\n",
    "mejor_modelo = None\n",
    "resultados_modelos = []\n",
    "\n",
    "for nombre_modelo, mp in modelos.items():\n",
    "    reg = GridSearchCV(mp['model'], mp['params'], cv=5)\n",
    "    reg.fit(X_train_scaled, y_train)\n",
    "\n",
    "    resultado_modelo = {\n",
    "        'Modelo': nombre_modelo,\n",
    "        'Mejor Score': reg.best_score_,\n",
    "        'Mejores Parámetros': reg.best_params_\n",
    "    }\n",
    "\n",
    "    resultados_modelos.append(resultado_modelo)\n",
    "\n",
    "    if reg.best_score_ > mejor_score:\n",
    "        mejor_score = reg.best_score_\n",
    "        mejor_modelo = reg\n",
    "\n",
    "df_resultados = pd.DataFrame(resultados_modelos)\n",
    "\n",
    "print(df_resultados)\n",
    "print(f\"\\nEl mejor modelo es: {mejor_modelo.best_estimator_} con un score de: {mejor_score}\")\n",
    "\n",
    "# Guardar el mejor modelo\n",
    "dump(mejor_modelo, 'mejor_modelo.joblib')"
   ],
   "metadata": {
    "collapsed": false,
    "pycharm": {
     "name": "#%%\n"
    }
   }
  },
  {
   "cell_type": "code",
   "execution_count": 943,
   "outputs": [
    {
     "name": "stdout",
     "output_type": "stream",
     "text": [
      "             Modelo  Mejor Score  \\\n",
      "0  LinearRegression     0.385691   \n",
      "1      DecisionTree     0.355502   \n",
      "2      RandomForest     0.415264   \n",
      "3               KNN     0.295595   \n",
      "4     NeuralNetwork     0.423781   \n",
      "5  GradientBoosting     0.422493   \n",
      "6           XGBoost     0.363840   \n",
      "\n",
      "                                  Mejores Parámetros  \n",
      "0                                                 {}  \n",
      "1                                   {'max_depth': 4}  \n",
      "2              {'max_depth': 4, 'n_estimators': 200}  \n",
      "3                                 {'n_neighbors': 7}  \n",
      "4  {'activation': 'tanh', 'alpha': 0.0001, 'hidde...  \n",
      "5        {'learning_rate': 0.1, 'n_estimators': 100}  \n",
      "6        {'learning_rate': 0.1, 'n_estimators': 100}  \n",
      "\n",
      "El mejor modelo es: MLPRegressor(activation='tanh', max_iter=2000) con un score de: 0.42378147016420586\n"
     ]
    },
    {
     "data": {
      "text/plain": "['mejor_modelo.joblib']"
     },
     "execution_count": 943,
     "metadata": {},
     "output_type": "execute_result"
    }
   ],
   "source": [
    "import pandas as pd\n",
    "from sklearn.model_selection import train_test_split, GridSearchCV\n",
    "from sklearn.linear_model import LinearRegression\n",
    "from sklearn.tree import DecisionTreeRegressor\n",
    "from sklearn.ensemble import RandomForestRegressor, GradientBoostingRegressor\n",
    "from sklearn.svm import SVR\n",
    "from sklearn.neighbors import KNeighborsRegressor\n",
    "from sklearn.neural_network import MLPRegressor\n",
    "from xgboost import XGBRegressor\n",
    "from sklearn.metrics import mean_squared_error\n",
    "from joblib import dump\n",
    "\n",
    "modelos = {\n",
    "    'LinearRegression': {\n",
    "        'model': LinearRegression(),\n",
    "        'params': {}\n",
    "    },\n",
    "    'DecisionTree': {\n",
    "        'model': DecisionTreeRegressor(),\n",
    "        'params': {'max_depth': [4, 8, 12]}\n",
    "    },\n",
    "    'RandomForest': {\n",
    "        'model': RandomForestRegressor(),\n",
    "        'params': {'n_estimators': [100, 200, 300],\n",
    "                   'max_depth': [4, 8, 12]}\n",
    "    },\n",
    "    'KNN': {\n",
    "        'model': KNeighborsRegressor(),\n",
    "        'params': {'n_neighbors': [3, 5, 7, 9]}\n",
    "    },\n",
    "    'NeuralNetwork': {\n",
    "        'model': MLPRegressor(max_iter=2000),\n",
    "        'params': {'hidden_layer_sizes': [(50,50,50), (100,)],\n",
    "                   'activation': ['tanh', 'relu'],\n",
    "                   'solver': ['adam'],\n",
    "                   'alpha': [0.0001, 0.01],\n",
    "                   'learning_rate': ['constant']}\n",
    "    },\n",
    "    'GradientBoosting': {\n",
    "        'model': GradientBoostingRegressor(),\n",
    "        'params': {'n_estimators': [100, 200], 'learning_rate': [0.01, 0.1]}\n",
    "    },\n",
    "    'XGBoost': {\n",
    "        'model': XGBRegressor(eval_metric='rmse'),\n",
    "        'params': {'n_estimators': [100, 200], 'learning_rate': [0.01, 0.1]}\n",
    "    }\n",
    "}\n",
    "\n",
    "# Definir las características (X) y la variable objetivo (y)\n",
    "X = df_encoded[['torneo_encoded', 'minute', 'penalty', 'goles_medios_team', 'team_encoded']]\n",
    "y = df_encoded['goles_anotados']\n",
    "\n",
    "# Dividir los datos en conjuntos de entrenamiento y prueba\n",
    "X_train, X_test, y_train, y_test = train_test_split(X, y, test_size=0.2, random_state=42)\n",
    "\n",
    "mejor_score = 0.0\n",
    "mejor_modelo = None\n",
    "resultados_modelos = []\n",
    "\n",
    "for nombre_modelo, mp in modelos.items():\n",
    "    reg = GridSearchCV(mp['model'], mp['params'], cv=5)\n",
    "    reg.fit(X_train, y_train)\n",
    "\n",
    "    resultado_modelo = {\n",
    "        'Modelo': nombre_modelo,\n",
    "        'Mejor Score': reg.best_score_,\n",
    "        'Mejores Parámetros': reg.best_params_\n",
    "    }\n",
    "\n",
    "    resultados_modelos.append(resultado_modelo)\n",
    "\n",
    "    if reg.best_score_ > mejor_score:\n",
    "        mejor_score = reg.best_score_\n",
    "        mejor_modelo = reg\n",
    "\n",
    "df_resultados = pd.DataFrame(resultados_modelos)\n",
    "\n",
    "print(df_resultados)\n",
    "print(f\"\\nEl mejor modelo es: {mejor_modelo.best_estimator_} con un score de: {mejor_score}\")\n",
    "\n",
    "# Guardar el mejor modelo\n",
    "dump(mejor_modelo, 'mejor_modelo.joblib')"
   ],
   "metadata": {
    "collapsed": false,
    "pycharm": {
     "name": "#%%\n"
    }
   }
  },
  {
   "cell_type": "code",
   "execution_count": 947,
   "outputs": [
    {
     "name": "stdout",
     "output_type": "stream",
     "text": [
      "             Feature  Coeficient\n",
      "3  goles_medios_team    0.046078\n",
      "4       team_encoded    0.017432\n",
      "2            penalty    0.014013\n",
      "1             minute    0.012072\n",
      "0     torneo_encoded    0.004374\n"
     ]
    }
   ],
   "source": [
    "# Cargar el mejor modelo entrenado\n",
    "mejor_modelo = load('mejor_modelo.joblib')\n",
    "\n",
    "# Obtener el modelo seleccionado del diccionario de modelos\n",
    "modelo_seleccionado = mejor_modelo.best_estimator_\n",
    "\n",
    "# Obtener las características utilizadas por el modelo seleccionado\n",
    "caracteristicas = X.columns\n",
    "\n",
    "# Obtener los coeficientes de características del modelo seleccionado\n",
    "if isinstance(modelo_seleccionado, MLPRegressor):\n",
    "    coeficientes = modelo_seleccionado.coefs_[0].mean(axis=1)\n",
    "else:\n",
    "    coeficientes = modelo_seleccionado.feature_importances_\n",
    "\n",
    "# Crear un DataFrame para visualizar los coeficientes de características\n",
    "feature_coefs = pd.DataFrame({'Feature': caracteristicas, 'Coeficient': coeficientes})\n",
    "\n",
    "# Ordenar las características por coeficiente descendente\n",
    "feature_coefs = feature_coefs.sort_values('Coeficient', ascending=False)\n",
    "\n",
    "# Imprimir los coeficientes de características\n",
    "print(feature_coefs)"
   ],
   "metadata": {
    "collapsed": false,
    "pycharm": {
     "name": "#%%\n"
    }
   }
  },
  {
   "cell_type": "code",
   "execution_count": null,
   "outputs": [],
   "source": [],
   "metadata": {
    "collapsed": false,
    "pycharm": {
     "name": "#%%\n"
    }
   }
  },
  {
   "cell_type": "code",
   "execution_count": null,
   "outputs": [],
   "source": [],
   "metadata": {
    "collapsed": false,
    "pycharm": {
     "name": "#%%\n"
    }
   }
  },
  {
   "cell_type": "code",
   "execution_count": null,
   "outputs": [],
   "source": [],
   "metadata": {
    "collapsed": false,
    "pycharm": {
     "name": "#%%\n"
    }
   }
  },
  {
   "cell_type": "code",
   "execution_count": null,
   "outputs": [],
   "source": [
    "### probabilidad victoria equipos"
   ],
   "metadata": {
    "collapsed": false,
    "pycharm": {
     "name": "#%%\n"
    }
   }
  }
 ],
 "metadata": {
  "kernelspec": {
   "display_name": "Python 3",
   "language": "python",
   "name": "python3"
  },
  "language_info": {
   "codemirror_mode": {
    "name": "ipython",
    "version": 2
   },
   "file_extension": ".py",
   "mimetype": "text/x-python",
   "name": "python",
   "nbconvert_exporter": "python",
   "pygments_lexer": "ipython2",
   "version": "2.7.6"
  }
 },
 "nbformat": 4,
 "nbformat_minor": 0
}